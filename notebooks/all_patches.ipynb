{
 "cells": [
  {
   "cell_type": "code",
   "execution_count": 1,
   "id": "ecfdba77-3aa4-4114-ba67-ecb23eabaeaf",
   "metadata": {},
   "outputs": [],
   "source": [
    "from dl1_data_handler.reader import DLWaveformReader, DLDataReader, TableQualityQuery, DLRawTriggerReader\n",
    "import matplotlib.pyplot as plt\n",
    "import numpy as np\n",
    "from ctapipe.io import EventSource\n",
    "from ctapipe.visualization import CameraDisplay\n",
    "from ctapipe.core.traits import List\n",
    "from ctapipe.core import QualityQuery\n",
    "import time\n",
    "from pathlib import Path"
   ]
  },
  {
   "cell_type": "code",
   "execution_count": 3,
   "id": "c6ace4d4-8518-4a3f-8659-cdc35b61393b",
   "metadata": {},
   "outputs": [],
   "source": [
    "reader = DLRawTriggerReader(input_url_signal=[\"/gamma3/users/jbuces/software/mc_data/trigerless_gammas/reduced_ctapipe/corsika_run1.dl1b.h5\"],\n",
    "                              image_mapper_type  = \"ShiftingMapper\",\n",
    "                              mode = \"mono\",\n",
    "                              sequence_position= \"maximum\", \n",
    "                              output_settings = \"hot_patch\",\n",
    "                              hot_pixel_from_simulation = True,\n",
    "                              trigger_settings = {\"number_of_trigger_patches\" : 7,\"nsb_threshold\" : 0, \"interleave_patches\" : False},\n",
    "                              sequence_length = 10,\n",
    "                              allowed_tel_types=[\"LST_UNKNOWN-387M2_UNKNOWN-7987PX\"],\n",
    "                              allowed_tels = [1],\n",
    "                              quality_cuts = False)"
   ]
  },
  {
   "cell_type": "code",
   "execution_count": 6,
   "id": "1e52bd7c-5029-4fa9-b7f7-d4199e0b8dbe",
   "metadata": {
    "scrolled": true
   },
   "outputs": [
    {
     "name": "stdout",
     "output_type": "stream",
     "text": [
      "1.12 s ± 2.22 ms per loop (mean ± std. dev. of 7 runs, 1 loop each)\n"
     ]
    }
   ],
   "source": [
    "%%timeit\n",
    "\n",
    "reader = DLRawTriggerReader(input_url_signal=[\"/gamma3/users/jbuces/software/mc_data/trigerless_gammas/reduced_ctapipe/corsika_run1.dl1b.h5\"],\n",
    "                              image_mapper_type  = \"ShiftingMapper\",\n",
    "                              mode = \"mono\",\n",
    "                              sequence_position= \"maximum\", \n",
    "                              output_settings = \"hot_patch\",\n",
    "                              hot_pixel_from_simulation = True,\n",
    "                              trigger_settings = {\"number_of_trigger_patches\" : 7,\"nsb_threshold\" : 0, \"interleave_patches\" : False},\n",
    "                              sequence_length = 10,\n",
    "                              allowed_tel_types=[\"LST_UNKNOWN-387M2_UNKNOWN-7987PX\"],\n",
    "                              allowed_tels = [1],\n",
    "                              quality_cuts = False)"
   ]
  },
  {
   "cell_type": "code",
   "execution_count": 7,
   "id": "ec93226d-017d-4cb8-a30d-e53a84ab55aa",
   "metadata": {},
   "outputs": [
    {
     "ename": "ValueError",
     "evalue": "operands could not be broadcast together with shapes (49,2) (3,) ",
     "output_type": "error",
     "traceback": [
      "\u001b[0;31m---------------------------------------------------------------------------\u001b[0m",
      "\u001b[0;31mValueError\u001b[0m                                Traceback (most recent call last)",
      "Cell \u001b[0;32mIn[7], line 1\u001b[0m\n\u001b[0;32m----> 1\u001b[0m \u001b[43mget_ipython\u001b[49m\u001b[43m(\u001b[49m\u001b[43m)\u001b[49m\u001b[38;5;241;43m.\u001b[39;49m\u001b[43mrun_line_magic\u001b[49m\u001b[43m(\u001b[49m\u001b[38;5;124;43m'\u001b[39;49m\u001b[38;5;124;43mtimeit\u001b[39;49m\u001b[38;5;124;43m'\u001b[39;49m\u001b[43m,\u001b[49m\u001b[43m \u001b[49m\u001b[38;5;124;43m'\u001b[39;49m\u001b[38;5;124;43mreader.generate_mono_batch(batch_indices = list(np.arange(49*3)))\u001b[39;49m\u001b[38;5;124;43m'\u001b[39;49m\u001b[43m)\u001b[49m\n",
      "File \u001b[0;32m~/miniconda3/envs/dl1dh/lib/python3.13/site-packages/IPython/core/interactiveshell.py:2482\u001b[0m, in \u001b[0;36mInteractiveShell.run_line_magic\u001b[0;34m(self, magic_name, line, _stack_depth)\u001b[0m\n\u001b[1;32m   2480\u001b[0m     kwargs[\u001b[38;5;124m'\u001b[39m\u001b[38;5;124mlocal_ns\u001b[39m\u001b[38;5;124m'\u001b[39m] \u001b[38;5;241m=\u001b[39m \u001b[38;5;28mself\u001b[39m\u001b[38;5;241m.\u001b[39mget_local_scope(stack_depth)\n\u001b[1;32m   2481\u001b[0m \u001b[38;5;28;01mwith\u001b[39;00m \u001b[38;5;28mself\u001b[39m\u001b[38;5;241m.\u001b[39mbuiltin_trap:\n\u001b[0;32m-> 2482\u001b[0m     result \u001b[38;5;241m=\u001b[39m \u001b[43mfn\u001b[49m\u001b[43m(\u001b[49m\u001b[38;5;241;43m*\u001b[39;49m\u001b[43margs\u001b[49m\u001b[43m,\u001b[49m\u001b[43m \u001b[49m\u001b[38;5;241;43m*\u001b[39;49m\u001b[38;5;241;43m*\u001b[39;49m\u001b[43mkwargs\u001b[49m\u001b[43m)\u001b[49m\n\u001b[1;32m   2484\u001b[0m \u001b[38;5;66;03m# The code below prevents the output from being displayed\u001b[39;00m\n\u001b[1;32m   2485\u001b[0m \u001b[38;5;66;03m# when using magics with decorator @output_can_be_silenced\u001b[39;00m\n\u001b[1;32m   2486\u001b[0m \u001b[38;5;66;03m# when the last Python token in the expression is a ';'.\u001b[39;00m\n\u001b[1;32m   2487\u001b[0m \u001b[38;5;28;01mif\u001b[39;00m \u001b[38;5;28mgetattr\u001b[39m(fn, magic\u001b[38;5;241m.\u001b[39mMAGIC_OUTPUT_CAN_BE_SILENCED, \u001b[38;5;28;01mFalse\u001b[39;00m):\n",
      "File \u001b[0;32m~/miniconda3/envs/dl1dh/lib/python3.13/site-packages/IPython/core/magics/execution.py:1209\u001b[0m, in \u001b[0;36mExecutionMagics.timeit\u001b[0;34m(self, line, cell, local_ns)\u001b[0m\n\u001b[1;32m   1207\u001b[0m \u001b[38;5;28;01mfor\u001b[39;00m index \u001b[38;5;129;01min\u001b[39;00m \u001b[38;5;28mrange\u001b[39m(\u001b[38;5;241m0\u001b[39m, \u001b[38;5;241m10\u001b[39m):\n\u001b[1;32m   1208\u001b[0m     number \u001b[38;5;241m=\u001b[39m \u001b[38;5;241m10\u001b[39m \u001b[38;5;241m*\u001b[39m\u001b[38;5;241m*\u001b[39m index\n\u001b[0;32m-> 1209\u001b[0m     time_number \u001b[38;5;241m=\u001b[39m \u001b[43mtimer\u001b[49m\u001b[38;5;241;43m.\u001b[39;49m\u001b[43mtimeit\u001b[49m\u001b[43m(\u001b[49m\u001b[43mnumber\u001b[49m\u001b[43m)\u001b[49m\n\u001b[1;32m   1210\u001b[0m     \u001b[38;5;28;01mif\u001b[39;00m time_number \u001b[38;5;241m>\u001b[39m\u001b[38;5;241m=\u001b[39m \u001b[38;5;241m0.2\u001b[39m:\n\u001b[1;32m   1211\u001b[0m         \u001b[38;5;28;01mbreak\u001b[39;00m\n",
      "File \u001b[0;32m~/miniconda3/envs/dl1dh/lib/python3.13/site-packages/IPython/core/magics/execution.py:173\u001b[0m, in \u001b[0;36mTimer.timeit\u001b[0;34m(self, number)\u001b[0m\n\u001b[1;32m    171\u001b[0m gc\u001b[38;5;241m.\u001b[39mdisable()\n\u001b[1;32m    172\u001b[0m \u001b[38;5;28;01mtry\u001b[39;00m:\n\u001b[0;32m--> 173\u001b[0m     timing \u001b[38;5;241m=\u001b[39m \u001b[38;5;28;43mself\u001b[39;49m\u001b[38;5;241;43m.\u001b[39;49m\u001b[43minner\u001b[49m\u001b[43m(\u001b[49m\u001b[43mit\u001b[49m\u001b[43m,\u001b[49m\u001b[43m \u001b[49m\u001b[38;5;28;43mself\u001b[39;49m\u001b[38;5;241;43m.\u001b[39;49m\u001b[43mtimer\u001b[49m\u001b[43m)\u001b[49m\n\u001b[1;32m    174\u001b[0m \u001b[38;5;28;01mfinally\u001b[39;00m:\n\u001b[1;32m    175\u001b[0m     \u001b[38;5;28;01mif\u001b[39;00m gcold:\n",
      "File \u001b[0;32m<magic-timeit>:1\u001b[0m, in \u001b[0;36minner\u001b[0;34m(_it, _timer)\u001b[0m\n",
      "File \u001b[0;32m/gamma3/users/jbuces/software/dl1-data-handler/dl1_data_handler/reader.py:884\u001b[0m, in \u001b[0;36mDLDataReader.generate_mono_batch\u001b[0;34m(self, batch_indices)\u001b[0m\n\u001b[1;32m    882\u001b[0m     batch \u001b[38;5;241m=\u001b[39m Table(rows\u001b[38;5;241m=\u001b[39mbatch)\n\u001b[1;32m    883\u001b[0m \u001b[38;5;66;03m# Append the features from child classes to the batch\u001b[39;00m\n\u001b[0;32m--> 884\u001b[0m batch \u001b[38;5;241m=\u001b[39m \u001b[38;5;28;43mself\u001b[39;49m\u001b[38;5;241;43m.\u001b[39;49m\u001b[43m_append_features\u001b[49m\u001b[43m(\u001b[49m\u001b[43mbatch\u001b[49m\u001b[43m)\u001b[49m\n\u001b[1;32m    885\u001b[0m \u001b[38;5;28;01mreturn\u001b[39;00m batch\n",
      "File \u001b[0;32m/gamma3/users/jbuces/software/dl1-data-handler/dl1_data_handler/reader.py:1886\u001b[0m, in \u001b[0;36mDLRawTriggerReader._append_features\u001b[0;34m(self, batch)\u001b[0m\n\u001b[1;32m   1884\u001b[0m \u001b[38;5;28;01melif\u001b[39;00m random_trigger_patch \u001b[38;5;241m==\u001b[39m \u001b[38;5;28;01mFalse\u001b[39;00m:\n\u001b[1;32m   1885\u001b[0m     patch_positions \u001b[38;5;241m=\u001b[39m np\u001b[38;5;241m.\u001b[39marray([(p[\u001b[38;5;124m\"\u001b[39m\u001b[38;5;124mx\u001b[39m\u001b[38;5;124m\"\u001b[39m], p[\u001b[38;5;124m\"\u001b[39m\u001b[38;5;124my\u001b[39m\u001b[38;5;124m\"\u001b[39m]) \u001b[38;5;28;01mfor\u001b[39;00m p \u001b[38;5;129;01min\u001b[39;00m \u001b[38;5;28mself\u001b[39m\u001b[38;5;241m.\u001b[39mtrigger_settings[\u001b[38;5;124m\"\u001b[39m\u001b[38;5;124mtrigger_patches\u001b[39m\u001b[38;5;124m\"\u001b[39m]])\n\u001b[0;32m-> 1886\u001b[0m     distances \u001b[38;5;241m=\u001b[39m np\u001b[38;5;241m.\u001b[39msum((\u001b[43mpatch_positions\u001b[49m\u001b[43m \u001b[49m\u001b[38;5;241;43m-\u001b[39;49m\u001b[43m \u001b[49m\u001b[43mhot_spot\u001b[49m) \u001b[38;5;241m*\u001b[39m\u001b[38;5;241m*\u001b[39m \u001b[38;5;241m2\u001b[39m, axis\u001b[38;5;241m=\u001b[39m\u001b[38;5;241m1\u001b[39m)\n\u001b[1;32m   1887\u001b[0m     closest_patch_idx \u001b[38;5;241m=\u001b[39m np\u001b[38;5;241m.\u001b[39margmin(distances)\n\u001b[1;32m   1888\u001b[0m     trigger_patch_true_image_sum \u001b[38;5;241m=\u001b[39m patch_sums[closest_patch_idx]\n",
      "\u001b[0;31mValueError\u001b[0m: operands could not be broadcast together with shapes (49,2) (3,) "
     ]
    }
   ],
   "source": [
    "%timeit reader.generate_mono_batch(batch_indices = list(np.arange(49*3)))"
   ]
  },
  {
   "cell_type": "code",
   "execution_count": 5,
   "id": "7d022c49-8f9f-40dc-9747-56bc230f6f2d",
   "metadata": {},
   "outputs": [
    {
     "data": {
      "text/html": [
       "<div><i>Table length=49</i>\n",
       "<table id=\"table139785018101792\" class=\"table-striped table-bordered table-condensed\">\n",
       "<thead><tr><th>index</th><th>file_index</th><th>table_index</th><th>obs_id</th><th>tel_type_id</th><th>event_id</th><th>tel_id</th><th>true_energy</th><th>true_alt</th><th>true_az</th><th>true_shower_primary_id</th><th>spherical_offset_az</th><th>spherical_offset_alt</th><th>angular_separation</th><th>log_true_energy</th><th>true_shower_primary_class</th><th>patch_index</th><th>cherenkov_pe</th><th>waveform</th></tr></thead>\n",
       "<thead><tr><th></th><th></th><th></th><th></th><th></th><th></th><th></th><th>TeV</th><th>deg</th><th>deg</th><th></th><th>deg</th><th>deg</th><th>deg</th><th>TeV</th><th></th><th></th><th></th><th></th></tr></thead>\n",
       "<thead><tr><th>int64</th><th>int64</th><th>int64</th><th>int32</th><th>int64</th><th>int64</th><th>int64</th><th>float64</th><th>float64</th><th>float64</th><th>int64</th><th>float64</th><th>float64</th><th>float64</th><th>float64</th><th>int64</th><th>int64</th><th>int64</th><th>float32[28,28,10]</th></tr></thead>\n",
       "<tr><td>0</td><td>0</td><td>0</td><td>1</td><td>0</td><td>502</td><td>1</td><td>0.010171852074563503</td><td>70.8581309781398</td><td>181.60217614294456</td><td>0</td><td>0.525364040491684</td><td>0.8650344210526874</td><td>1.0120627219315363</td><td>-1.9925999642324606</td><td>1</td><td>38</td><td>51</td><td>295.0 .. 298.0</td></tr>\n",
       "<tr><td>1</td><td>0</td><td>0</td><td>1</td><td>0</td><td>502</td><td>1</td><td>0.010171852074563503</td><td>70.8581309781398</td><td>181.60217614294456</td><td>0</td><td>0.525364040491684</td><td>0.8650344210526874</td><td>1.0120627219315363</td><td>-1.9925999642324606</td><td>1</td><td>25</td><td>16</td><td>307.0 .. 307.0</td></tr>\n",
       "<tr><td>2</td><td>0</td><td>0</td><td>1</td><td>0</td><td>502</td><td>1</td><td>0.010171852074563503</td><td>70.8581309781398</td><td>181.60217614294456</td><td>0</td><td>0.525364040491684</td><td>0.8650344210526874</td><td>1.0120627219315363</td><td>-1.9925999642324606</td><td>1</td><td>39</td><td>49</td><td>303.0 .. 0.0</td></tr>\n",
       "<tr><td>3</td><td>0</td><td>0</td><td>1</td><td>0</td><td>502</td><td>1</td><td>0.010171852074563503</td><td>70.8581309781398</td><td>181.60217614294456</td><td>0</td><td>0.525364040491684</td><td>0.8650344210526874</td><td>1.0120627219315363</td><td>-1.9925999642324606</td><td>1</td><td>30</td><td>2</td><td>298.0 .. 293.0</td></tr>\n",
       "<tr><td>4</td><td>0</td><td>0</td><td>1</td><td>0</td><td>502</td><td>1</td><td>0.010171852074563503</td><td>70.8581309781398</td><td>181.60217614294456</td><td>0</td><td>0.525364040491684</td><td>0.8650344210526874</td><td>1.0120627219315363</td><td>-1.9925999642324606</td><td>1</td><td>24</td><td>18</td><td>295.0 .. 297.0</td></tr>\n",
       "<tr><td>5</td><td>0</td><td>0</td><td>1</td><td>0</td><td>502</td><td>1</td><td>0.010171852074563503</td><td>70.8581309781398</td><td>181.60217614294456</td><td>0</td><td>0.525364040491684</td><td>0.8650344210526874</td><td>1.0120627219315363</td><td>-1.9925999642324606</td><td>1</td><td>32</td><td>70</td><td>301.0 .. 302.0</td></tr>\n",
       "<tr><td>6</td><td>0</td><td>0</td><td>1</td><td>0</td><td>502</td><td>1</td><td>0.010171852074563503</td><td>70.8581309781398</td><td>181.60217614294456</td><td>0</td><td>0.525364040491684</td><td>0.8650344210526874</td><td>1.0120627219315363</td><td>-1.9925999642324606</td><td>1</td><td>31</td><td>74</td><td>294.0 .. 298.0</td></tr>\n",
       "<tr><td>7</td><td>0</td><td>0</td><td>1</td><td>0</td><td>502</td><td>1</td><td>0.010171852074563503</td><td>70.8581309781398</td><td>181.60217614294456</td><td>0</td><td>0.525364040491684</td><td>0.8650344210526874</td><td>1.0120627219315363</td><td>-1.9925999642324606</td><td>1</td><td>23</td><td>1</td><td>303.0 .. 302.0</td></tr>\n",
       "<tr><td>8</td><td>0</td><td>0</td><td>1</td><td>0</td><td>502</td><td>1</td><td>0.010171852074563503</td><td>70.8581309781398</td><td>181.60217614294456</td><td>0</td><td>0.525364040491684</td><td>0.8650344210526874</td><td>1.0120627219315363</td><td>-1.9925999642324606</td><td>1</td><td>37</td><td>1</td><td>301.0 .. 314.0</td></tr>\n",
       "<tr><td>...</td><td>...</td><td>...</td><td>...</td><td>...</td><td>...</td><td>...</td><td>...</td><td>...</td><td>...</td><td>...</td><td>...</td><td>...</td><td>...</td><td>...</td><td>...</td><td>...</td><td>...</td><td>...</td></tr>\n",
       "<tr><td>40</td><td>0</td><td>2</td><td>1</td><td>0</td><td>3101</td><td>1</td><td>0.3737192451953888</td><td>67.79137604080408</td><td>180.21307959030406</td><td>0</td><td>0.08059766747977562</td><td>-2.208482472234197</td><td>2.209951944437672</td><td>-0.42745453697254265</td><td>1</td><td>11</td><td>10</td><td>298.0 .. 310.0</td></tr>\n",
       "<tr><td>41</td><td>0</td><td>2</td><td>1</td><td>0</td><td>3101</td><td>1</td><td>0.3737192451953888</td><td>67.79137604080408</td><td>180.21307959030406</td><td>0</td><td>0.08059766747977562</td><td>-2.208482472234197</td><td>2.209951944437672</td><td>-0.42745453697254265</td><td>1</td><td>4</td><td>41</td><td>0.0 .. 314.0</td></tr>\n",
       "<tr><td>42</td><td>0</td><td>2</td><td>1</td><td>0</td><td>3101</td><td>1</td><td>0.3737192451953888</td><td>67.79137604080408</td><td>180.21307959030406</td><td>0</td><td>0.08059766747977562</td><td>-2.208482472234197</td><td>2.209951944437672</td><td>-0.42745453697254265</td><td>1</td><td>5</td><td>26</td><td>0.0 .. 0.0</td></tr>\n",
       "<tr><td>43</td><td>0</td><td>2</td><td>1</td><td>0</td><td>3101</td><td>1</td><td>0.3737192451953888</td><td>67.79137604080408</td><td>180.21307959030406</td><td>0</td><td>0.08059766747977562</td><td>-2.208482472234197</td><td>2.209951944437672</td><td>-0.42745453697254265</td><td>1</td><td>6</td><td>2</td><td>0.0 .. 0.0</td></tr>\n",
       "<tr><td>44</td><td>0</td><td>2</td><td>1</td><td>0</td><td>3101</td><td>1</td><td>0.3737192451953888</td><td>67.79137604080408</td><td>180.21307959030406</td><td>0</td><td>0.08059766747977562</td><td>-2.208482472234197</td><td>2.209951944437672</td><td>-0.42745453697254265</td><td>1</td><td>10</td><td>1</td><td>310.0 .. 296.0</td></tr>\n",
       "<tr><td>45</td><td>0</td><td>2</td><td>1</td><td>0</td><td>3101</td><td>1</td><td>0.3737192451953888</td><td>67.79137604080408</td><td>180.21307959030406</td><td>0</td><td>0.08059766747977562</td><td>-2.208482472234197</td><td>2.209951944437672</td><td>-0.42745453697254265</td><td>1</td><td>3</td><td>6</td><td>0.0 .. 290.0</td></tr>\n",
       "<tr><td>46</td><td>0</td><td>2</td><td>1</td><td>0</td><td>3101</td><td>1</td><td>0.3737192451953888</td><td>67.79137604080408</td><td>180.21307959030406</td><td>0</td><td>0.08059766747977562</td><td>-2.208482472234197</td><td>2.209951944437672</td><td>-0.42745453697254265</td><td>1</td><td>24</td><td>0</td><td>314.0 .. 299.0</td></tr>\n",
       "<tr><td>47</td><td>0</td><td>2</td><td>1</td><td>0</td><td>3101</td><td>1</td><td>0.3737192451953888</td><td>67.79137604080408</td><td>180.21307959030406</td><td>0</td><td>0.08059766747977562</td><td>-2.208482472234197</td><td>2.209951944437672</td><td>-0.42745453697254265</td><td>1</td><td>7</td><td>0</td><td>0.0 .. 315.0</td></tr>\n",
       "<tr><td>48</td><td>0</td><td>2</td><td>1</td><td>0</td><td>3101</td><td>1</td><td>0.3737192451953888</td><td>67.79137604080408</td><td>180.21307959030406</td><td>0</td><td>0.08059766747977562</td><td>-2.208482472234197</td><td>2.209951944437672</td><td>-0.42745453697254265</td><td>1</td><td>48</td><td>0</td><td>317.0 .. 0.0</td></tr>\n",
       "</table></div>"
      ],
      "text/plain": [
       "<Table length=49>\n",
       "index file_index table_index ... patch_index cherenkov_pe      waveform    \n",
       "                             ...                                           \n",
       "int64   int64       int64    ...    int64       int64     float32[28,28,10]\n",
       "----- ---------- ----------- ... ----------- ------------ -----------------\n",
       "    0          0           0 ...          38           51    295.0 .. 298.0\n",
       "    1          0           0 ...          25           16    307.0 .. 307.0\n",
       "    2          0           0 ...          39           49      303.0 .. 0.0\n",
       "    3          0           0 ...          30            2    298.0 .. 293.0\n",
       "    4          0           0 ...          24           18    295.0 .. 297.0\n",
       "    5          0           0 ...          32           70    301.0 .. 302.0\n",
       "    6          0           0 ...          31           74    294.0 .. 298.0\n",
       "    7          0           0 ...          23            1    303.0 .. 302.0\n",
       "    8          0           0 ...          37            1    301.0 .. 314.0\n",
       "  ...        ...         ... ...         ...          ...               ...\n",
       "   40          0           2 ...          11           10    298.0 .. 310.0\n",
       "   41          0           2 ...           4           41      0.0 .. 314.0\n",
       "   42          0           2 ...           5           26        0.0 .. 0.0\n",
       "   43          0           2 ...           6            2        0.0 .. 0.0\n",
       "   44          0           2 ...          10            1    310.0 .. 296.0\n",
       "   45          0           2 ...           3            6      0.0 .. 290.0\n",
       "   46          0           2 ...          24            0    314.0 .. 299.0\n",
       "   47          0           2 ...           7            0      0.0 .. 315.0\n",
       "   48          0           2 ...          48            0      317.0 .. 0.0"
      ]
     },
     "execution_count": 5,
     "metadata": {},
     "output_type": "execute_result"
    }
   ],
   "source": [
    "reader.generate_mono_batch(batch_indices = list(np.arange(49)))"
   ]
  },
  {
   "cell_type": "code",
   "execution_count": 4,
   "id": "1b2ead61-6de9-42e6-beab-9f956eb65df6",
   "metadata": {
    "scrolled": true
   },
   "outputs": [
    {
     "data": {
      "text/html": [
       "<div><i>Table length=11044</i>\n",
       "<table id=\"table140417493471824\" class=\"table-striped table-bordered table-condensed\">\n",
       "<thead><tr><th>index</th><th>file_index</th><th>table_index</th><th>obs_id</th><th>tel_type_id</th><th>event_id</th><th>tel_id</th><th>true_energy</th><th>true_alt</th><th>true_az</th><th>true_shower_primary_id</th><th>spherical_offset_az</th><th>spherical_offset_alt</th><th>angular_separation</th><th>log_true_energy</th><th>true_shower_primary_class</th></tr></thead>\n",
       "<thead><tr><th></th><th></th><th></th><th></th><th></th><th></th><th></th><th>TeV</th><th>deg</th><th>deg</th><th></th><th>deg</th><th>deg</th><th>deg</th><th>TeV</th><th></th></tr></thead>\n",
       "<thead><tr><th>int64</th><th>int64</th><th>int64</th><th>int32</th><th>int64</th><th>int64</th><th>int64</th><th>float64</th><th>float64</th><th>float64</th><th>int64</th><th>float64</th><th>float64</th><th>float64</th><th>float64</th><th>int64</th></tr></thead>\n",
       "<tr><td>0</td><td>0</td><td>0</td><td>1</td><td>0</td><td>502</td><td>1</td><td>0.010171852074563503</td><td>70.8581309781398</td><td>181.60217614294456</td><td>0</td><td>0.525364040491684</td><td>0.8650344210526874</td><td>1.0120627219315363</td><td>-1.9925999642324606</td><td>1</td></tr>\n",
       "<tr><td>1</td><td>0</td><td>1</td><td>1</td><td>0</td><td>1903</td><td>1</td><td>0.0323750302195549</td><td>69.25027029657295</td><td>186.42116147033371</td><td>0</td><td>2.270902541209585</td><td>-0.6300573573282486</td><td>2.356642258017365</td><td>-1.4897898175306203</td><td>1</td></tr>\n",
       "<tr><td>2</td><td>0</td><td>2</td><td>1</td><td>0</td><td>3101</td><td>1</td><td>0.3737192451953888</td><td>67.79137604080408</td><td>180.21307959030406</td><td>0</td><td>0.08059766747977562</td><td>-2.208482472234197</td><td>2.209951944437672</td><td>-0.42745453697254265</td><td>1</td></tr>\n",
       "<tr><td>3</td><td>0</td><td>3</td><td>1</td><td>0</td><td>3305</td><td>1</td><td>0.015845729038119316</td><td>69.0996782857525</td><td>185.95937238054913</td><td>0</td><td>2.122823659504991</td><td>-0.7965095760810841</td><td>2.267270929175359</td><td>-1.800087774779224</td><td>1</td></tr>\n",
       "<tr><td>4</td><td>0</td><td>4</td><td>1</td><td>0</td><td>3307</td><td>1</td><td>0.015845729038119316</td><td>69.0996782857525</td><td>185.95937238054913</td><td>0</td><td>2.122823659504991</td><td>-0.7965095760810841</td><td>2.267270929175359</td><td>-1.800087774779224</td><td>1</td></tr>\n",
       "<tr><td>5</td><td>0</td><td>5</td><td>1</td><td>0</td><td>3700</td><td>1</td><td>0.1309148669242859</td><td>69.31930301851428</td><td>171.15997803415397</td><td>0</td><td>-3.11119630834888</td><td>-0.4548196477052714</td><td>3.1442328200154495</td><td>-0.8830110313976508</td><td>1</td></tr>\n",
       "<tr><td>6</td><td>0</td><td>6</td><td>1</td><td>0</td><td>3701</td><td>1</td><td>0.1309148669242859</td><td>69.31930301851428</td><td>171.15997803415397</td><td>0</td><td>-3.11119630834888</td><td>-0.4548196477052714</td><td>3.1442328200154495</td><td>-0.8830110313976508</td><td>1</td></tr>\n",
       "<tr><td>7</td><td>0</td><td>7</td><td>1</td><td>0</td><td>5900</td><td>1</td><td>0.03297586739063263</td><td>70.03329684340156</td><td>180.41779402010766</td><td>0</td><td>0.1426629899251493</td><td>0.033786271054327056</td><td>0.14660913493330305</td><td>-1.481803772036002</td><td>1</td></tr>\n",
       "<tr><td>8</td><td>0</td><td>8</td><td>1</td><td>0</td><td>5909</td><td>1</td><td>0.03297586739063263</td><td>70.03329684340156</td><td>180.41779402010766</td><td>0</td><td>0.1426629899251493</td><td>0.033786271054327056</td><td>0.14660913493330305</td><td>-1.481803772036002</td><td>1</td></tr>\n",
       "<tr><td>...</td><td>...</td><td>...</td><td>...</td><td>...</td><td>...</td><td>...</td><td>...</td><td>...</td><td>...</td><td>...</td><td>...</td><td>...</td><td>...</td><td>...</td><td>...</td></tr>\n",
       "<tr><td>11035</td><td>0</td><td>11035</td><td>1</td><td>0</td><td>4997706</td><td>1</td><td>0.09284572303295135</td><td>73.87658964785437</td><td>177.208260808362</td><td>0</td><td>-0.7767981164018515</td><td>3.8943765829946204</td><td>3.97097654876503</td><td>-1.0322380973735295</td><td>1</td></tr>\n",
       "<tr><td>11036</td><td>0</td><td>11036</td><td>1</td><td>0</td><td>4997807</td><td>1</td><td>0.0050892396830022335</td><td>71.60714318290174</td><td>175.140475678654</td><td>0</td><td>-1.5323252327725472</td><td>1.6682352828714495</td><td>2.2650311245186168</td><td>-2.2933470950976123</td><td>1</td></tr>\n",
       "<tr><td>11037</td><td>0</td><td>11037</td><td>1</td><td>0</td><td>4998805</td><td>1</td><td>0.019908679649233818</td><td>68.36702438405275</td><td>176.61878816223322</td><td>0</td><td>-1.2463779277587663</td><td>-1.5984087712674389</td><td>2.0268116592002547</td><td>-1.7009575415831506</td><td>1</td></tr>\n",
       "<tr><td>11038</td><td>0</td><td>11038</td><td>1</td><td>0</td><td>4998806</td><td>1</td><td>0.019908679649233818</td><td>68.36702438405275</td><td>176.61878816223322</td><td>0</td><td>-1.2463779277587663</td><td>-1.5984087712674389</td><td>2.0268116592002547</td><td>-1.7009575415831506</td><td>1</td></tr>\n",
       "<tr><td>11039</td><td>0</td><td>11039</td><td>1</td><td>0</td><td>4999006</td><td>1</td><td>0.0419791117310524</td><td>67.70455750626404</td><td>174.57494967575528</td><td>0</td><td>-2.0570605784112495</td><td>-2.203876874484554</td><td>3.0143795734445553</td><td>-1.3769667552339369</td><td>1</td></tr>\n",
       "<tr><td>11040</td><td>0</td><td>11040</td><td>1</td><td>0</td><td>4999009</td><td>1</td><td>0.0419791117310524</td><td>67.70455750626404</td><td>174.57494967575528</td><td>0</td><td>-2.0570605784112495</td><td>-2.203876874484554</td><td>3.0143795734445553</td><td>-1.3769667552339369</td><td>1</td></tr>\n",
       "<tr><td>11041</td><td>0</td><td>11041</td><td>1</td><td>0</td><td>4999102</td><td>1</td><td>0.15503492951393127</td><td>71.30391010450985</td><td>173.97071016064095</td><td>0</td><td>-1.9300560732892922</td><td>1.3994055988370149</td><td>2.38384388322125</td><td>-0.8095704438545192</td><td>1</td></tr>\n",
       "<tr><td>11042</td><td>0</td><td>11042</td><td>1</td><td>0</td><td>4999109</td><td>1</td><td>0.15503492951393127</td><td>71.30391010450985</td><td>173.97071016064095</td><td>0</td><td>-1.9300560732892922</td><td>1.3994055988370149</td><td>2.38384388322125</td><td>-0.8095704438545192</td><td>1</td></tr>\n",
       "<tr><td>11043</td><td>0</td><td>11043</td><td>1</td><td>0</td><td>4999600</td><td>1</td><td>0.13513591885566711</td><td>67.27531426787459</td><td>190.47164123306968</td><td>0</td><td>4.0295347012815625</td><td>-2.3779378106856752</td><td>4.677863961263055</td><td>-0.869229201033562</td><td>1</td></tr>\n",
       "</table></div>"
      ],
      "text/plain": [
       "<Table length=11044>\n",
       "index file_index table_index ...   log_true_energy    true_shower_primary_class\n",
       "                             ...         TeV                                   \n",
       "int64   int64       int64    ...       float64                  int64          \n",
       "----- ---------- ----------- ... -------------------- -------------------------\n",
       "    0          0           0 ...  -1.9925999642324606                         1\n",
       "    1          0           1 ...  -1.4897898175306203                         1\n",
       "    2          0           2 ... -0.42745453697254265                         1\n",
       "    3          0           3 ...   -1.800087774779224                         1\n",
       "    4          0           4 ...   -1.800087774779224                         1\n",
       "    5          0           5 ...  -0.8830110313976508                         1\n",
       "    6          0           6 ...  -0.8830110313976508                         1\n",
       "    7          0           7 ...   -1.481803772036002                         1\n",
       "    8          0           8 ...   -1.481803772036002                         1\n",
       "  ...        ...         ... ...                  ...                       ...\n",
       "11035          0       11035 ...  -1.0322380973735295                         1\n",
       "11036          0       11036 ...  -2.2933470950976123                         1\n",
       "11037          0       11037 ...  -1.7009575415831506                         1\n",
       "11038          0       11038 ...  -1.7009575415831506                         1\n",
       "11039          0       11039 ...  -1.3769667552339369                         1\n",
       "11040          0       11040 ...  -1.3769667552339369                         1\n",
       "11041          0       11041 ...  -0.8095704438545192                         1\n",
       "11042          0       11042 ...  -0.8095704438545192                         1\n",
       "11043          0       11043 ...   -0.869229201033562                         1"
      ]
     },
     "execution_count": 4,
     "metadata": {},
     "output_type": "execute_result"
    }
   ],
   "source": [
    "reader.example_identifiers"
   ]
  },
  {
   "cell_type": "code",
   "execution_count": 8,
   "id": "d498cab2-f486-40f8-a1f2-1acb954cf827",
   "metadata": {
    "scrolled": true
   },
   "outputs": [
    {
     "data": {
      "text/plain": [
       "{'number_of_trigger_patches': 7,\n",
       " 'nsb_threshold': 0,\n",
       " 'interleave_patches': True,\n",
       " 'trigger_patch_size': [np.int64(28), np.int64(28)],\n",
       " 'trigger_patches': [{'x': np.int64(14), 'y': np.int64(14)},\n",
       "  {'x': np.int64(14), 'y': np.int64(29)},\n",
       "  {'x': np.int64(14), 'y': np.int64(43)},\n",
       "  {'x': np.int64(14), 'y': np.int64(58)},\n",
       "  {'x': np.int64(14), 'y': np.int64(73)},\n",
       "  {'x': np.int64(14), 'y': np.int64(87)},\n",
       "  {'x': np.int64(14), 'y': np.int64(102)},\n",
       "  {'x': np.int64(29), 'y': np.int64(14)},\n",
       "  {'x': np.int64(29), 'y': np.int64(29)},\n",
       "  {'x': np.int64(29), 'y': np.int64(43)},\n",
       "  {'x': np.int64(29), 'y': np.int64(58)},\n",
       "  {'x': np.int64(29), 'y': np.int64(73)},\n",
       "  {'x': np.int64(29), 'y': np.int64(87)},\n",
       "  {'x': np.int64(29), 'y': np.int64(102)},\n",
       "  {'x': np.int64(43), 'y': np.int64(14)},\n",
       "  {'x': np.int64(43), 'y': np.int64(29)},\n",
       "  {'x': np.int64(43), 'y': np.int64(43)},\n",
       "  {'x': np.int64(43), 'y': np.int64(58)},\n",
       "  {'x': np.int64(43), 'y': np.int64(73)},\n",
       "  {'x': np.int64(43), 'y': np.int64(87)},\n",
       "  {'x': np.int64(43), 'y': np.int64(102)},\n",
       "  {'x': np.int64(58), 'y': np.int64(14)},\n",
       "  {'x': np.int64(58), 'y': np.int64(29)},\n",
       "  {'x': np.int64(58), 'y': np.int64(43)},\n",
       "  {'x': np.int64(58), 'y': np.int64(58)},\n",
       "  {'x': np.int64(58), 'y': np.int64(73)},\n",
       "  {'x': np.int64(58), 'y': np.int64(87)},\n",
       "  {'x': np.int64(58), 'y': np.int64(102)},\n",
       "  {'x': np.int64(73), 'y': np.int64(14)},\n",
       "  {'x': np.int64(73), 'y': np.int64(29)},\n",
       "  {'x': np.int64(73), 'y': np.int64(43)},\n",
       "  {'x': np.int64(73), 'y': np.int64(58)},\n",
       "  {'x': np.int64(73), 'y': np.int64(73)},\n",
       "  {'x': np.int64(73), 'y': np.int64(87)},\n",
       "  {'x': np.int64(73), 'y': np.int64(102)},\n",
       "  {'x': np.int64(87), 'y': np.int64(14)},\n",
       "  {'x': np.int64(87), 'y': np.int64(29)},\n",
       "  {'x': np.int64(87), 'y': np.int64(43)},\n",
       "  {'x': np.int64(87), 'y': np.int64(58)},\n",
       "  {'x': np.int64(87), 'y': np.int64(73)},\n",
       "  {'x': np.int64(87), 'y': np.int64(87)},\n",
       "  {'x': np.int64(87), 'y': np.int64(102)},\n",
       "  {'x': np.int64(102), 'y': np.int64(14)},\n",
       "  {'x': np.int64(102), 'y': np.int64(29)},\n",
       "  {'x': np.int64(102), 'y': np.int64(43)},\n",
       "  {'x': np.int64(102), 'y': np.int64(58)},\n",
       "  {'x': np.int64(102), 'y': np.int64(73)},\n",
       "  {'x': np.int64(102), 'y': np.int64(87)},\n",
       "  {'x': np.int64(102), 'y': np.int64(102)}]}"
      ]
     },
     "execution_count": 8,
     "metadata": {},
     "output_type": "execute_result"
    }
   ],
   "source": [
    "reader.trigger_settings"
   ]
  },
  {
   "cell_type": "code",
   "execution_count": 12,
   "id": "59087653-79e8-4606-a627-e2181986739e",
   "metadata": {},
   "outputs": [
    {
     "name": "stdout",
     "output_type": "stream",
     "text": [
      "[50, 20, 60]\n"
     ]
    }
   ],
   "source": [
    "import numpy as np\n",
    "\n",
    "true_sums = np.array([10, 20, 30, 40, 50, 60, 70])\n",
    "temp_index = np.array([4, 1, 5])  # Randomly selected patches\n",
    "\n",
    "cherenkov = []\n",
    "cherenkov.extend(true_sums[temp_index].tolist())\n",
    "\n",
    "print(cherenkov)  # Output: [50, 20, 60]\n"
   ]
  },
  {
   "cell_type": "code",
   "execution_count": 5,
   "id": "00b1a29b-7535-42bc-b2ec-ad6c74ba8c6d",
   "metadata": {},
   "outputs": [
    {
     "name": "stdout",
     "output_type": "stream",
     "text": [
      "28.8 s ± 687 ms per loop (mean ± std. dev. of 7 runs, 1 loop each)\n"
     ]
    }
   ],
   "source": [
    "%timeit reader.generate_mono_batch(batch_indices = list(np.arange(10000)))"
   ]
  },
  {
   "cell_type": "code",
   "execution_count": 7,
   "id": "ed59c80c-b1dd-445d-a407-e77c3cc4cfb4",
   "metadata": {},
   "outputs": [
    {
     "data": {
      "text/html": [
       "<div><i>Table length=40</i>\n",
       "<table id=\"table140192156571920\" class=\"table-striped table-bordered table-condensed\">\n",
       "<thead><tr><th>index</th><th>file_index</th><th>table_index</th><th>obs_id</th><th>tel_type_id</th><th>event_id</th><th>tel_id</th><th>features</th><th>cherenkov_pe</th><th>true_energy</th><th>true_alt</th><th>true_az</th><th>true_shower_primary_id</th><th>spherical_offset_az</th><th>spherical_offset_alt</th><th>angular_separation</th><th>log_true_energy</th><th>true_shower_primary_class</th><th>cosmic_nsb</th></tr></thead>\n",
       "<thead><tr><th></th><th></th><th></th><th></th><th></th><th></th><th></th><th></th><th></th><th>TeV</th><th>deg</th><th>deg</th><th></th><th>deg</th><th>deg</th><th>deg</th><th>TeV</th><th></th><th></th></tr></thead>\n",
       "<thead><tr><th>int64</th><th>int64</th><th>int64</th><th>int32</th><th>int64</th><th>int64</th><th>int64</th><th>float32[28,28,10]</th><th>int64</th><th>float64</th><th>float64</th><th>float64</th><th>int64</th><th>float64</th><th>float64</th><th>float64</th><th>float64</th><th>int64</th><th>int64</th></tr></thead>\n",
       "<tr><td>0</td><td>0</td><td>0</td><td>1</td><td>0</td><td>502</td><td>1</td><td>295.0 .. 297.0</td><td>18</td><td>0.010171852074563503</td><td>70.8581309781398</td><td>181.60217614294456</td><td>0</td><td>0.525364040491684</td><td>0.8650344210526874</td><td>1.0120627219315363</td><td>-1.9925999642324606</td><td>1</td><td>0</td></tr>\n",
       "<tr><td>1</td><td>0</td><td>0</td><td>1</td><td>0</td><td>502</td><td>1</td><td>0.0 .. 0.0</td><td>0</td><td>0.010171852074563503</td><td>70.8581309781398</td><td>181.60217614294456</td><td>0</td><td>0.525364040491684</td><td>0.8650344210526874</td><td>1.0120627219315363</td><td>-1.9925999642324606</td><td>1</td><td>1</td></tr>\n",
       "<tr><td>2</td><td>0</td><td>1</td><td>1</td><td>0</td><td>1903</td><td>1</td><td>0.0 .. 288.0</td><td>2</td><td>0.0323750302195549</td><td>69.25027029657295</td><td>186.42116147033371</td><td>0</td><td>2.270902541209585</td><td>-0.6300573573282486</td><td>2.356642258017365</td><td>-1.4897898175306203</td><td>1</td><td>0</td></tr>\n",
       "<tr><td>3</td><td>0</td><td>1</td><td>1</td><td>0</td><td>1903</td><td>1</td><td>0.0 .. 0.0</td><td>0</td><td>0.0323750302195549</td><td>69.25027029657295</td><td>186.42116147033371</td><td>0</td><td>2.270902541209585</td><td>-0.6300573573282486</td><td>2.356642258017365</td><td>-1.4897898175306203</td><td>1</td><td>1</td></tr>\n",
       "<tr><td>4</td><td>0</td><td>2</td><td>1</td><td>0</td><td>3101</td><td>1</td><td>0.0 .. 0.0</td><td>2</td><td>0.3737192451953888</td><td>67.79137604080408</td><td>180.21307959030406</td><td>0</td><td>0.08059766747977562</td><td>-2.208482472234197</td><td>2.209951944437672</td><td>-0.42745453697254265</td><td>1</td><td>0</td></tr>\n",
       "<tr><td>5</td><td>0</td><td>2</td><td>1</td><td>0</td><td>3101</td><td>1</td><td>302.0 .. 300.0</td><td>0</td><td>0.3737192451953888</td><td>67.79137604080408</td><td>180.21307959030406</td><td>0</td><td>0.08059766747977562</td><td>-2.208482472234197</td><td>2.209951944437672</td><td>-0.42745453697254265</td><td>1</td><td>1</td></tr>\n",
       "<tr><td>6</td><td>0</td><td>3</td><td>1</td><td>0</td><td>3305</td><td>1</td><td>299.0 .. 318.0</td><td>21</td><td>0.015845729038119316</td><td>69.0996782857525</td><td>185.95937238054913</td><td>0</td><td>2.122823659504991</td><td>-0.7965095760810841</td><td>2.267270929175359</td><td>-1.800087774779224</td><td>1</td><td>0</td></tr>\n",
       "<tr><td>7</td><td>0</td><td>3</td><td>1</td><td>0</td><td>3305</td><td>1</td><td>311.0 .. 314.0</td><td>0</td><td>0.015845729038119316</td><td>69.0996782857525</td><td>185.95937238054913</td><td>0</td><td>2.122823659504991</td><td>-0.7965095760810841</td><td>2.267270929175359</td><td>-1.800087774779224</td><td>1</td><td>1</td></tr>\n",
       "<tr><td>8</td><td>0</td><td>4</td><td>1</td><td>0</td><td>3307</td><td>1</td><td>294.0 .. 299.0</td><td>37</td><td>0.015845729038119316</td><td>69.0996782857525</td><td>185.95937238054913</td><td>0</td><td>2.122823659504991</td><td>-0.7965095760810841</td><td>2.267270929175359</td><td>-1.800087774779224</td><td>1</td><td>0</td></tr>\n",
       "<tr><td>...</td><td>...</td><td>...</td><td>...</td><td>...</td><td>...</td><td>...</td><td>...</td><td>...</td><td>...</td><td>...</td><td>...</td><td>...</td><td>...</td><td>...</td><td>...</td><td>...</td><td>...</td><td>...</td></tr>\n",
       "<tr><td>31</td><td>0</td><td>15</td><td>1</td><td>0</td><td>11002</td><td>1</td><td>326.0 .. 0.0</td><td>0</td><td>3.087752103805542</td><td>68.61633311894738</td><td>173.44679367016593</td><td>0</td><td>-2.3854306460558434</td><td>-1.2553701070526102</td><td>2.6954262694663855</td><td>0.48964242629100024</td><td>1</td><td>1</td></tr>\n",
       "<tr><td>32</td><td>0</td><td>16</td><td>1</td><td>0</td><td>11003</td><td>1</td><td>303.0 .. 0.0</td><td>2417</td><td>3.087752103805542</td><td>68.61633311894738</td><td>173.44679367016593</td><td>0</td><td>-2.3854306460558434</td><td>-1.2553701070526102</td><td>2.6954262694663855</td><td>0.48964242629100024</td><td>1</td><td>0</td></tr>\n",
       "<tr><td>33</td><td>0</td><td>16</td><td>1</td><td>0</td><td>11003</td><td>1</td><td>0.0 .. 314.0</td><td>0</td><td>3.087752103805542</td><td>68.61633311894738</td><td>173.44679367016593</td><td>0</td><td>-2.3854306460558434</td><td>-1.2553701070526102</td><td>2.6954262694663855</td><td>0.48964242629100024</td><td>1</td><td>1</td></tr>\n",
       "<tr><td>34</td><td>0</td><td>17</td><td>1</td><td>0</td><td>11004</td><td>1</td><td>306.0 .. 294.0</td><td>3</td><td>3.087752103805542</td><td>68.61633311894738</td><td>173.44679367016593</td><td>0</td><td>-2.3854306460558434</td><td>-1.2553701070526102</td><td>2.6954262694663855</td><td>0.48964242629100024</td><td>1</td><td>0</td></tr>\n",
       "<tr><td>35</td><td>0</td><td>17</td><td>1</td><td>0</td><td>11004</td><td>1</td><td>307.0 .. 299.0</td><td>0</td><td>3.087752103805542</td><td>68.61633311894738</td><td>173.44679367016593</td><td>0</td><td>-2.3854306460558434</td><td>-1.2553701070526102</td><td>2.6954262694663855</td><td>0.48964242629100024</td><td>1</td><td>1</td></tr>\n",
       "<tr><td>36</td><td>0</td><td>18</td><td>1</td><td>0</td><td>11005</td><td>1</td><td>293.0 .. 291.0</td><td>71</td><td>3.087752103805542</td><td>68.61633311894738</td><td>173.44679367016593</td><td>0</td><td>-2.3854306460558434</td><td>-1.2553701070526102</td><td>2.6954262694663855</td><td>0.48964242629100024</td><td>1</td><td>0</td></tr>\n",
       "<tr><td>37</td><td>0</td><td>18</td><td>1</td><td>0</td><td>11005</td><td>1</td><td>296.0 .. 311.0</td><td>0</td><td>3.087752103805542</td><td>68.61633311894738</td><td>173.44679367016593</td><td>0</td><td>-2.3854306460558434</td><td>-1.2553701070526102</td><td>2.6954262694663855</td><td>0.48964242629100024</td><td>1</td><td>1</td></tr>\n",
       "<tr><td>38</td><td>0</td><td>19</td><td>1</td><td>0</td><td>11006</td><td>1</td><td>0.0 .. 292.0</td><td>22</td><td>3.087752103805542</td><td>68.61633311894738</td><td>173.44679367016593</td><td>0</td><td>-2.3854306460558434</td><td>-1.2553701070526102</td><td>2.6954262694663855</td><td>0.48964242629100024</td><td>1</td><td>0</td></tr>\n",
       "<tr><td>39</td><td>0</td><td>19</td><td>1</td><td>0</td><td>11006</td><td>1</td><td>0.0 .. 296.0</td><td>0</td><td>3.087752103805542</td><td>68.61633311894738</td><td>173.44679367016593</td><td>0</td><td>-2.3854306460558434</td><td>-1.2553701070526102</td><td>2.6954262694663855</td><td>0.48964242629100024</td><td>1</td><td>1</td></tr>\n",
       "</table></div>"
      ],
      "text/plain": [
       "<Table length=40>\n",
       "index file_index table_index ... true_shower_primary_class cosmic_nsb\n",
       "                             ...                                     \n",
       "int64   int64       int64    ...           int64             int64   \n",
       "----- ---------- ----------- ... ------------------------- ----------\n",
       "    0          0           0 ...                         1          0\n",
       "    1          0           0 ...                         1          1\n",
       "    2          0           1 ...                         1          0\n",
       "    3          0           1 ...                         1          1\n",
       "    4          0           2 ...                         1          0\n",
       "    5          0           2 ...                         1          1\n",
       "    6          0           3 ...                         1          0\n",
       "    7          0           3 ...                         1          1\n",
       "    8          0           4 ...                         1          0\n",
       "  ...        ...         ... ...                       ...        ...\n",
       "   31          0          15 ...                         1          1\n",
       "   32          0          16 ...                         1          0\n",
       "   33          0          16 ...                         1          1\n",
       "   34          0          17 ...                         1          0\n",
       "   35          0          17 ...                         1          1\n",
       "   36          0          18 ...                         1          0\n",
       "   37          0          18 ...                         1          1\n",
       "   38          0          19 ...                         1          0\n",
       "   39          0          19 ...                         1          1"
      ]
     },
     "execution_count": 7,
     "metadata": {},
     "output_type": "execute_result"
    }
   ],
   "source": [
    "reader.generate_mono_batch(batch_indices = list(np.arange(40)))"
   ]
  },
  {
   "cell_type": "code",
   "execution_count": 4,
   "id": "5c3569db-890c-41b6-b8fe-89ddfd51c6b0",
   "metadata": {},
   "outputs": [],
   "source": [
    "reader = DLRawTriggerReader(input_url_signal=[\"/gamma3/users/jbuces/software/mc_data/NSB_protons/reduced/NSB/corsika_run4.dl1b.h5\"],\n",
    "                              image_mapper_type  = \"ShiftingMapper\",\n",
    "                              mode = \"mono\",\n",
    "                              sequence_position= \"maximum\", \n",
    "                              output_settings = \"all_patches\",\n",
    "                              hot_pixel_from_simulation = True,\n",
    "                              trigger_settings = {\"number_of_trigger_patches\" : 7,\"nsb_threshold\" : 0, \"interleave_patches\" : True},\n",
    "                              sequence_length = 10,\n",
    "                              allowed_tel_types=[\"LST_UNKNOWN-387M2_UNKNOWN-7987PX\"],\n",
    "                              allowed_tels = [1],\n",
    "                              quality_cuts = False)"
   ]
  },
  {
   "cell_type": "code",
   "execution_count": 10,
   "id": "b0ac9281-17f6-443c-ba81-9f27888c2530",
   "metadata": {},
   "outputs": [
    {
     "data": {
      "text/html": [
       "<div><i>Table length=490000</i>\n",
       "<table id=\"table140025677283040\" class=\"table-striped table-bordered table-condensed\">\n",
       "<thead><tr><th>index</th><th>file_index</th><th>table_index</th><th>obs_id</th><th>tel_type_id</th><th>event_id</th><th>tel_id</th><th>patch_index</th><th>true_energy</th><th>true_alt</th><th>true_az</th><th>true_shower_primary_id</th><th>spherical_offset_az</th><th>spherical_offset_alt</th><th>angular_separation</th><th>log_true_energy</th><th>true_shower_primary_class</th></tr></thead>\n",
       "<thead><tr><th></th><th></th><th></th><th></th><th></th><th></th><th></th><th></th><th>TeV</th><th>deg</th><th>deg</th><th></th><th>deg</th><th>deg</th><th>deg</th><th>TeV</th><th></th></tr></thead>\n",
       "<thead><tr><th>int64</th><th>int64</th><th>int64</th><th>int32</th><th>int64</th><th>int64</th><th>int64</th><th>int64</th><th>float64</th><th>float64</th><th>float64</th><th>int64</th><th>float64</th><th>float64</th><th>float64</th><th>float64</th><th>int64</th></tr></thead>\n",
       "<tr><td>0</td><td>0</td><td>0</td><td>4</td><td>0</td><td>100</td><td>1</td><td>0</td><td>5.560657024383545</td><td>62.91127418072167</td><td>163.72799455674974</td><td>101</td><td>-7.372532050692125</td><td>-6.100065092115785</td><td>9.558204415118668</td><td>0.7451261090651803</td><td>1</td></tr>\n",
       "<tr><td>1</td><td>0</td><td>0</td><td>4</td><td>0</td><td>100</td><td>1</td><td>1</td><td>5.560657024383545</td><td>62.91127418072167</td><td>163.72799455674974</td><td>101</td><td>-7.372532050692125</td><td>-6.100065092115785</td><td>9.558204415118668</td><td>0.7451261090651803</td><td>1</td></tr>\n",
       "<tr><td>2</td><td>0</td><td>0</td><td>4</td><td>0</td><td>100</td><td>1</td><td>2</td><td>5.560657024383545</td><td>62.91127418072167</td><td>163.72799455674974</td><td>101</td><td>-7.372532050692125</td><td>-6.100065092115785</td><td>9.558204415118668</td><td>0.7451261090651803</td><td>1</td></tr>\n",
       "<tr><td>3</td><td>0</td><td>0</td><td>4</td><td>0</td><td>100</td><td>1</td><td>3</td><td>5.560657024383545</td><td>62.91127418072167</td><td>163.72799455674974</td><td>101</td><td>-7.372532050692125</td><td>-6.100065092115785</td><td>9.558204415118668</td><td>0.7451261090651803</td><td>1</td></tr>\n",
       "<tr><td>4</td><td>0</td><td>0</td><td>4</td><td>0</td><td>100</td><td>1</td><td>4</td><td>5.560657024383545</td><td>62.91127418072167</td><td>163.72799455674974</td><td>101</td><td>-7.372532050692125</td><td>-6.100065092115785</td><td>9.558204415118668</td><td>0.7451261090651803</td><td>1</td></tr>\n",
       "<tr><td>5</td><td>0</td><td>0</td><td>4</td><td>0</td><td>100</td><td>1</td><td>5</td><td>5.560657024383545</td><td>62.91127418072167</td><td>163.72799455674974</td><td>101</td><td>-7.372532050692125</td><td>-6.100065092115785</td><td>9.558204415118668</td><td>0.7451261090651803</td><td>1</td></tr>\n",
       "<tr><td>6</td><td>0</td><td>0</td><td>4</td><td>0</td><td>100</td><td>1</td><td>6</td><td>5.560657024383545</td><td>62.91127418072167</td><td>163.72799455674974</td><td>101</td><td>-7.372532050692125</td><td>-6.100065092115785</td><td>9.558204415118668</td><td>0.7451261090651803</td><td>1</td></tr>\n",
       "<tr><td>7</td><td>0</td><td>0</td><td>4</td><td>0</td><td>100</td><td>1</td><td>7</td><td>5.560657024383545</td><td>62.91127418072167</td><td>163.72799455674974</td><td>101</td><td>-7.372532050692125</td><td>-6.100065092115785</td><td>9.558204415118668</td><td>0.7451261090651803</td><td>1</td></tr>\n",
       "<tr><td>8</td><td>0</td><td>0</td><td>4</td><td>0</td><td>100</td><td>1</td><td>8</td><td>5.560657024383545</td><td>62.91127418072167</td><td>163.72799455674974</td><td>101</td><td>-7.372532050692125</td><td>-6.100065092115785</td><td>9.558204415118668</td><td>0.7451261090651803</td><td>1</td></tr>\n",
       "<tr><td>...</td><td>...</td><td>...</td><td>...</td><td>...</td><td>...</td><td>...</td><td>...</td><td>...</td><td>...</td><td>...</td><td>...</td><td>...</td><td>...</td><td>...</td><td>...</td><td>...</td></tr>\n",
       "<tr><td>489991</td><td>0</td><td>9999</td><td>4</td><td>0</td><td>100009</td><td>1</td><td>40</td><td>0.040821246802806854</td><td>64.94539330801068</td><td>197.73476877381287</td><td>101</td><td>7.429557291422756</td><td>-3.9676734597812175</td><td>8.417386411776093</td><td>-1.3891137347666962</td><td>1</td></tr>\n",
       "<tr><td>489992</td><td>0</td><td>9999</td><td>4</td><td>0</td><td>100009</td><td>1</td><td>41</td><td>0.040821246802806854</td><td>64.94539330801068</td><td>197.73476877381287</td><td>101</td><td>7.429557291422756</td><td>-3.9676734597812175</td><td>8.417386411776093</td><td>-1.3891137347666962</td><td>1</td></tr>\n",
       "<tr><td>489993</td><td>0</td><td>9999</td><td>4</td><td>0</td><td>100009</td><td>1</td><td>42</td><td>0.040821246802806854</td><td>64.94539330801068</td><td>197.73476877381287</td><td>101</td><td>7.429557291422756</td><td>-3.9676734597812175</td><td>8.417386411776093</td><td>-1.3891137347666962</td><td>1</td></tr>\n",
       "<tr><td>489994</td><td>0</td><td>9999</td><td>4</td><td>0</td><td>100009</td><td>1</td><td>43</td><td>0.040821246802806854</td><td>64.94539330801068</td><td>197.73476877381287</td><td>101</td><td>7.429557291422756</td><td>-3.9676734597812175</td><td>8.417386411776093</td><td>-1.3891137347666962</td><td>1</td></tr>\n",
       "<tr><td>489995</td><td>0</td><td>9999</td><td>4</td><td>0</td><td>100009</td><td>1</td><td>44</td><td>0.040821246802806854</td><td>64.94539330801068</td><td>197.73476877381287</td><td>101</td><td>7.429557291422756</td><td>-3.9676734597812175</td><td>8.417386411776093</td><td>-1.3891137347666962</td><td>1</td></tr>\n",
       "<tr><td>489996</td><td>0</td><td>9999</td><td>4</td><td>0</td><td>100009</td><td>1</td><td>45</td><td>0.040821246802806854</td><td>64.94539330801068</td><td>197.73476877381287</td><td>101</td><td>7.429557291422756</td><td>-3.9676734597812175</td><td>8.417386411776093</td><td>-1.3891137347666962</td><td>1</td></tr>\n",
       "<tr><td>489997</td><td>0</td><td>9999</td><td>4</td><td>0</td><td>100009</td><td>1</td><td>46</td><td>0.040821246802806854</td><td>64.94539330801068</td><td>197.73476877381287</td><td>101</td><td>7.429557291422756</td><td>-3.9676734597812175</td><td>8.417386411776093</td><td>-1.3891137347666962</td><td>1</td></tr>\n",
       "<tr><td>489998</td><td>0</td><td>9999</td><td>4</td><td>0</td><td>100009</td><td>1</td><td>47</td><td>0.040821246802806854</td><td>64.94539330801068</td><td>197.73476877381287</td><td>101</td><td>7.429557291422756</td><td>-3.9676734597812175</td><td>8.417386411776093</td><td>-1.3891137347666962</td><td>1</td></tr>\n",
       "<tr><td>489999</td><td>0</td><td>9999</td><td>4</td><td>0</td><td>100009</td><td>1</td><td>48</td><td>0.040821246802806854</td><td>64.94539330801068</td><td>197.73476877381287</td><td>101</td><td>7.429557291422756</td><td>-3.9676734597812175</td><td>8.417386411776093</td><td>-1.3891137347666962</td><td>1</td></tr>\n",
       "</table></div>"
      ],
      "text/plain": [
       "<Table length=490000>\n",
       "index  file_index table_index ...   log_true_energy   true_shower_primary_class\n",
       "                              ...         TeV                                  \n",
       "int64    int64       int64    ...       float64                 int64          \n",
       "------ ---------- ----------- ... ------------------- -------------------------\n",
       "     0          0           0 ...  0.7451261090651803                         1\n",
       "     1          0           0 ...  0.7451261090651803                         1\n",
       "     2          0           0 ...  0.7451261090651803                         1\n",
       "     3          0           0 ...  0.7451261090651803                         1\n",
       "     4          0           0 ...  0.7451261090651803                         1\n",
       "     5          0           0 ...  0.7451261090651803                         1\n",
       "     6          0           0 ...  0.7451261090651803                         1\n",
       "     7          0           0 ...  0.7451261090651803                         1\n",
       "     8          0           0 ...  0.7451261090651803                         1\n",
       "   ...        ...         ... ...                 ...                       ...\n",
       "489991          0        9999 ... -1.3891137347666962                         1\n",
       "489992          0        9999 ... -1.3891137347666962                         1\n",
       "489993          0        9999 ... -1.3891137347666962                         1\n",
       "489994          0        9999 ... -1.3891137347666962                         1\n",
       "489995          0        9999 ... -1.3891137347666962                         1\n",
       "489996          0        9999 ... -1.3891137347666962                         1\n",
       "489997          0        9999 ... -1.3891137347666962                         1\n",
       "489998          0        9999 ... -1.3891137347666962                         1\n",
       "489999          0        9999 ... -1.3891137347666962                         1"
      ]
     },
     "execution_count": 10,
     "metadata": {},
     "output_type": "execute_result"
    }
   ],
   "source": [
    "reader.example_identifiers"
   ]
  },
  {
   "cell_type": "code",
   "execution_count": 4,
   "id": "a852eaf0-b636-4ca3-965c-4a28c70d223c",
   "metadata": {},
   "outputs": [
    {
     "name": "stdout",
     "output_type": "stream",
     "text": [
      "1.15 s ± 3.06 ms per loop (mean ± std. dev. of 7 runs, 1 loop each)\n"
     ]
    }
   ],
   "source": [
    "%%timeit\n",
    "reader = DLRawTriggerReader(input_url_signal=[\"/gamma3/users/jbuces/software/mc_data/NSB_protons/reduced/NSB/corsika_run4.dl1b.h5\"],\n",
    "                              image_mapper_type  = \"ShiftingMapper\",\n",
    "                              mode = \"mono\",\n",
    "                              sequence_position= \"maximum\", \n",
    "                              output_settings = \"all_patches\",\n",
    "                              hot_pixel_from_simulation = True,\n",
    "                              trigger_settings = {\"number_of_trigger_patches\" : 7,\"nsb_threshold\" : 0, \"interleave_patches\" : True},\n",
    "                              sequence_length = 10,\n",
    "                              allowed_tel_types=[\"LST_UNKNOWN-387M2_UNKNOWN-7987PX\"],\n",
    "                              allowed_tels = [1],\n",
    "                              quality_cuts = False)"
   ]
  },
  {
   "cell_type": "code",
   "execution_count": 18,
   "id": "4f491b22-3479-4852-a3c3-7a0cf4acd3fa",
   "metadata": {},
   "outputs": [
    {
     "name": "stdout",
     "output_type": "stream",
     "text": [
      "9.77 s ± 277 ms per loop (mean ± std. dev. of 7 runs, 1 loop each)\n",
      "20.1 s ± 111 ms per loop (mean ± std. dev. of 7 runs, 1 loop each)\n",
      "30.3 s ± 427 ms per loop (mean ± std. dev. of 7 runs, 1 loop each)\n",
      "40 s ± 29.3 ms per loop (mean ± std. dev. of 7 runs, 1 loop each)\n",
      "49.9 s ± 84.5 ms per loop (mean ± std. dev. of 7 runs, 1 loop each)\n",
      "1min 1s ± 506 ms per loop (mean ± std. dev. of 7 runs, 1 loop each)\n",
      "1min 10s ± 681 ms per loop (mean ± std. dev. of 7 runs, 1 loop each)\n",
      "1min 20s ± 521 ms per loop (mean ± std. dev. of 7 runs, 1 loop each)\n"
     ]
    },
    {
     "data": {
      "image/png": "[encoded data removed]",
      "text/plain": [
       "<Figure size 800x600 with 1 Axes>"
      ]
     },
     "metadata": {},
     "output_type": "display_data"
    }
   ],
   "source": [
    "x = []\n",
    "y = []\n",
    "yerr = []  \n",
    "\n",
    "for i in range(8):\n",
    "    time = %timeit -o reader.generate_mono_batch(batch_indices=list(np.arange(49*(i+1))))\n",
    "    mean_time = np.mean(time.all_runs)  \n",
    "    stdev_time = np.std(time.all_runs)\n",
    "    x.append(i)\n",
    "    y.append(mean_time)  \n",
    "    yerr.append(stdev_time) \n",
    "\n",
    "plt.figure(figsize=(8, 6))\n",
    "plt.errorbar(x, y, yerr=yerr, fmt='-o', color='b', label='Time per batch')\n",
    "\n",
    "\n",
    "plt.xlabel('Events per batch (49 patches per event)')\n",
    "plt.ylabel('Time per batch (s)')\n",
    "\n",
    "plt.grid(True)\n",
    "plt.legend()\n",
    "plt.show()"
   ]
  }
 ],
 "metadata": {
  "kernelspec": {
   "display_name": "Python 3 (ipykernel)",
   "language": "python",
   "name": "python3"
  },
  "language_info": {
   "codemirror_mode": {
    "name": "ipython",
    "version": 3
   },
   "file_extension": ".py",
   "mimetype": "text/x-python",
   "name": "python",
   "nbconvert_exporter": "python",
   "pygments_lexer": "ipython3",
   "version": "3.13.2"
  }
 },
 "nbformat": 4,
 "nbformat_minor": 5
}
