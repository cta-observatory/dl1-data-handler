{
 "cells": [
  {
   "cell_type": "code",
   "execution_count": 1,
   "id": "ecfdba77-3aa4-4114-ba67-ecb23eabaeaf",
   "metadata": {},
   "outputs": [],
   "source": [
    "from dl1_data_handler.reader import DLWaveformReader, DLDataReader, TableQualityQuery, DLRawTriggerReader\n",
    "import matplotlib.pyplot as plt\n",
    "import numpy as np\n",
    "from ctapipe.io import EventSource\n",
    "from ctapipe.visualization import CameraDisplay\n",
    "from ctapipe.core.traits import List\n",
    "from ctapipe.core import QualityQuery\n",
    "import time\n",
    "from pathlib import Path"
   ]
  },
  {
   "cell_type": "code",
   "execution_count": 4,
   "id": "07b4f0e6-53e5-47dc-86f0-937b6bcf145d",
   "metadata": {},
   "outputs": [
    {
     "name": "stdout",
     "output_type": "stream",
     "text": [
      "Initialisation time for waveform is:\n",
      "1.14 s ± 13.7 ms per loop (mean ± std. dev. of 7 runs, 1 loop each)\n",
      "Batch generation time for waveform, for a 4 * 49 batch size is:\n",
      "644 ms ± 5.65 ms per loop (mean ± std. dev. of 7 runs, 1 loop each)\n",
      "Batch generation time for waveform, for a 5 * 49 batch size is:\n",
      "827 ms ± 7.23 ms per loop (mean ± std. dev. of 7 runs, 1 loop each)\n",
      "Batch generation time for waveform, for a 6 * 49 batch size is:\n",
      "1.01 s ± 7.9 ms per loop (mean ± std. dev. of 7 runs, 1 loop each)\n",
      "Initialisation time for random_patch is:\n",
      "1.29 s ± 2.98 ms per loop (mean ± std. dev. of 7 runs, 1 loop each)\n",
      "Batch generation time for random_patch, for a 4 * 49 batch size is:\n",
      "768 ms ± 2.07 ms per loop (mean ± std. dev. of 7 runs, 1 loop each)\n",
      "Batch generation time for random_patch, for a 5 * 49 batch size is:\n",
      "971 ms ± 6.45 ms per loop (mean ± std. dev. of 7 runs, 1 loop each)\n",
      "Batch generation time for random_patch, for a 6 * 49 batch size is:\n",
      "1.17 s ± 4.67 ms per loop (mean ± std. dev. of 7 runs, 1 loop each)\n",
      "Initialisation time for balanced_patches is:\n",
      "7.38 s ± 58.5 ms per loop (mean ± std. dev. of 7 runs, 1 loop each)\n",
      "Batch generation time for balanced_patches, for a 4 * 49 batch size is:\n",
      "293 ms ± 1.65 ms per loop (mean ± std. dev. of 7 runs, 1 loop each)\n",
      "Batch generation time for balanced_patches, for a 5 * 49 batch size is:\n",
      "371 ms ± 1.3 ms per loop (mean ± std. dev. of 7 runs, 1 loop each)\n",
      "Batch generation time for balanced_patches, for a 6 * 49 batch size is:\n",
      "447 ms ± 757 μs per loop (mean ± std. dev. of 7 runs, 1 loop each)\n",
      "Initialisation time for hot_patch is:\n",
      "1.36 s ± 12.5 ms per loop (mean ± std. dev. of 7 runs, 1 loop each)\n",
      "Batch generation time for hot_patch, for a 4 * 49 batch size is:\n",
      "786 ms ± 8.14 ms per loop (mean ± std. dev. of 7 runs, 1 loop each)\n",
      "Batch generation time for hot_patch, for a 5 * 49 batch size is:\n",
      "992 ms ± 9.58 ms per loop (mean ± std. dev. of 7 runs, 1 loop each)\n",
      "Batch generation time for hot_patch, for a 6 * 49 batch size is:\n",
      "1.19 s ± 14.5 ms per loop (mean ± std. dev. of 7 runs, 1 loop each)\n",
      "Initialisation time for all_patches is:\n",
      "1.39 s ± 3.98 ms per loop (mean ± std. dev. of 7 runs, 1 loop each)\n",
      "Batch generation time for all_patches, for a 4 * 49 batch size is:\n",
      "390 ms ± 842 μs per loop (mean ± std. dev. of 7 runs, 1 loop each)\n",
      "Batch generation time for all_patches, for a 5 * 49 batch size is:\n",
      "491 ms ± 2.23 ms per loop (mean ± std. dev. of 7 runs, 1 loop each)\n",
      "Batch generation time for all_patches, for a 6 * 49 batch size is:\n",
      "592 ms ± 714 μs per loop (mean ± std. dev. of 7 runs, 1 loop each)\n",
      "Initialisation time for double_random is:\n",
      "1.36 s ± 10.1 ms per loop (mean ± std. dev. of 7 runs, 1 loop each)\n",
      "Batch generation time for double_random, for a 4 * 49 batch size is:\n",
      "600 ms ± 8.99 ms per loop (mean ± std. dev. of 7 runs, 1 loop each)\n",
      "Batch generation time for double_random, for a 5 * 49 batch size is:\n",
      "771 ms ± 5.56 ms per loop (mean ± std. dev. of 7 runs, 1 loop each)\n",
      "Batch generation time for double_random, for a 6 * 49 batch size is:\n",
      "911 ms ± 13.4 ms per loop (mean ± std. dev. of 7 runs, 1 loop each)\n"
     ]
    }
   ],
   "source": [
    "import warnings\n",
    "warnings.simplefilter(\"ignore\")\n",
    "\n",
    "outputs = [\"waveform\", \"random_patch\", \"balanced_patches\", \"hot_patch\", \"all_patches\", \"double_random\"]\n",
    "file = [\"/gamma3/users/jbuces/software/mc_data/trigerless_gammas/reduced_ctapipe/corsika_run1.dl1b.h5\"]\n",
    "\n",
    "for outs in outputs:\n",
    "    print(f\"Initialisation time for {outs} is:\")\n",
    "    %timeit reader = DLRawTriggerReader(input_url_signal=file,image_mapper_type=\"ShiftingMapper\",mode = \"mono\",sequence_position= \"maximum\",output_settings = outs,hot_pixel_from_simulation = True,trigger_settings = {\"number_of_trigger_patches\" : 7,\"cpe_threshold\" : 0, \"interleave_patches\" : True},sequence_length = 10,allowed_tel_types=[\"LST_UNKNOWN-387M2_UNKNOWN-7987PX\"],allowed_tels = [1],quality_cuts = False)\n",
    "    reader = DLRawTriggerReader(input_url_signal=file,image_mapper_type=\"ShiftingMapper\",mode = \"mono\",sequence_position= \"maximum\",output_settings = outs,hot_pixel_from_simulation = True,trigger_settings = {\"number_of_trigger_patches\" : 7,\"cpe_threshold\" : 0, \"interleave_patches\" : True},sequence_length = 10,allowed_tel_types=[\"LST_UNKNOWN-387M2_UNKNOWN-7987PX\"],allowed_tels = [1],quality_cuts = False)\n",
    "    for i in [4,5,6]:\n",
    "        print(f\"Batch generation time for {outs}, for a {i} * 49 batch size is:\")\n",
    "        %timeit reader.generate_mono_batch(batch_indices = list(np.arange(49*i)))\n"
   ]
  },
  {
   "cell_type": "code",
   "execution_count": 21,
   "id": "0337eee9-32aa-49a3-b17a-6a26ba8851ca",
   "metadata": {},
   "outputs": [
    {
     "name": "stdout",
     "output_type": "stream",
     "text": [
      "Initialisation time for waveform is:\n",
      "1.14 s ± 8.68 ms per loop (mean ± std. dev. of 7 runs, 1 loop each)\n",
      "Batch generation time for waveform, for a 4 * 49 batch size is:\n",
      "639 ms ± 5.06 ms per loop (mean ± std. dev. of 7 runs, 1 loop each)\n",
      "Batch generation time for waveform, for a 5 * 49 batch size is:\n",
      "799 ms ± 6.39 ms per loop (mean ± std. dev. of 7 runs, 1 loop each)\n",
      "Batch generation time for waveform, for a 6 * 49 batch size is:\n",
      "987 ms ± 13.1 ms per loop (mean ± std. dev. of 7 runs, 1 loop each)\n",
      "Initialisation time for random_patch is:\n",
      "1.22 s ± 4.99 ms per loop (mean ± std. dev. of 7 runs, 1 loop each)\n",
      "Batch generation time for random_patch, for a 4 * 49 batch size is:\n",
      "734 ms ± 6.01 ms per loop (mean ± std. dev. of 7 runs, 1 loop each)\n",
      "Batch generation time for random_patch, for a 5 * 49 batch size is:\n",
      "930 ms ± 6.25 ms per loop (mean ± std. dev. of 7 runs, 1 loop each)\n",
      "Batch generation time for random_patch, for a 6 * 49 batch size is:\n",
      "1.14 s ± 12.5 ms per loop (mean ± std. dev. of 7 runs, 1 loop each)\n",
      "Initialisation time for balanced_patches is:\n",
      "7.18 s ± 52.1 ms per loop (mean ± std. dev. of 7 runs, 1 loop each)\n",
      "Batch generation time for balanced_patches, for a 4 * 49 batch size is:\n",
      "303 ms ± 1.93 ms per loop (mean ± std. dev. of 7 runs, 1 loop each)\n",
      "Batch generation time for balanced_patches, for a 5 * 49 batch size is:\n",
      "381 ms ± 1.45 ms per loop (mean ± std. dev. of 7 runs, 1 loop each)\n",
      "Batch generation time for balanced_patches, for a 6 * 49 batch size is:\n",
      "461 ms ± 1.5 ms per loop (mean ± std. dev. of 7 runs, 1 loop each)\n",
      "Initialisation time for hot_patch is:\n",
      "1.35 s ± 12.3 ms per loop (mean ± std. dev. of 7 runs, 1 loop each)\n",
      "Batch generation time for hot_patch, for a 4 * 49 batch size is:\n",
      "778 ms ± 7.45 ms per loop (mean ± std. dev. of 7 runs, 1 loop each)\n",
      "Batch generation time for hot_patch, for a 5 * 49 batch size is:\n",
      "976 ms ± 9.65 ms per loop (mean ± std. dev. of 7 runs, 1 loop each)\n",
      "Batch generation time for hot_patch, for a 6 * 49 batch size is:\n",
      "1.17 s ± 6.95 ms per loop (mean ± std. dev. of 7 runs, 1 loop each)\n",
      "Initialisation time for all_patches is:\n",
      "1.39 s ± 8.92 ms per loop (mean ± std. dev. of 7 runs, 1 loop each)\n",
      "Batch generation time for all_patches, for a 4 * 49 batch size is:\n",
      "306 ms ± 997 μs per loop (mean ± std. dev. of 7 runs, 1 loop each)\n",
      "Batch generation time for all_patches, for a 5 * 49 batch size is:\n",
      "384 ms ± 1.55 ms per loop (mean ± std. dev. of 7 runs, 1 loop each)\n",
      "Batch generation time for all_patches, for a 6 * 49 batch size is:\n",
      "464 ms ± 1.37 ms per loop (mean ± std. dev. of 7 runs, 1 loop each)\n",
      "Initialisation time for double_random is:\n",
      "1.39 s ± 21.4 ms per loop (mean ± std. dev. of 7 runs, 1 loop each)\n",
      "Batch generation time for double_random, for a 4 * 49 batch size is:\n",
      "577 ms ± 3.15 ms per loop (mean ± std. dev. of 7 runs, 1 loop each)\n",
      "Batch generation time for double_random, for a 5 * 49 batch size is:\n",
      "729 ms ± 2.45 ms per loop (mean ± std. dev. of 7 runs, 1 loop each)\n",
      "Batch generation time for double_random, for a 6 * 49 batch size is:\n",
      "856 ms ± 12.8 ms per loop (mean ± std. dev. of 7 runs, 1 loop each)\n"
     ]
    }
   ],
   "source": [
    "import warnings\n",
    "from astropy.table import Table\n",
    "warnings.simplefilter(\"ignore\")\n",
    "names = []\n",
    "init = []\n",
    "batch4 = []\n",
    "batch5 = []\n",
    "batch6 = []\n",
    "out_lengths = []\n",
    "outputs = [\"waveform\", \"random_patch\", \"balanced_patches\", \"hot_patch\", \"all_patches\", \"double_random\"]\n",
    "file = [\"/gamma3/users/jbuces/software/mc_data/trigerless_gammas/reduced_ctapipe/corsika_run1.dl1b.h5\"]\n",
    "\n",
    "for outs in outputs:\n",
    "    print(f\"Initialisation time for {outs} is:\")\n",
    "    names.append(outs)\n",
    "    time =%timeit -o DLRawTriggerReader(input_url_signal=file,image_mapper_type=\"ShiftingMapper\",mode = \"mono\",sequence_position= \"maximum\",output_settings = outs,hot_pixel_from_simulation = True,trigger_settings = {\"number_of_trigger_patches\" : 7,\"nsb_threshold\" : 0, \"interleave_patches\" : True},sequence_length = 10,allowed_tel_types=[\"LST_UNKNOWN-387M2_UNKNOWN-7987PX\"],allowed_tels = [1],quality_cuts = False)\n",
    "    mean_time = np.mean(time.all_runs)\n",
    "    init.append(mean_time)\n",
    "    reader = DLRawTriggerReader(input_url_signal=file,image_mapper_type=\"ShiftingMapper\",mode = \"mono\",sequence_position= \"maximum\",output_settings = outs,hot_pixel_from_simulation = True,trigger_settings = {\"number_of_trigger_patches\" : 7,\"nsb_threshold\" : 0, \"interleave_patches\" : True},sequence_length = 10,allowed_tel_types=[\"LST_UNKNOWN-387M2_UNKNOWN-7987PX\"],allowed_tels = [1],quality_cuts = False)\n",
    "    out_length = len(reader.example_identifiers)\n",
    "    out_lengths.append(out_length)\n",
    "    for i, batch_list in zip([4,5,6], [batch4, batch5, batch6]):\n",
    "        print(f\"Batch generation time for {outs}, for a {i} * 49 batch size is:\")\n",
    "        time = %timeit -o reader.generate_mono_batch(batch_indices = list(np.arange(49*i)))\n",
    "        mean_time = np.mean(time.all_runs)\n",
    "        batch_list.append(mean_time)\n",
    "\n",
    "table = Table([names, out_lengths, init, batch4, batch5, batch6], names=(\"output_setting\", \"identifiers_length\", \"initialisation_time\", \"batch_4\", \"batch_5\",\"batch_6\"))\n",
    "table.write(\"results.csv\", format=\"csv\", overwrite=True)"
   ]
  },
  {
   "cell_type": "code",
   "execution_count": 26,
   "id": "cdd1c528-3d9d-4cae-aaf6-fbb8105bba34",
   "metadata": {},
   "outputs": [],
   "source": [
    "from astropy import units as u\n",
    "\n",
    "table[\"init_time\"].unit = u.s\n",
    "table[\"batch_4\"].unit = u.s\n",
    "table[\"batch_5\"].unit = u.s\n",
    "table[\"batch_6\"].unit = u.s\n"
   ]
  },
  {
   "cell_type": "code",
   "execution_count": 23,
   "id": "6c8478c6-dae6-460f-9e34-32e9d63e9d7b",
   "metadata": {},
   "outputs": [],
   "source": [
    "for col in [\"init_time\", \"batch_4\", \"batch_5\", \"batch_6\"]:\n",
    "    table[col] = np.round(table[col], 3)"
   ]
  },
  {
   "cell_type": "code",
   "execution_count": 27,
   "id": "80eb3b59-6980-47d4-bbba-b13d3e1f8908",
   "metadata": {},
   "outputs": [
    {
     "data": {
      "text/html": [
       "<div><i>Table length=6</i>\n",
       "<table id=\"table139963871832992\" class=\"table-striped table-bordered table-condensed\">\n",
       "<thead><tr><th>output_setting</th><th>identifiers_length</th><th>init_time</th><th>batch_4</th><th>batch_5</th><th>batch_6</th></tr></thead>\n",
       "<thead><tr><th></th><th></th><th>s</th><th>s</th><th>s</th><th>s</th></tr></thead>\n",
       "<thead><tr><th>str16</th><th>int64</th><th>float64</th><th>float64</th><th>float64</th><th>float64</th></tr></thead>\n",
       "<tr><td>waveform</td><td>11044</td><td>1.142</td><td>0.639</td><td>0.799</td><td>0.987</td></tr>\n",
       "<tr><td>random_patch</td><td>11044</td><td>1.216</td><td>0.734</td><td>0.93</td><td>1.139</td></tr>\n",
       "<tr><td>balanced_patches</td><td>266209</td><td>7.176</td><td>0.303</td><td>0.381</td><td>0.461</td></tr>\n",
       "<tr><td>hot_patch</td><td>11044</td><td>1.355</td><td>0.778</td><td>0.976</td><td>1.172</td></tr>\n",
       "<tr><td>all_patches</td><td>541156</td><td>1.393</td><td>0.306</td><td>0.384</td><td>0.464</td></tr>\n",
       "<tr><td>double_random</td><td>22088</td><td>1.39</td><td>0.577</td><td>0.729</td><td>0.856</td></tr>\n",
       "</table></div>"
      ],
      "text/plain": [
       "<Table length=6>\n",
       " output_setting  identifiers_length init_time batch_4 batch_5 batch_6\n",
       "                                        s        s       s       s   \n",
       "     str16             int64         float64  float64 float64 float64\n",
       "---------------- ------------------ --------- ------- ------- -------\n",
       "        waveform              11044     1.142   0.639   0.799   0.987\n",
       "    random_patch              11044     1.216   0.734    0.93   1.139\n",
       "balanced_patches             266209     7.176   0.303   0.381   0.461\n",
       "       hot_patch              11044     1.355   0.778   0.976   1.172\n",
       "     all_patches             541156     1.393   0.306   0.384   0.464\n",
       "   double_random              22088      1.39   0.577   0.729   0.856"
      ]
     },
     "execution_count": 27,
     "metadata": {},
     "output_type": "execute_result"
    }
   ],
   "source": [
    "table"
   ]
  },
  {
   "cell_type": "code",
   "execution_count": 16,
   "id": "45e3757a-f11a-497f-8d55-fd6b32b2b961",
   "metadata": {},
   "outputs": [],
   "source": [
    "table.write(\"times.csv\", format=\"csv\", overwrite=True)"
   ]
  },
  {
   "cell_type": "code",
   "execution_count": 6,
   "id": "1e52bd7c-5029-4fa9-b7f7-d4199e0b8dbe",
   "metadata": {
    "scrolled": true
   },
   "outputs": [
    {
     "name": "stdout",
     "output_type": "stream",
     "text": [
      "1.12 s ± 2.22 ms per loop (mean ± std. dev. of 7 runs, 1 loop each)\n"
     ]
    }
   ],
   "source": [
    "%%timeit\n",
    "\n",
    "reader = DLRawTriggerReader(input_url_signal=[\"/gamma3/users/jbuces/software/mc_data/trigerless_gammas/reduced_ctapipe/corsika_run1.dl1b.h5\"],\n",
    "                              image_mapper_type  = \"ShiftingMapper\",\n",
    "                              mode = \"mono\",\n",
    "                              sequence_position= \"maximum\", \n",
    "                              output_settings = \"hot_patch\",\n",
    "                              hot_pixel_from_simulation = True,\n",
    "                              trigger_settings = {\"number_of_trigger_patches\" : 7,\"nsb_threshold\" : 0, \"interleave_patches\" : False},\n",
    "                              sequence_length = 10,\n",
    "                              allowed_tel_types=[\"LST_UNKNOWN-387M2_UNKNOWN-7987PX\"],\n",
    "                              allowed_tels = [1],\n",
    "                              quality_cuts = False)"
   ]
  },
  {
   "cell_type": "code",
   "execution_count": 9,
   "id": "ec93226d-017d-4cb8-a30d-e53a84ab55aa",
   "metadata": {},
   "outputs": [
    {
     "name": "stdout",
     "output_type": "stream",
     "text": [
      "213 ms ± 1.4 ms per loop (mean ± std. dev. of 7 runs, 1 loop each)\n"
     ]
    }
   ],
   "source": [
    "%timeit reader.generate_mono_batch(batch_indices = list(np.arange(49*3)))"
   ]
  },
  {
   "cell_type": "code",
   "execution_count": 3,
   "id": "7d022c49-8f9f-40dc-9747-56bc230f6f2d",
   "metadata": {},
   "outputs": [
    {
     "data": {
      "text/html": [
       "<div><i>Table length=50</i>\n",
       "<table id=\"table139964009795792\" class=\"table-striped table-bordered table-condensed\">\n",
       "<thead><tr><th>index</th><th>file_index</th><th>table_index</th><th>obs_id</th><th>tel_type_id</th><th>event_id</th><th>tel_id</th><th>features</th><th>cherenkov_pe</th><th>true_energy</th><th>true_alt</th><th>true_az</th><th>true_shower_primary_id</th><th>telescope_pointing_azimuth</th><th>telescope_pointing_altitude</th><th>cam_coord_offset_x</th><th>cam_coord_offset_y</th><th>cam_coord_distance</th><th>pointing_altitude</th><th>pointing_azimuth</th><th>fov_lon</th><th>fov_lat</th><th>angular_separation</th><th>log_true_energy</th><th>true_shower_primary_class</th></tr></thead>\n",
       "<thead><tr><th></th><th></th><th></th><th></th><th></th><th></th><th></th><th></th><th></th><th>TeV</th><th>deg</th><th>deg</th><th></th><th>rad</th><th>rad</th><th>m</th><th>m</th><th>m</th><th>rad</th><th>rad</th><th>deg</th><th>deg</th><th>deg</th><th>TeV</th><th></th></tr></thead>\n",
       "<thead><tr><th>int64</th><th>int64</th><th>int64</th><th>int32</th><th>int64</th><th>int64</th><th>int64</th><th>float32[28,28,10]</th><th>int64</th><th>float64</th><th>float64</th><th>float64</th><th>int64</th><th>float32</th><th>float32</th><th>float64</th><th>float64</th><th>float64</th><th>float32</th><th>float32</th><th>float64</th><th>float64</th><th>float64</th><th>float64</th><th>int64</th></tr></thead>\n",
       "<tr><td>0</td><td>0</td><td>0</td><td>1</td><td>0</td><td>502</td><td>1</td><td>294.0 .. 298.0</td><td>74</td><td>0.010171852074563503</td><td>70.8581309781398</td><td>181.60217614294456</td><td>0</td><td>3.1415927</td><td>1.2217305</td><td>0.4227355661326657</td><td>0.25674130378849946</td><td>0.49459221177099416</td><td>1.2217305</td><td>3.1415927</td><td>0.525364040491684</td><td>0.8650344210526874</td><td>1.012062721931632</td><td>-1.9925999642324606</td><td>1</td></tr>\n",
       "<tr><td>1</td><td>0</td><td>1</td><td>1</td><td>0</td><td>1903</td><td>1</td><td>290.0 .. 300.0</td><td>49</td><td>0.0323750302195549</td><td>69.25027029657295</td><td>186.42116147033371</td><td>0</td><td>3.1415927</td><td>1.2217305</td><td>-0.30790411013018615</td><td>1.1097723374083772</td><td>1.1516942224010307</td><td>1.2217305</td><td>3.1415927</td><td>2.270902541209585</td><td>-0.6300573573282486</td><td>2.3566422580210893</td><td>-1.4897898175306203</td><td>1</td></tr>\n",
       "<tr><td>2</td><td>0</td><td>2</td><td>1</td><td>0</td><td>3101</td><td>1</td><td>0.0 .. 314.0</td><td>41</td><td>0.3737192451953888</td><td>67.79137604080408</td><td>180.21307959030406</td><td>0</td><td>3.1415927</td><td>1.2217305</td><td>-1.0792681371659878</td><td>0.039387450674590055</td><td>1.079986612496833</td><td>1.2217305</td><td>3.1415927</td><td>0.08059766747977562</td><td>-2.208482472234197</td><td>2.2099519444395197</td><td>-0.42745453697254265</td><td>1</td></tr>\n",
       "<tr><td>3</td><td>0</td><td>3</td><td>1</td><td>0</td><td>3305</td><td>1</td><td>299.0 .. 311.0</td><td>44</td><td>0.015845729038119316</td><td>69.0996782857525</td><td>185.95937238054913</td><td>0</td><td>3.1415927</td><td>1.2217305</td><td>-0.38924800953581734</td><td>1.0374073443327192</td><td>1.1080288854551856</td><td>1.2217305</td><td>3.1415927</td><td>2.122823659504991</td><td>-0.7965095760810841</td><td>2.2672709291791677</td><td>-1.800087774779224</td><td>1</td></tr>\n",
       "<tr><td>4</td><td>0</td><td>4</td><td>1</td><td>0</td><td>3307</td><td>1</td><td>0.0 .. 0.0</td><td>33</td><td>0.015845729038119316</td><td>69.0996782857525</td><td>185.95937238054913</td><td>0</td><td>3.1415927</td><td>1.2217305</td><td>-0.38924800953581734</td><td>1.0374073443327192</td><td>1.1080288854551856</td><td>1.2217305</td><td>3.1415927</td><td>2.122823659504991</td><td>-0.7965095760810841</td><td>2.2672709291791677</td><td>-1.800087774779224</td><td>1</td></tr>\n",
       "<tr><td>5</td><td>0</td><td>5</td><td>1</td><td>0</td><td>3700</td><td>1</td><td>316.0 .. 289.0</td><td>145</td><td>0.1309148669242859</td><td>69.31930301851428</td><td>171.15997803415397</td><td>0</td><td>3.1415927</td><td>1.2217305</td><td>-0.2222668099460944</td><td>-1.5204173391842597</td><td>1.536577827542672</td><td>1.2217305</td><td>3.1415927</td><td>-3.11119630834888</td><td>-0.4548196477052714</td><td>3.1442328200134004</td><td>-0.8830110313976508</td><td>1</td></tr>\n",
       "<tr><td>6</td><td>0</td><td>6</td><td>1</td><td>0</td><td>3701</td><td>1</td><td>295.0 .. 293.0</td><td>82</td><td>0.1309148669242859</td><td>69.31930301851428</td><td>171.15997803415397</td><td>0</td><td>3.1415927</td><td>1.2217305</td><td>-0.2222668099460944</td><td>-1.5204173391842597</td><td>1.536577827542672</td><td>1.2217305</td><td>3.1415927</td><td>-3.11119630834888</td><td>-0.4548196477052714</td><td>3.1442328200134004</td><td>-0.8830110313976508</td><td>1</td></tr>\n",
       "<tr><td>7</td><td>0</td><td>7</td><td>1</td><td>0</td><td>5900</td><td>1</td><td>0.0 .. 288.0</td><td>11</td><td>0.03297586739063263</td><td>70.03329684340156</td><td>180.41779402010766</td><td>0</td><td>3.1415927</td><td>1.2217305</td><td>0.016511086812339367</td><td>0.06971828905813392</td><td>0.07164674324013705</td><td>1.2217305</td><td>3.1415927</td><td>0.1426629899251493</td><td>0.033786271054327056</td><td>0.14660913493570701</td><td>-1.481803772036002</td><td>1</td></tr>\n",
       "<tr><td>8</td><td>0</td><td>8</td><td>1</td><td>0</td><td>5909</td><td>1</td><td>301.0 .. 0.0</td><td>34</td><td>0.03297586739063263</td><td>70.03329684340156</td><td>180.41779402010766</td><td>0</td><td>3.1415927</td><td>1.2217305</td><td>0.016511086812339367</td><td>0.06971828905813392</td><td>0.07164674324013705</td><td>1.2217305</td><td>3.1415927</td><td>0.1426629899251493</td><td>0.033786271054327056</td><td>0.14660913493570701</td><td>-1.481803772036002</td><td>1</td></tr>\n",
       "<tr><td>...</td><td>...</td><td>...</td><td>...</td><td>...</td><td>...</td><td>...</td><td>...</td><td>...</td><td>...</td><td>...</td><td>...</td><td>...</td><td>...</td><td>...</td><td>...</td><td>...</td><td>...</td><td>...</td><td>...</td><td>...</td><td>...</td><td>...</td><td>...</td><td>...</td></tr>\n",
       "<tr><td>41</td><td>0</td><td>41</td><td>1</td><td>0</td><td>24109</td><td>1</td><td>0.0 .. 301.0</td><td>20</td><td>0.2062327265739441</td><td>66.8813626169266</td><td>180.5407374251679</td><td>0</td><td>3.1415927</td><td>1.2217305</td><td>-1.5235926633909973</td><td>0.10390730183520445</td><td>1.52713173345116</td><td>1.2217305</td><td>3.1415927</td><td>0.21262320913389887</td><td>-3.1176939039071585</td><td>3.12492868390066</td><td>-0.6856424164399666</td><td>1</td></tr>\n",
       "<tr><td>42</td><td>0</td><td>42</td><td>1</td><td>0</td><td>24907</td><td>1</td><td>0.0 .. 0.0</td><td>15</td><td>0.07417136430740356</td><td>73.62164600689447</td><td>191.99751915402888</td><td>0</td><td>3.1415927</td><td>1.2217305</td><td>1.9322871927645306</td><td>1.646077309339272</td><td>2.53836646362251</td><td>1.2217305</td><td>3.1415927</td><td>3.3683315206210973</td><td>3.9539964625924764</td><td>5.192468052778966</td><td>-1.129763732505967</td><td>1</td></tr>\n",
       "<tr><td>43</td><td>0</td><td>43</td><td>1</td><td>0</td><td>25102</td><td>1</td><td>295.0 .. 308.0</td><td>32</td><td>0.009986328892409801</td><td>71.3302746347061</td><td>182.30075423087513</td><td>0</td><td>3.1415927</td><td>1.2217305</td><td>0.6568867092142044</td><td>0.3599332845757531</td><td>0.7490341234468272</td><td>1.2217305</td><td>3.1415927</td><td>0.7365235040168523</td><td>1.34417271629326</td><td>1.5326994607428015</td><td>-2.0005941348754828</td><td>1</td></tr>\n",
       "<tr><td>44</td><td>0</td><td>44</td><td>1</td><td>0</td><td>25503</td><td>1</td><td>301.0 .. 0.0</td><td>8</td><td>0.09024953097105026</td><td>70.34717135652032</td><td>191.19225351126272</td><td>0</td><td>3.1415927</td><td>1.2217305</td><td>0.3379637251533846</td><td>1.8292817148951452</td><td>1.8602395200536075</td><td>1.2217305</td><td>3.1415927</td><td>3.7432186358551918</td><td>0.6915676814217242</td><td>3.806477501329539</td><td>-1.044555046455147</td><td>1</td></tr>\n",
       "<tr><td>45</td><td>0</td><td>45</td><td>1</td><td>0</td><td>25504</td><td>1</td><td>294.0 .. 293.0</td><td>34</td><td>0.09024953097105026</td><td>70.34717135652032</td><td>191.19225351126272</td><td>0</td><td>3.1415927</td><td>1.2217305</td><td>0.3379637251533846</td><td>1.8292817148951452</td><td>1.8602395200536075</td><td>1.2217305</td><td>3.1415927</td><td>3.7432186358551918</td><td>0.6915676814217242</td><td>3.806477501329539</td><td>-1.044555046455147</td><td>1</td></tr>\n",
       "<tr><td>46</td><td>0</td><td>46</td><td>1</td><td>0</td><td>25704</td><td>1</td><td>304.0 .. 291.0</td><td>27</td><td>0.02199808694422245</td><td>71.63720967562814</td><td>180.70426581427634</td><td>0</td><td>3.1415927</td><td>1.2217305</td><td>0.8007183217066621</td><td>0.10846568551192345</td><td>0.8080313333344847</td><td>1.2217305</td><td>3.1415927</td><td>0.2219509286366605</td><td>1.6384921575925082</td><td>1.6534525501820325</td><td>-1.657615085800208</td><td>1</td></tr>\n",
       "<tr><td>47</td><td>0</td><td>47</td><td>1</td><td>0</td><td>25807</td><td>1</td><td>294.0 .. 293.0</td><td>15</td><td>0.011297103948891163</td><td>71.09924348603042</td><td>173.25110875044507</td><td>0</td><td>3.1415927</td><td>1.2217305</td><td>0.5962627119477388</td><td>-1.0663945977253988</td><td>1.221771934412142</td><td>1.2217305</td><td>3.1415927</td><td>-2.1821396337577346</td><td>1.2201191741296487</td><td>2.499940859998045</td><td>-1.9470328751196728</td><td>1</td></tr>\n",
       "<tr><td>48</td><td>0</td><td>48</td><td>1</td><td>0</td><td>26507</td><td>1</td><td>312.0 .. 0.0</td><td>28</td><td>0.05603126436471939</td><td>69.94057019522945</td><td>173.45795419926975</td><td>0</td><td>3.1415927</td><td>1.2217305</td><td>0.02972152291435886</td><td>-1.0944689152694842</td><td>1.0948724014311029</td><td>1.2217305</td><td>3.1415927</td><td>-2.2395874876143838</td><td>0.06081849370336176</td><td>2.2404127119442365</td><td>-1.2515695774177553</td><td>1</td></tr>\n",
       "<tr><td>49</td><td>0</td><td>49</td><td>1</td><td>0</td><td>26702</td><td>1</td><td>308.0 .. 302.0</td><td>18</td><td>0.013811983168125153</td><td>71.60208201272675</td><td>178.470425125467</td><td>0</td><td>3.1415927</td><td>1.2217305</td><td>0.7858854464060079</td><td>-0.23598762395463524</td><td>0.8205523100525186</td><td>1.2217305</td><td>3.1415927</td><td>-0.4828962453543202</td><td>1.6081399735649606</td><td>1.679059773024013</td><td>-1.859743959572136</td><td>1</td></tr>\n",
       "</table></div>"
      ],
      "text/plain": [
       "<Table length=50>\n",
       "index file_index table_index ...   log_true_energy    true_shower_primary_class\n",
       "                             ...         TeV                                   \n",
       "int64   int64       int64    ...       float64                  int64          \n",
       "----- ---------- ----------- ... -------------------- -------------------------\n",
       "    0          0           0 ...  -1.9925999642324606                         1\n",
       "    1          0           1 ...  -1.4897898175306203                         1\n",
       "    2          0           2 ... -0.42745453697254265                         1\n",
       "    3          0           3 ...   -1.800087774779224                         1\n",
       "    4          0           4 ...   -1.800087774779224                         1\n",
       "    5          0           5 ...  -0.8830110313976508                         1\n",
       "    6          0           6 ...  -0.8830110313976508                         1\n",
       "    7          0           7 ...   -1.481803772036002                         1\n",
       "    8          0           8 ...   -1.481803772036002                         1\n",
       "  ...        ...         ... ...                  ...                       ...\n",
       "   41          0          41 ...  -0.6856424164399666                         1\n",
       "   42          0          42 ...   -1.129763732505967                         1\n",
       "   43          0          43 ...  -2.0005941348754828                         1\n",
       "   44          0          44 ...   -1.044555046455147                         1\n",
       "   45          0          45 ...   -1.044555046455147                         1\n",
       "   46          0          46 ...   -1.657615085800208                         1\n",
       "   47          0          47 ...  -1.9470328751196728                         1\n",
       "   48          0          48 ...  -1.2515695774177553                         1\n",
       "   49          0          49 ...   -1.859743959572136                         1"
      ]
     },
     "execution_count": 3,
     "metadata": {},
     "output_type": "execute_result"
    }
   ],
   "source": [
    "reader.generate_mono_batch(batch_indices = list(np.arange(50)))"
   ]
  },
  {
   "cell_type": "code",
   "execution_count": 36,
   "id": "1b2ead61-6de9-42e6-beab-9f956eb65df6",
   "metadata": {
    "scrolled": true
   },
   "outputs": [
    {
     "data": {
      "text/html": [
       "<div><i>Table length=11044</i>\n",
       "<table id=\"table139662397373472\" class=\"table-striped table-bordered table-condensed\">\n",
       "<thead><tr><th>index</th><th>file_index</th><th>table_index</th><th>obs_id</th><th>tel_type_id</th><th>event_id</th><th>tel_id</th><th>true_energy</th><th>true_alt</th><th>true_az</th><th>true_shower_primary_id</th><th>telescope_pointing_azimuth</th><th>telescope_pointing_altitude</th><th>cam_coord_offset_x</th><th>cam_coord_offset_y</th><th>cam_coord_distance</th><th>pointing_altitude</th><th>pointing_azimuth</th><th>fov_lon</th><th>fov_lat</th><th>angular_separation</th><th>log_true_energy</th><th>true_shower_primary_class</th></tr></thead>\n",
       "<thead><tr><th></th><th></th><th></th><th></th><th></th><th></th><th></th><th>TeV</th><th>deg</th><th>deg</th><th></th><th>rad</th><th>rad</th><th>m</th><th>m</th><th>m</th><th>rad</th><th>rad</th><th>deg</th><th>deg</th><th>deg</th><th>TeV</th><th></th></tr></thead>\n",
       "<thead><tr><th>int64</th><th>int64</th><th>int64</th><th>int32</th><th>int64</th><th>int64</th><th>int64</th><th>float64</th><th>float64</th><th>float64</th><th>int64</th><th>float32</th><th>float32</th><th>float64</th><th>float64</th><th>float64</th><th>float32</th><th>float32</th><th>float64</th><th>float64</th><th>float64</th><th>float64</th><th>int64</th></tr></thead>\n",
       "<tr><td>0</td><td>0</td><td>0</td><td>1</td><td>0</td><td>502</td><td>1</td><td>0.010171852074563503</td><td>70.8581309781398</td><td>181.60217614294456</td><td>0</td><td>3.1415927</td><td>1.2217305</td><td>0.4227355661326657</td><td>0.25674130378849946</td><td>0.49459221177099416</td><td>1.2217305</td><td>3.1415927</td><td>0.525364040491684</td><td>0.8650344210526874</td><td>1.012062721931632</td><td>-1.9925999642324606</td><td>1</td></tr>\n",
       "<tr><td>1</td><td>0</td><td>1</td><td>1</td><td>0</td><td>1903</td><td>1</td><td>0.0323750302195549</td><td>69.25027029657295</td><td>186.42116147033371</td><td>0</td><td>3.1415927</td><td>1.2217305</td><td>-0.30790411013018615</td><td>1.1097723374083772</td><td>1.1516942224010307</td><td>1.2217305</td><td>3.1415927</td><td>2.270902541209585</td><td>-0.6300573573282486</td><td>2.3566422580210893</td><td>-1.4897898175306203</td><td>1</td></tr>\n",
       "<tr><td>2</td><td>0</td><td>2</td><td>1</td><td>0</td><td>3101</td><td>1</td><td>0.3737192451953888</td><td>67.79137604080408</td><td>180.21307959030406</td><td>0</td><td>3.1415927</td><td>1.2217305</td><td>-1.0792681371659878</td><td>0.039387450674590055</td><td>1.079986612496833</td><td>1.2217305</td><td>3.1415927</td><td>0.08059766747977562</td><td>-2.208482472234197</td><td>2.2099519444395197</td><td>-0.42745453697254265</td><td>1</td></tr>\n",
       "<tr><td>3</td><td>0</td><td>3</td><td>1</td><td>0</td><td>3305</td><td>1</td><td>0.015845729038119316</td><td>69.0996782857525</td><td>185.95937238054913</td><td>0</td><td>3.1415927</td><td>1.2217305</td><td>-0.38924800953581734</td><td>1.0374073443327192</td><td>1.1080288854551856</td><td>1.2217305</td><td>3.1415927</td><td>2.122823659504991</td><td>-0.7965095760810841</td><td>2.2672709291791677</td><td>-1.800087774779224</td><td>1</td></tr>\n",
       "<tr><td>4</td><td>0</td><td>4</td><td>1</td><td>0</td><td>3307</td><td>1</td><td>0.015845729038119316</td><td>69.0996782857525</td><td>185.95937238054913</td><td>0</td><td>3.1415927</td><td>1.2217305</td><td>-0.38924800953581734</td><td>1.0374073443327192</td><td>1.1080288854551856</td><td>1.2217305</td><td>3.1415927</td><td>2.122823659504991</td><td>-0.7965095760810841</td><td>2.2672709291791677</td><td>-1.800087774779224</td><td>1</td></tr>\n",
       "<tr><td>5</td><td>0</td><td>5</td><td>1</td><td>0</td><td>3700</td><td>1</td><td>0.1309148669242859</td><td>69.31930301851428</td><td>171.15997803415397</td><td>0</td><td>3.1415927</td><td>1.2217305</td><td>-0.2222668099460944</td><td>-1.5204173391842597</td><td>1.536577827542672</td><td>1.2217305</td><td>3.1415927</td><td>-3.11119630834888</td><td>-0.4548196477052714</td><td>3.1442328200134004</td><td>-0.8830110313976508</td><td>1</td></tr>\n",
       "<tr><td>6</td><td>0</td><td>6</td><td>1</td><td>0</td><td>3701</td><td>1</td><td>0.1309148669242859</td><td>69.31930301851428</td><td>171.15997803415397</td><td>0</td><td>3.1415927</td><td>1.2217305</td><td>-0.2222668099460944</td><td>-1.5204173391842597</td><td>1.536577827542672</td><td>1.2217305</td><td>3.1415927</td><td>-3.11119630834888</td><td>-0.4548196477052714</td><td>3.1442328200134004</td><td>-0.8830110313976508</td><td>1</td></tr>\n",
       "<tr><td>7</td><td>0</td><td>7</td><td>1</td><td>0</td><td>5900</td><td>1</td><td>0.03297586739063263</td><td>70.03329684340156</td><td>180.41779402010766</td><td>0</td><td>3.1415927</td><td>1.2217305</td><td>0.016511086812339367</td><td>0.06971828905813392</td><td>0.07164674324013705</td><td>1.2217305</td><td>3.1415927</td><td>0.1426629899251493</td><td>0.033786271054327056</td><td>0.14660913493570701</td><td>-1.481803772036002</td><td>1</td></tr>\n",
       "<tr><td>8</td><td>0</td><td>8</td><td>1</td><td>0</td><td>5909</td><td>1</td><td>0.03297586739063263</td><td>70.03329684340156</td><td>180.41779402010766</td><td>0</td><td>3.1415927</td><td>1.2217305</td><td>0.016511086812339367</td><td>0.06971828905813392</td><td>0.07164674324013705</td><td>1.2217305</td><td>3.1415927</td><td>0.1426629899251493</td><td>0.033786271054327056</td><td>0.14660913493570701</td><td>-1.481803772036002</td><td>1</td></tr>\n",
       "<tr><td>...</td><td>...</td><td>...</td><td>...</td><td>...</td><td>...</td><td>...</td><td>...</td><td>...</td><td>...</td><td>...</td><td>...</td><td>...</td><td>...</td><td>...</td><td>...</td><td>...</td><td>...</td><td>...</td><td>...</td><td>...</td><td>...</td><td>...</td></tr>\n",
       "<tr><td>11035</td><td>0</td><td>11035</td><td>1</td><td>0</td><td>4997706</td><td>1</td><td>0.09284572303295135</td><td>73.87658964785437</td><td>177.208260808362</td><td>0</td><td>3.1415927</td><td>1.2217305</td><td>1.9031514232030255</td><td>-0.37961517312606935</td><td>1.940642424380967</td><td>1.2217305</td><td>3.1415927</td><td>-0.7767981164018515</td><td>3.8943765829946204</td><td>3.9709765487634776</td><td>-1.0322380973735295</td><td>1</td></tr>\n",
       "<tr><td>11036</td><td>0</td><td>11036</td><td>1</td><td>0</td><td>4997807</td><td>1</td><td>0.0050892396830022335</td><td>71.60714318290174</td><td>175.140475678654</td><td>0</td><td>3.1415927</td><td>1.2217305</td><td>0.8152535547532812</td><td>-0.748835374651545</td><td>1.106974605339879</td><td>1.2217305</td><td>3.1415927</td><td>-1.5323252327725472</td><td>1.6682352828714495</td><td>2.2650311245162205</td><td>-2.2933470950976123</td><td>1</td></tr>\n",
       "<tr><td>11037</td><td>0</td><td>11037</td><td>1</td><td>0</td><td>4998805</td><td>1</td><td>0.019908679649233818</td><td>68.36702438405275</td><td>176.61878816223322</td><td>0</td><td>3.1415927</td><td>1.2217305</td><td>-0.7811298838384648</td><td>-0.609095159780086</td><td>0.990535617276341</td><td>1.2217305</td><td>3.1415927</td><td>-1.2463779277587663</td><td>-1.5984087712674389</td><td>2.0268116591997654</td><td>-1.7009575415831506</td><td>1</td></tr>\n",
       "<tr><td>11038</td><td>0</td><td>11038</td><td>1</td><td>0</td><td>4998806</td><td>1</td><td>0.019908679649233818</td><td>68.36702438405275</td><td>176.61878816223322</td><td>0</td><td>3.1415927</td><td>1.2217305</td><td>-0.7811298838384648</td><td>-0.609095159780086</td><td>0.990535617276341</td><td>1.2217305</td><td>3.1415927</td><td>-1.2463779277587663</td><td>-1.5984087712674389</td><td>2.0268116591997654</td><td>-1.7009575415831506</td><td>1</td></tr>\n",
       "<tr><td>11039</td><td>0</td><td>11039</td><td>1</td><td>0</td><td>4999006</td><td>1</td><td>0.0419791117310524</td><td>67.70455750626404</td><td>174.57494967575528</td><td>0</td><td>3.1415927</td><td>1.2217305</td><td>-1.0770174175128835</td><td>-1.005269440175148</td><td>1.4732729431358524</td><td>1.2217305</td><td>3.1415927</td><td>-2.0570605784112495</td><td>-2.203876874484554</td><td>3.014379573443772</td><td>-1.3769667552339369</td><td>1</td></tr>\n",
       "<tr><td>11040</td><td>0</td><td>11040</td><td>1</td><td>0</td><td>4999009</td><td>1</td><td>0.0419791117310524</td><td>67.70455750626404</td><td>174.57494967575528</td><td>0</td><td>3.1415927</td><td>1.2217305</td><td>-1.0770174175128835</td><td>-1.005269440175148</td><td>1.4732729431358524</td><td>1.2217305</td><td>3.1415927</td><td>-2.0570605784112495</td><td>-2.203876874484554</td><td>3.014379573443772</td><td>-1.3769667552339369</td><td>1</td></tr>\n",
       "<tr><td>11041</td><td>0</td><td>11041</td><td>1</td><td>0</td><td>4999102</td><td>1</td><td>0.15503492951393127</td><td>71.30391010450985</td><td>173.97071016064095</td><td>0</td><td>3.1415927</td><td>1.2217305</td><td>0.6838785875753675</td><td>-0.9432033303563117</td><td>1.1650418211117217</td><td>1.2217305</td><td>3.1415927</td><td>-1.9300560732892922</td><td>1.3994055988370149</td><td>2.3838438832187885</td><td>-0.8095704438545192</td><td>1</td></tr>\n",
       "<tr><td>11042</td><td>0</td><td>11042</td><td>1</td><td>0</td><td>4999109</td><td>1</td><td>0.15503492951393127</td><td>71.30391010450985</td><td>173.97071016064095</td><td>0</td><td>3.1415927</td><td>1.2217305</td><td>0.6838785875753675</td><td>-0.9432033303563117</td><td>1.1650418211117217</td><td>1.2217305</td><td>3.1415927</td><td>-1.9300560732892922</td><td>1.3994055988370149</td><td>2.3838438832187885</td><td>-0.8095704438545192</td><td>1</td></tr>\n",
       "<tr><td>11043</td><td>0</td><td>11043</td><td>1</td><td>0</td><td>4999600</td><td>1</td><td>0.13513591885566711</td><td>67.27531426787459</td><td>190.47164123306968</td><td>0</td><td>3.1415927</td><td>1.2217305</td><td>-1.1620796377156577</td><td>1.9692021401004243</td><td>2.286522720851347</td><td>1.2217305</td><td>3.1415927</td><td>4.0295347012815625</td><td>-2.3779378106856752</td><td>4.677863961267582</td><td>-0.869229201033562</td><td>1</td></tr>\n",
       "</table></div>"
      ],
      "text/plain": [
       "<Table length=11044>\n",
       "index file_index table_index ...   log_true_energy    true_shower_primary_class\n",
       "                             ...         TeV                                   \n",
       "int64   int64       int64    ...       float64                  int64          \n",
       "----- ---------- ----------- ... -------------------- -------------------------\n",
       "    0          0           0 ...  -1.9925999642324606                         1\n",
       "    1          0           1 ...  -1.4897898175306203                         1\n",
       "    2          0           2 ... -0.42745453697254265                         1\n",
       "    3          0           3 ...   -1.800087774779224                         1\n",
       "    4          0           4 ...   -1.800087774779224                         1\n",
       "    5          0           5 ...  -0.8830110313976508                         1\n",
       "    6          0           6 ...  -0.8830110313976508                         1\n",
       "    7          0           7 ...   -1.481803772036002                         1\n",
       "    8          0           8 ...   -1.481803772036002                         1\n",
       "  ...        ...         ... ...                  ...                       ...\n",
       "11035          0       11035 ...  -1.0322380973735295                         1\n",
       "11036          0       11036 ...  -2.2933470950976123                         1\n",
       "11037          0       11037 ...  -1.7009575415831506                         1\n",
       "11038          0       11038 ...  -1.7009575415831506                         1\n",
       "11039          0       11039 ...  -1.3769667552339369                         1\n",
       "11040          0       11040 ...  -1.3769667552339369                         1\n",
       "11041          0       11041 ...  -0.8095704438545192                         1\n",
       "11042          0       11042 ...  -0.8095704438545192                         1\n",
       "11043          0       11043 ...   -0.869229201033562                         1"
      ]
     },
     "execution_count": 36,
     "metadata": {},
     "output_type": "execute_result"
    }
   ],
   "source": [
    "reader.example_identifiers"
   ]
  },
  {
   "cell_type": "code",
   "execution_count": 8,
   "id": "d498cab2-f486-40f8-a1f2-1acb954cf827",
   "metadata": {
    "scrolled": true
   },
   "outputs": [
    {
     "data": {
      "text/plain": [
       "{'number_of_trigger_patches': 7,\n",
       " 'nsb_threshold': 0,\n",
       " 'interleave_patches': True,\n",
       " 'trigger_patch_size': [np.int64(28), np.int64(28)],\n",
       " 'trigger_patches': [{'x': np.int64(14), 'y': np.int64(14)},\n",
       "  {'x': np.int64(14), 'y': np.int64(29)},\n",
       "  {'x': np.int64(14), 'y': np.int64(43)},\n",
       "  {'x': np.int64(14), 'y': np.int64(58)},\n",
       "  {'x': np.int64(14), 'y': np.int64(73)},\n",
       "  {'x': np.int64(14), 'y': np.int64(87)},\n",
       "  {'x': np.int64(14), 'y': np.int64(102)},\n",
       "  {'x': np.int64(29), 'y': np.int64(14)},\n",
       "  {'x': np.int64(29), 'y': np.int64(29)},\n",
       "  {'x': np.int64(29), 'y': np.int64(43)},\n",
       "  {'x': np.int64(29), 'y': np.int64(58)},\n",
       "  {'x': np.int64(29), 'y': np.int64(73)},\n",
       "  {'x': np.int64(29), 'y': np.int64(87)},\n",
       "  {'x': np.int64(29), 'y': np.int64(102)},\n",
       "  {'x': np.int64(43), 'y': np.int64(14)},\n",
       "  {'x': np.int64(43), 'y': np.int64(29)},\n",
       "  {'x': np.int64(43), 'y': np.int64(43)},\n",
       "  {'x': np.int64(43), 'y': np.int64(58)},\n",
       "  {'x': np.int64(43), 'y': np.int64(73)},\n",
       "  {'x': np.int64(43), 'y': np.int64(87)},\n",
       "  {'x': np.int64(43), 'y': np.int64(102)},\n",
       "  {'x': np.int64(58), 'y': np.int64(14)},\n",
       "  {'x': np.int64(58), 'y': np.int64(29)},\n",
       "  {'x': np.int64(58), 'y': np.int64(43)},\n",
       "  {'x': np.int64(58), 'y': np.int64(58)},\n",
       "  {'x': np.int64(58), 'y': np.int64(73)},\n",
       "  {'x': np.int64(58), 'y': np.int64(87)},\n",
       "  {'x': np.int64(58), 'y': np.int64(102)},\n",
       "  {'x': np.int64(73), 'y': np.int64(14)},\n",
       "  {'x': np.int64(73), 'y': np.int64(29)},\n",
       "  {'x': np.int64(73), 'y': np.int64(43)},\n",
       "  {'x': np.int64(73), 'y': np.int64(58)},\n",
       "  {'x': np.int64(73), 'y': np.int64(73)},\n",
       "  {'x': np.int64(73), 'y': np.int64(87)},\n",
       "  {'x': np.int64(73), 'y': np.int64(102)},\n",
       "  {'x': np.int64(87), 'y': np.int64(14)},\n",
       "  {'x': np.int64(87), 'y': np.int64(29)},\n",
       "  {'x': np.int64(87), 'y': np.int64(43)},\n",
       "  {'x': np.int64(87), 'y': np.int64(58)},\n",
       "  {'x': np.int64(87), 'y': np.int64(73)},\n",
       "  {'x': np.int64(87), 'y': np.int64(87)},\n",
       "  {'x': np.int64(87), 'y': np.int64(102)},\n",
       "  {'x': np.int64(102), 'y': np.int64(14)},\n",
       "  {'x': np.int64(102), 'y': np.int64(29)},\n",
       "  {'x': np.int64(102), 'y': np.int64(43)},\n",
       "  {'x': np.int64(102), 'y': np.int64(58)},\n",
       "  {'x': np.int64(102), 'y': np.int64(73)},\n",
       "  {'x': np.int64(102), 'y': np.int64(87)},\n",
       "  {'x': np.int64(102), 'y': np.int64(102)}]}"
      ]
     },
     "execution_count": 8,
     "metadata": {},
     "output_type": "execute_result"
    }
   ],
   "source": [
    "reader.trigger_settings"
   ]
  },
  {
   "cell_type": "code",
   "execution_count": 12,
   "id": "59087653-79e8-4606-a627-e2181986739e",
   "metadata": {},
   "outputs": [
    {
     "name": "stdout",
     "output_type": "stream",
     "text": [
      "[50, 20, 60]\n"
     ]
    }
   ],
   "source": [
    "import numpy as np\n",
    "\n",
    "true_sums = np.array([10, 20, 30, 40, 50, 60, 70])\n",
    "temp_index = np.array([4, 1, 5])  # Randomly selected patches\n",
    "\n",
    "cherenkov = []\n",
    "cherenkov.extend(true_sums[temp_index].tolist())\n",
    "\n",
    "print(cherenkov)  # Output: [50, 20, 60]\n"
   ]
  },
  {
   "cell_type": "code",
   "execution_count": 5,
   "id": "00b1a29b-7535-42bc-b2ec-ad6c74ba8c6d",
   "metadata": {},
   "outputs": [
    {
     "name": "stdout",
     "output_type": "stream",
     "text": [
      "28.8 s ± 687 ms per loop (mean ± std. dev. of 7 runs, 1 loop each)\n"
     ]
    }
   ],
   "source": [
    "%timeit reader.generate_mono_batch(batch_indices = list(np.arange(10000)))"
   ]
  },
  {
   "cell_type": "code",
   "execution_count": 7,
   "id": "ed59c80c-b1dd-445d-a407-e77c3cc4cfb4",
   "metadata": {},
   "outputs": [
    {
     "data": {
      "text/html": [
       "<div><i>Table length=40</i>\n",
       "<table id=\"table140192156571920\" class=\"table-striped table-bordered table-condensed\">\n",
       "<thead><tr><th>index</th><th>file_index</th><th>table_index</th><th>obs_id</th><th>tel_type_id</th><th>event_id</th><th>tel_id</th><th>features</th><th>cherenkov_pe</th><th>true_energy</th><th>true_alt</th><th>true_az</th><th>true_shower_primary_id</th><th>spherical_offset_az</th><th>spherical_offset_alt</th><th>angular_separation</th><th>log_true_energy</th><th>true_shower_primary_class</th><th>cosmic_nsb</th></tr></thead>\n",
       "<thead><tr><th></th><th></th><th></th><th></th><th></th><th></th><th></th><th></th><th></th><th>TeV</th><th>deg</th><th>deg</th><th></th><th>deg</th><th>deg</th><th>deg</th><th>TeV</th><th></th><th></th></tr></thead>\n",
       "<thead><tr><th>int64</th><th>int64</th><th>int64</th><th>int32</th><th>int64</th><th>int64</th><th>int64</th><th>float32[28,28,10]</th><th>int64</th><th>float64</th><th>float64</th><th>float64</th><th>int64</th><th>float64</th><th>float64</th><th>float64</th><th>float64</th><th>int64</th><th>int64</th></tr></thead>\n",
       "<tr><td>0</td><td>0</td><td>0</td><td>1</td><td>0</td><td>502</td><td>1</td><td>295.0 .. 297.0</td><td>18</td><td>0.010171852074563503</td><td>70.8581309781398</td><td>181.60217614294456</td><td>0</td><td>0.525364040491684</td><td>0.8650344210526874</td><td>1.0120627219315363</td><td>-1.9925999642324606</td><td>1</td><td>0</td></tr>\n",
       "<tr><td>1</td><td>0</td><td>0</td><td>1</td><td>0</td><td>502</td><td>1</td><td>0.0 .. 0.0</td><td>0</td><td>0.010171852074563503</td><td>70.8581309781398</td><td>181.60217614294456</td><td>0</td><td>0.525364040491684</td><td>0.8650344210526874</td><td>1.0120627219315363</td><td>-1.9925999642324606</td><td>1</td><td>1</td></tr>\n",
       "<tr><td>2</td><td>0</td><td>1</td><td>1</td><td>0</td><td>1903</td><td>1</td><td>0.0 .. 288.0</td><td>2</td><td>0.0323750302195549</td><td>69.25027029657295</td><td>186.42116147033371</td><td>0</td><td>2.270902541209585</td><td>-0.6300573573282486</td><td>2.356642258017365</td><td>-1.4897898175306203</td><td>1</td><td>0</td></tr>\n",
       "<tr><td>3</td><td>0</td><td>1</td><td>1</td><td>0</td><td>1903</td><td>1</td><td>0.0 .. 0.0</td><td>0</td><td>0.0323750302195549</td><td>69.25027029657295</td><td>186.42116147033371</td><td>0</td><td>2.270902541209585</td><td>-0.6300573573282486</td><td>2.356642258017365</td><td>-1.4897898175306203</td><td>1</td><td>1</td></tr>\n",
       "<tr><td>4</td><td>0</td><td>2</td><td>1</td><td>0</td><td>3101</td><td>1</td><td>0.0 .. 0.0</td><td>2</td><td>0.3737192451953888</td><td>67.79137604080408</td><td>180.21307959030406</td><td>0</td><td>0.08059766747977562</td><td>-2.208482472234197</td><td>2.209951944437672</td><td>-0.42745453697254265</td><td>1</td><td>0</td></tr>\n",
       "<tr><td>5</td><td>0</td><td>2</td><td>1</td><td>0</td><td>3101</td><td>1</td><td>302.0 .. 300.0</td><td>0</td><td>0.3737192451953888</td><td>67.79137604080408</td><td>180.21307959030406</td><td>0</td><td>0.08059766747977562</td><td>-2.208482472234197</td><td>2.209951944437672</td><td>-0.42745453697254265</td><td>1</td><td>1</td></tr>\n",
       "<tr><td>6</td><td>0</td><td>3</td><td>1</td><td>0</td><td>3305</td><td>1</td><td>299.0 .. 318.0</td><td>21</td><td>0.015845729038119316</td><td>69.0996782857525</td><td>185.95937238054913</td><td>0</td><td>2.122823659504991</td><td>-0.7965095760810841</td><td>2.267270929175359</td><td>-1.800087774779224</td><td>1</td><td>0</td></tr>\n",
       "<tr><td>7</td><td>0</td><td>3</td><td>1</td><td>0</td><td>3305</td><td>1</td><td>311.0 .. 314.0</td><td>0</td><td>0.015845729038119316</td><td>69.0996782857525</td><td>185.95937238054913</td><td>0</td><td>2.122823659504991</td><td>-0.7965095760810841</td><td>2.267270929175359</td><td>-1.800087774779224</td><td>1</td><td>1</td></tr>\n",
       "<tr><td>8</td><td>0</td><td>4</td><td>1</td><td>0</td><td>3307</td><td>1</td><td>294.0 .. 299.0</td><td>37</td><td>0.015845729038119316</td><td>69.0996782857525</td><td>185.95937238054913</td><td>0</td><td>2.122823659504991</td><td>-0.7965095760810841</td><td>2.267270929175359</td><td>-1.800087774779224</td><td>1</td><td>0</td></tr>\n",
       "<tr><td>...</td><td>...</td><td>...</td><td>...</td><td>...</td><td>...</td><td>...</td><td>...</td><td>...</td><td>...</td><td>...</td><td>...</td><td>...</td><td>...</td><td>...</td><td>...</td><td>...</td><td>...</td><td>...</td></tr>\n",
       "<tr><td>31</td><td>0</td><td>15</td><td>1</td><td>0</td><td>11002</td><td>1</td><td>326.0 .. 0.0</td><td>0</td><td>3.087752103805542</td><td>68.61633311894738</td><td>173.44679367016593</td><td>0</td><td>-2.3854306460558434</td><td>-1.2553701070526102</td><td>2.6954262694663855</td><td>0.48964242629100024</td><td>1</td><td>1</td></tr>\n",
       "<tr><td>32</td><td>0</td><td>16</td><td>1</td><td>0</td><td>11003</td><td>1</td><td>303.0 .. 0.0</td><td>2417</td><td>3.087752103805542</td><td>68.61633311894738</td><td>173.44679367016593</td><td>0</td><td>-2.3854306460558434</td><td>-1.2553701070526102</td><td>2.6954262694663855</td><td>0.48964242629100024</td><td>1</td><td>0</td></tr>\n",
       "<tr><td>33</td><td>0</td><td>16</td><td>1</td><td>0</td><td>11003</td><td>1</td><td>0.0 .. 314.0</td><td>0</td><td>3.087752103805542</td><td>68.61633311894738</td><td>173.44679367016593</td><td>0</td><td>-2.3854306460558434</td><td>-1.2553701070526102</td><td>2.6954262694663855</td><td>0.48964242629100024</td><td>1</td><td>1</td></tr>\n",
       "<tr><td>34</td><td>0</td><td>17</td><td>1</td><td>0</td><td>11004</td><td>1</td><td>306.0 .. 294.0</td><td>3</td><td>3.087752103805542</td><td>68.61633311894738</td><td>173.44679367016593</td><td>0</td><td>-2.3854306460558434</td><td>-1.2553701070526102</td><td>2.6954262694663855</td><td>0.48964242629100024</td><td>1</td><td>0</td></tr>\n",
       "<tr><td>35</td><td>0</td><td>17</td><td>1</td><td>0</td><td>11004</td><td>1</td><td>307.0 .. 299.0</td><td>0</td><td>3.087752103805542</td><td>68.61633311894738</td><td>173.44679367016593</td><td>0</td><td>-2.3854306460558434</td><td>-1.2553701070526102</td><td>2.6954262694663855</td><td>0.48964242629100024</td><td>1</td><td>1</td></tr>\n",
       "<tr><td>36</td><td>0</td><td>18</td><td>1</td><td>0</td><td>11005</td><td>1</td><td>293.0 .. 291.0</td><td>71</td><td>3.087752103805542</td><td>68.61633311894738</td><td>173.44679367016593</td><td>0</td><td>-2.3854306460558434</td><td>-1.2553701070526102</td><td>2.6954262694663855</td><td>0.48964242629100024</td><td>1</td><td>0</td></tr>\n",
       "<tr><td>37</td><td>0</td><td>18</td><td>1</td><td>0</td><td>11005</td><td>1</td><td>296.0 .. 311.0</td><td>0</td><td>3.087752103805542</td><td>68.61633311894738</td><td>173.44679367016593</td><td>0</td><td>-2.3854306460558434</td><td>-1.2553701070526102</td><td>2.6954262694663855</td><td>0.48964242629100024</td><td>1</td><td>1</td></tr>\n",
       "<tr><td>38</td><td>0</td><td>19</td><td>1</td><td>0</td><td>11006</td><td>1</td><td>0.0 .. 292.0</td><td>22</td><td>3.087752103805542</td><td>68.61633311894738</td><td>173.44679367016593</td><td>0</td><td>-2.3854306460558434</td><td>-1.2553701070526102</td><td>2.6954262694663855</td><td>0.48964242629100024</td><td>1</td><td>0</td></tr>\n",
       "<tr><td>39</td><td>0</td><td>19</td><td>1</td><td>0</td><td>11006</td><td>1</td><td>0.0 .. 296.0</td><td>0</td><td>3.087752103805542</td><td>68.61633311894738</td><td>173.44679367016593</td><td>0</td><td>-2.3854306460558434</td><td>-1.2553701070526102</td><td>2.6954262694663855</td><td>0.48964242629100024</td><td>1</td><td>1</td></tr>\n",
       "</table></div>"
      ],
      "text/plain": [
       "<Table length=40>\n",
       "index file_index table_index ... true_shower_primary_class cosmic_nsb\n",
       "                             ...                                     \n",
       "int64   int64       int64    ...           int64             int64   \n",
       "----- ---------- ----------- ... ------------------------- ----------\n",
       "    0          0           0 ...                         1          0\n",
       "    1          0           0 ...                         1          1\n",
       "    2          0           1 ...                         1          0\n",
       "    3          0           1 ...                         1          1\n",
       "    4          0           2 ...                         1          0\n",
       "    5          0           2 ...                         1          1\n",
       "    6          0           3 ...                         1          0\n",
       "    7          0           3 ...                         1          1\n",
       "    8          0           4 ...                         1          0\n",
       "  ...        ...         ... ...                       ...        ...\n",
       "   31          0          15 ...                         1          1\n",
       "   32          0          16 ...                         1          0\n",
       "   33          0          16 ...                         1          1\n",
       "   34          0          17 ...                         1          0\n",
       "   35          0          17 ...                         1          1\n",
       "   36          0          18 ...                         1          0\n",
       "   37          0          18 ...                         1          1\n",
       "   38          0          19 ...                         1          0\n",
       "   39          0          19 ...                         1          1"
      ]
     },
     "execution_count": 7,
     "metadata": {},
     "output_type": "execute_result"
    }
   ],
   "source": [
    "reader.generate_mono_batch(batch_indices = list(np.arange(40)))"
   ]
  },
  {
   "cell_type": "code",
   "execution_count": 4,
   "id": "5c3569db-890c-41b6-b8fe-89ddfd51c6b0",
   "metadata": {},
   "outputs": [],
   "source": [
    "reader = DLRawTriggerReader(input_url_signal=[\"/gamma3/users/jbuces/software/mc_data/NSB_protons/reduced/NSB/corsika_run4.dl1b.h5\"],\n",
    "                              image_mapper_type  = \"ShiftingMapper\",\n",
    "                              mode = \"mono\",\n",
    "                              sequence_position= \"maximum\", \n",
    "                              output_settings = \"all_patches\",\n",
    "                              hot_pixel_from_simulation = True,\n",
    "                              trigger_settings = {\"number_of_trigger_patches\" : 7,\"nsb_threshold\" : 0, \"interleave_patches\" : True},\n",
    "                              sequence_length = 10,\n",
    "                              allowed_tel_types=[\"LST_UNKNOWN-387M2_UNKNOWN-7987PX\"],\n",
    "                              allowed_tels = [1],\n",
    "                              quality_cuts = False)"
   ]
  },
  {
   "cell_type": "code",
   "execution_count": 10,
   "id": "b0ac9281-17f6-443c-ba81-9f27888c2530",
   "metadata": {},
   "outputs": [
    {
     "data": {
      "text/html": [
       "<div><i>Table length=490000</i>\n",
       "<table id=\"table140025677283040\" class=\"table-striped table-bordered table-condensed\">\n",
       "<thead><tr><th>index</th><th>file_index</th><th>table_index</th><th>obs_id</th><th>tel_type_id</th><th>event_id</th><th>tel_id</th><th>patch_index</th><th>true_energy</th><th>true_alt</th><th>true_az</th><th>true_shower_primary_id</th><th>spherical_offset_az</th><th>spherical_offset_alt</th><th>angular_separation</th><th>log_true_energy</th><th>true_shower_primary_class</th></tr></thead>\n",
       "<thead><tr><th></th><th></th><th></th><th></th><th></th><th></th><th></th><th></th><th>TeV</th><th>deg</th><th>deg</th><th></th><th>deg</th><th>deg</th><th>deg</th><th>TeV</th><th></th></tr></thead>\n",
       "<thead><tr><th>int64</th><th>int64</th><th>int64</th><th>int32</th><th>int64</th><th>int64</th><th>int64</th><th>int64</th><th>float64</th><th>float64</th><th>float64</th><th>int64</th><th>float64</th><th>float64</th><th>float64</th><th>float64</th><th>int64</th></tr></thead>\n",
       "<tr><td>0</td><td>0</td><td>0</td><td>4</td><td>0</td><td>100</td><td>1</td><td>0</td><td>5.560657024383545</td><td>62.91127418072167</td><td>163.72799455674974</td><td>101</td><td>-7.372532050692125</td><td>-6.100065092115785</td><td>9.558204415118668</td><td>0.7451261090651803</td><td>1</td></tr>\n",
       "<tr><td>1</td><td>0</td><td>0</td><td>4</td><td>0</td><td>100</td><td>1</td><td>1</td><td>5.560657024383545</td><td>62.91127418072167</td><td>163.72799455674974</td><td>101</td><td>-7.372532050692125</td><td>-6.100065092115785</td><td>9.558204415118668</td><td>0.7451261090651803</td><td>1</td></tr>\n",
       "<tr><td>2</td><td>0</td><td>0</td><td>4</td><td>0</td><td>100</td><td>1</td><td>2</td><td>5.560657024383545</td><td>62.91127418072167</td><td>163.72799455674974</td><td>101</td><td>-7.372532050692125</td><td>-6.100065092115785</td><td>9.558204415118668</td><td>0.7451261090651803</td><td>1</td></tr>\n",
       "<tr><td>3</td><td>0</td><td>0</td><td>4</td><td>0</td><td>100</td><td>1</td><td>3</td><td>5.560657024383545</td><td>62.91127418072167</td><td>163.72799455674974</td><td>101</td><td>-7.372532050692125</td><td>-6.100065092115785</td><td>9.558204415118668</td><td>0.7451261090651803</td><td>1</td></tr>\n",
       "<tr><td>4</td><td>0</td><td>0</td><td>4</td><td>0</td><td>100</td><td>1</td><td>4</td><td>5.560657024383545</td><td>62.91127418072167</td><td>163.72799455674974</td><td>101</td><td>-7.372532050692125</td><td>-6.100065092115785</td><td>9.558204415118668</td><td>0.7451261090651803</td><td>1</td></tr>\n",
       "<tr><td>5</td><td>0</td><td>0</td><td>4</td><td>0</td><td>100</td><td>1</td><td>5</td><td>5.560657024383545</td><td>62.91127418072167</td><td>163.72799455674974</td><td>101</td><td>-7.372532050692125</td><td>-6.100065092115785</td><td>9.558204415118668</td><td>0.7451261090651803</td><td>1</td></tr>\n",
       "<tr><td>6</td><td>0</td><td>0</td><td>4</td><td>0</td><td>100</td><td>1</td><td>6</td><td>5.560657024383545</td><td>62.91127418072167</td><td>163.72799455674974</td><td>101</td><td>-7.372532050692125</td><td>-6.100065092115785</td><td>9.558204415118668</td><td>0.7451261090651803</td><td>1</td></tr>\n",
       "<tr><td>7</td><td>0</td><td>0</td><td>4</td><td>0</td><td>100</td><td>1</td><td>7</td><td>5.560657024383545</td><td>62.91127418072167</td><td>163.72799455674974</td><td>101</td><td>-7.372532050692125</td><td>-6.100065092115785</td><td>9.558204415118668</td><td>0.7451261090651803</td><td>1</td></tr>\n",
       "<tr><td>8</td><td>0</td><td>0</td><td>4</td><td>0</td><td>100</td><td>1</td><td>8</td><td>5.560657024383545</td><td>62.91127418072167</td><td>163.72799455674974</td><td>101</td><td>-7.372532050692125</td><td>-6.100065092115785</td><td>9.558204415118668</td><td>0.7451261090651803</td><td>1</td></tr>\n",
       "<tr><td>...</td><td>...</td><td>...</td><td>...</td><td>...</td><td>...</td><td>...</td><td>...</td><td>...</td><td>...</td><td>...</td><td>...</td><td>...</td><td>...</td><td>...</td><td>...</td><td>...</td></tr>\n",
       "<tr><td>489991</td><td>0</td><td>9999</td><td>4</td><td>0</td><td>100009</td><td>1</td><td>40</td><td>0.040821246802806854</td><td>64.94539330801068</td><td>197.73476877381287</td><td>101</td><td>7.429557291422756</td><td>-3.9676734597812175</td><td>8.417386411776093</td><td>-1.3891137347666962</td><td>1</td></tr>\n",
       "<tr><td>489992</td><td>0</td><td>9999</td><td>4</td><td>0</td><td>100009</td><td>1</td><td>41</td><td>0.040821246802806854</td><td>64.94539330801068</td><td>197.73476877381287</td><td>101</td><td>7.429557291422756</td><td>-3.9676734597812175</td><td>8.417386411776093</td><td>-1.3891137347666962</td><td>1</td></tr>\n",
       "<tr><td>489993</td><td>0</td><td>9999</td><td>4</td><td>0</td><td>100009</td><td>1</td><td>42</td><td>0.040821246802806854</td><td>64.94539330801068</td><td>197.73476877381287</td><td>101</td><td>7.429557291422756</td><td>-3.9676734597812175</td><td>8.417386411776093</td><td>-1.3891137347666962</td><td>1</td></tr>\n",
       "<tr><td>489994</td><td>0</td><td>9999</td><td>4</td><td>0</td><td>100009</td><td>1</td><td>43</td><td>0.040821246802806854</td><td>64.94539330801068</td><td>197.73476877381287</td><td>101</td><td>7.429557291422756</td><td>-3.9676734597812175</td><td>8.417386411776093</td><td>-1.3891137347666962</td><td>1</td></tr>\n",
       "<tr><td>489995</td><td>0</td><td>9999</td><td>4</td><td>0</td><td>100009</td><td>1</td><td>44</td><td>0.040821246802806854</td><td>64.94539330801068</td><td>197.73476877381287</td><td>101</td><td>7.429557291422756</td><td>-3.9676734597812175</td><td>8.417386411776093</td><td>-1.3891137347666962</td><td>1</td></tr>\n",
       "<tr><td>489996</td><td>0</td><td>9999</td><td>4</td><td>0</td><td>100009</td><td>1</td><td>45</td><td>0.040821246802806854</td><td>64.94539330801068</td><td>197.73476877381287</td><td>101</td><td>7.429557291422756</td><td>-3.9676734597812175</td><td>8.417386411776093</td><td>-1.3891137347666962</td><td>1</td></tr>\n",
       "<tr><td>489997</td><td>0</td><td>9999</td><td>4</td><td>0</td><td>100009</td><td>1</td><td>46</td><td>0.040821246802806854</td><td>64.94539330801068</td><td>197.73476877381287</td><td>101</td><td>7.429557291422756</td><td>-3.9676734597812175</td><td>8.417386411776093</td><td>-1.3891137347666962</td><td>1</td></tr>\n",
       "<tr><td>489998</td><td>0</td><td>9999</td><td>4</td><td>0</td><td>100009</td><td>1</td><td>47</td><td>0.040821246802806854</td><td>64.94539330801068</td><td>197.73476877381287</td><td>101</td><td>7.429557291422756</td><td>-3.9676734597812175</td><td>8.417386411776093</td><td>-1.3891137347666962</td><td>1</td></tr>\n",
       "<tr><td>489999</td><td>0</td><td>9999</td><td>4</td><td>0</td><td>100009</td><td>1</td><td>48</td><td>0.040821246802806854</td><td>64.94539330801068</td><td>197.73476877381287</td><td>101</td><td>7.429557291422756</td><td>-3.9676734597812175</td><td>8.417386411776093</td><td>-1.3891137347666962</td><td>1</td></tr>\n",
       "</table></div>"
      ],
      "text/plain": [
       "<Table length=490000>\n",
       "index  file_index table_index ...   log_true_energy   true_shower_primary_class\n",
       "                              ...         TeV                                  \n",
       "int64    int64       int64    ...       float64                 int64          \n",
       "------ ---------- ----------- ... ------------------- -------------------------\n",
       "     0          0           0 ...  0.7451261090651803                         1\n",
       "     1          0           0 ...  0.7451261090651803                         1\n",
       "     2          0           0 ...  0.7451261090651803                         1\n",
       "     3          0           0 ...  0.7451261090651803                         1\n",
       "     4          0           0 ...  0.7451261090651803                         1\n",
       "     5          0           0 ...  0.7451261090651803                         1\n",
       "     6          0           0 ...  0.7451261090651803                         1\n",
       "     7          0           0 ...  0.7451261090651803                         1\n",
       "     8          0           0 ...  0.7451261090651803                         1\n",
       "   ...        ...         ... ...                 ...                       ...\n",
       "489991          0        9999 ... -1.3891137347666962                         1\n",
       "489992          0        9999 ... -1.3891137347666962                         1\n",
       "489993          0        9999 ... -1.3891137347666962                         1\n",
       "489994          0        9999 ... -1.3891137347666962                         1\n",
       "489995          0        9999 ... -1.3891137347666962                         1\n",
       "489996          0        9999 ... -1.3891137347666962                         1\n",
       "489997          0        9999 ... -1.3891137347666962                         1\n",
       "489998          0        9999 ... -1.3891137347666962                         1\n",
       "489999          0        9999 ... -1.3891137347666962                         1"
      ]
     },
     "execution_count": 10,
     "metadata": {},
     "output_type": "execute_result"
    }
   ],
   "source": [
    "reader.example_identifiers"
   ]
  },
  {
   "cell_type": "code",
   "execution_count": 4,
   "id": "a852eaf0-b636-4ca3-965c-4a28c70d223c",
   "metadata": {},
   "outputs": [
    {
     "name": "stdout",
     "output_type": "stream",
     "text": [
      "1.15 s ± 3.06 ms per loop (mean ± std. dev. of 7 runs, 1 loop each)\n"
     ]
    }
   ],
   "source": [
    "%%timeit\n",
    "reader = DLRawTriggerReader(input_url_signal=[\"/gamma3/users/jbuces/software/mc_data/NSB_protons/reduced/NSB/corsika_run4.dl1b.h5\"],\n",
    "                              image_mapper_type  = \"ShiftingMapper\",\n",
    "                              mode = \"mono\",\n",
    "                              sequence_position= \"maximum\", \n",
    "                              output_settings = \"all_patches\",\n",
    "                              hot_pixel_from_simulation = True,\n",
    "                              trigger_settings = {\"number_of_trigger_patches\" : 7,\"nsb_threshold\" : 0, \"interleave_patches\" : True},\n",
    "                              sequence_length = 10,\n",
    "                              allowed_tel_types=[\"LST_UNKNOWN-387M2_UNKNOWN-7987PX\"],\n",
    "                              allowed_tels = [1],\n",
    "                              quality_cuts = False)"
   ]
  },
  {
   "cell_type": "code",
   "execution_count": 18,
   "id": "4f491b22-3479-4852-a3c3-7a0cf4acd3fa",
   "metadata": {},
   "outputs": [
    {
     "name": "stdout",
     "output_type": "stream",
     "text": [
      "9.77 s ± 277 ms per loop (mean ± std. dev. of 7 runs, 1 loop each)\n",
      "20.1 s ± 111 ms per loop (mean ± std. dev. of 7 runs, 1 loop each)\n",
      "30.3 s ± 427 ms per loop (mean ± std. dev. of 7 runs, 1 loop each)\n",
      "40 s ± 29.3 ms per loop (mean ± std. dev. of 7 runs, 1 loop each)\n",
      "49.9 s ± 84.5 ms per loop (mean ± std. dev. of 7 runs, 1 loop each)\n",
      "1min 1s ± 506 ms per loop (mean ± std. dev. of 7 runs, 1 loop each)\n",
      "1min 10s ± 681 ms per loop (mean ± std. dev. of 7 runs, 1 loop each)\n",
      "1min 20s ± 521 ms per loop (mean ± std. dev. of 7 runs, 1 loop each)\n"
     ]
    },
    {
     "data": {
      "image/png": "[encoded data removed]",
      "text/plain": [
       "<Figure size 800x600 with 1 Axes>"
      ]
     },
     "metadata": {},
     "output_type": "display_data"
    }
   ],
   "source": [
    "x = []\n",
    "y = []\n",
    "yerr = []  \n",
    "\n",
    "for i in range(8):\n",
    "    time = %timeit -o reader.generate_mono_batch(batch_indices=list(np.arange(49*(i+1))))\n",
    "    mean_time = np.mean(time.all_runs)  \n",
    "    stdev_time = np.std(time.all_runs)\n",
    "    x.append(i)\n",
    "    y.append(mean_time)  \n",
    "    yerr.append(stdev_time) \n",
    "\n",
    "plt.figure(figsize=(8, 6))\n",
    "plt.errorbar(x, y, yerr=yerr, fmt='-o', color='b', label='Time per batch')\n",
    "\n",
    "\n",
    "plt.xlabel('Events per batch (49 patches per event)')\n",
    "plt.ylabel('Time per batch (s)')\n",
    "\n",
    "plt.grid(True)\n",
    "plt.legend()\n",
    "plt.show()"
   ]
  }
 ],
 "metadata": {
  "kernelspec": {
   "display_name": "Python 3 (ipykernel)",
   "language": "python",
   "name": "python3"
  },
  "language_info": {
   "codemirror_mode": {
    "name": "ipython",
    "version": 3
   },
   "file_extension": ".py",
   "mimetype": "text/x-python",
   "name": "python",
   "nbconvert_exporter": "python",
   "pygments_lexer": "ipython3",
   "version": "3.13.2"
  }
 },
 "nbformat": 4,
 "nbformat_minor": 5
}
