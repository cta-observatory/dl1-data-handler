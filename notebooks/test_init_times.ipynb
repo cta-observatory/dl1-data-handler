{
 "cells": [
  {
   "cell_type": "code",
   "execution_count": 1,
   "id": "ecfdba77-3aa4-4114-ba67-ecb23eabaeaf",
   "metadata": {},
   "outputs": [],
   "source": [
    "from dl1_data_handler.reader import DLWaveformReader, DLDataReader, TableQualityQuery, DLRawTriggerReader\n",
    "import matplotlib.pyplot as plt\n",
    "import numpy as np\n",
    "from ctapipe.io import EventSource\n",
    "from ctapipe.visualization import CameraDisplay\n",
    "from ctapipe.core.traits import List\n",
    "from ctapipe.core import QualityQuery\n",
    "import time\n",
    "from pathlib import Path"
   ]
  },
  {
   "cell_type": "code",
   "execution_count": 4,
   "id": "07b4f0e6-53e5-47dc-86f0-937b6bcf145d",
   "metadata": {},
   "outputs": [
    {
     "name": "stdout",
     "output_type": "stream",
     "text": [
      "Initialisation time for waveform is:\n",
      "1.14 s ± 13.7 ms per loop (mean ± std. dev. of 7 runs, 1 loop each)\n",
      "Batch generation time for waveform, for a 4 * 49 batch size is:\n",
      "644 ms ± 5.65 ms per loop (mean ± std. dev. of 7 runs, 1 loop each)\n",
      "Batch generation time for waveform, for a 5 * 49 batch size is:\n",
      "827 ms ± 7.23 ms per loop (mean ± std. dev. of 7 runs, 1 loop each)\n",
      "Batch generation time for waveform, for a 6 * 49 batch size is:\n",
      "1.01 s ± 7.9 ms per loop (mean ± std. dev. of 7 runs, 1 loop each)\n",
      "Initialisation time for random_patch is:\n",
      "1.29 s ± 2.98 ms per loop (mean ± std. dev. of 7 runs, 1 loop each)\n",
      "Batch generation time for random_patch, for a 4 * 49 batch size is:\n",
      "768 ms ± 2.07 ms per loop (mean ± std. dev. of 7 runs, 1 loop each)\n",
      "Batch generation time for random_patch, for a 5 * 49 batch size is:\n",
      "971 ms ± 6.45 ms per loop (mean ± std. dev. of 7 runs, 1 loop each)\n",
      "Batch generation time for random_patch, for a 6 * 49 batch size is:\n",
      "1.17 s ± 4.67 ms per loop (mean ± std. dev. of 7 runs, 1 loop each)\n",
      "Initialisation time for balanced_patches is:\n",
      "7.38 s ± 58.5 ms per loop (mean ± std. dev. of 7 runs, 1 loop each)\n",
      "Batch generation time for balanced_patches, for a 4 * 49 batch size is:\n",
      "293 ms ± 1.65 ms per loop (mean ± std. dev. of 7 runs, 1 loop each)\n",
      "Batch generation time for balanced_patches, for a 5 * 49 batch size is:\n",
      "371 ms ± 1.3 ms per loop (mean ± std. dev. of 7 runs, 1 loop each)\n",
      "Batch generation time for balanced_patches, for a 6 * 49 batch size is:\n",
      "447 ms ± 757 μs per loop (mean ± std. dev. of 7 runs, 1 loop each)\n",
      "Initialisation time for hot_patch is:\n",
      "1.36 s ± 12.5 ms per loop (mean ± std. dev. of 7 runs, 1 loop each)\n",
      "Batch generation time for hot_patch, for a 4 * 49 batch size is:\n",
      "786 ms ± 8.14 ms per loop (mean ± std. dev. of 7 runs, 1 loop each)\n",
      "Batch generation time for hot_patch, for a 5 * 49 batch size is:\n",
      "992 ms ± 9.58 ms per loop (mean ± std. dev. of 7 runs, 1 loop each)\n",
      "Batch generation time for hot_patch, for a 6 * 49 batch size is:\n",
      "1.19 s ± 14.5 ms per loop (mean ± std. dev. of 7 runs, 1 loop each)\n",
      "Initialisation time for all_patches is:\n",
      "1.39 s ± 3.98 ms per loop (mean ± std. dev. of 7 runs, 1 loop each)\n",
      "Batch generation time for all_patches, for a 4 * 49 batch size is:\n",
      "390 ms ± 842 μs per loop (mean ± std. dev. of 7 runs, 1 loop each)\n",
      "Batch generation time for all_patches, for a 5 * 49 batch size is:\n",
      "491 ms ± 2.23 ms per loop (mean ± std. dev. of 7 runs, 1 loop each)\n",
      "Batch generation time for all_patches, for a 6 * 49 batch size is:\n",
      "592 ms ± 714 μs per loop (mean ± std. dev. of 7 runs, 1 loop each)\n",
      "Initialisation time for double_random is:\n",
      "1.36 s ± 10.1 ms per loop (mean ± std. dev. of 7 runs, 1 loop each)\n",
      "Batch generation time for double_random, for a 4 * 49 batch size is:\n",
      "600 ms ± 8.99 ms per loop (mean ± std. dev. of 7 runs, 1 loop each)\n",
      "Batch generation time for double_random, for a 5 * 49 batch size is:\n",
      "771 ms ± 5.56 ms per loop (mean ± std. dev. of 7 runs, 1 loop each)\n",
      "Batch generation time for double_random, for a 6 * 49 batch size is:\n",
      "911 ms ± 13.4 ms per loop (mean ± std. dev. of 7 runs, 1 loop each)\n"
     ]
    }
   ],
   "source": [
    "import warnings\n",
    "warnings.simplefilter(\"ignore\")\n",
    "\n",
    "outputs = [\"waveform\", \"random_patch\", \"balanced_patches\", \"hot_patch\", \"all_patches\", \"double_random\"]\n",
    "file = [\"/gamma3/users/jbuces/software/mc_data/trigerless_gammas/reduced_ctapipe/corsika_run1.dl1b.h5\"]\n",
    "\n",
    "for outs in outputs:\n",
    "    print(f\"Initialisation time for {outs} is:\")\n",
    "    %timeit reader = DLRawTriggerReader(input_url_signal=file,image_mapper_type=\"ShiftingMapper\",mode = \"mono\",sequence_position= \"maximum\",output_settings = outs,hot_pixel_from_simulation = True,trigger_settings = {\"number_of_trigger_patches\" : 7,\"cpe_threshold\" : 0, \"interleave_patches\" : True},sequence_length = 10,allowed_tel_types=[\"LST_UNKNOWN-387M2_UNKNOWN-7987PX\"],allowed_tels = [1],quality_cuts = False)\n",
    "    reader = DLRawTriggerReader(input_url_signal=file,image_mapper_type=\"ShiftingMapper\",mode = \"mono\",sequence_position= \"maximum\",output_settings = outs,hot_pixel_from_simulation = True,trigger_settings = {\"number_of_trigger_patches\" : 7,\"cpe_threshold\" : 0, \"interleave_patches\" : True},sequence_length = 10,allowed_tel_types=[\"LST_UNKNOWN-387M2_UNKNOWN-7987PX\"],allowed_tels = [1],quality_cuts = False)\n",
    "    for i in [4,5,6]:\n",
    "        print(f\"Batch generation time for {outs}, for a {i} * 49 batch size is:\")\n",
    "        %timeit reader.generate_mono_batch(batch_indices = list(np.arange(49*i)))\n"
   ]
  },
  {
   "cell_type": "code",
   "execution_count": 21,
   "id": "0337eee9-32aa-49a3-b17a-6a26ba8851ca",
   "metadata": {},
   "outputs": [
    {
     "name": "stdout",
     "output_type": "stream",
     "text": [
      "Initialisation time for waveform is:\n",
      "1.14 s ± 8.68 ms per loop (mean ± std. dev. of 7 runs, 1 loop each)\n",
      "Batch generation time for waveform, for a 4 * 49 batch size is:\n",
      "639 ms ± 5.06 ms per loop (mean ± std. dev. of 7 runs, 1 loop each)\n",
      "Batch generation time for waveform, for a 5 * 49 batch size is:\n",
      "799 ms ± 6.39 ms per loop (mean ± std. dev. of 7 runs, 1 loop each)\n",
      "Batch generation time for waveform, for a 6 * 49 batch size is:\n",
      "987 ms ± 13.1 ms per loop (mean ± std. dev. of 7 runs, 1 loop each)\n",
      "Initialisation time for random_patch is:\n",
      "1.22 s ± 4.99 ms per loop (mean ± std. dev. of 7 runs, 1 loop each)\n",
      "Batch generation time for random_patch, for a 4 * 49 batch size is:\n",
      "734 ms ± 6.01 ms per loop (mean ± std. dev. of 7 runs, 1 loop each)\n",
      "Batch generation time for random_patch, for a 5 * 49 batch size is:\n",
      "930 ms ± 6.25 ms per loop (mean ± std. dev. of 7 runs, 1 loop each)\n",
      "Batch generation time for random_patch, for a 6 * 49 batch size is:\n",
      "1.14 s ± 12.5 ms per loop (mean ± std. dev. of 7 runs, 1 loop each)\n",
      "Initialisation time for balanced_patches is:\n",
      "7.18 s ± 52.1 ms per loop (mean ± std. dev. of 7 runs, 1 loop each)\n",
      "Batch generation time for balanced_patches, for a 4 * 49 batch size is:\n",
      "303 ms ± 1.93 ms per loop (mean ± std. dev. of 7 runs, 1 loop each)\n",
      "Batch generation time for balanced_patches, for a 5 * 49 batch size is:\n",
      "381 ms ± 1.45 ms per loop (mean ± std. dev. of 7 runs, 1 loop each)\n",
      "Batch generation time for balanced_patches, for a 6 * 49 batch size is:\n",
      "461 ms ± 1.5 ms per loop (mean ± std. dev. of 7 runs, 1 loop each)\n",
      "Initialisation time for hot_patch is:\n",
      "1.35 s ± 12.3 ms per loop (mean ± std. dev. of 7 runs, 1 loop each)\n",
      "Batch generation time for hot_patch, for a 4 * 49 batch size is:\n",
      "778 ms ± 7.45 ms per loop (mean ± std. dev. of 7 runs, 1 loop each)\n",
      "Batch generation time for hot_patch, for a 5 * 49 batch size is:\n",
      "976 ms ± 9.65 ms per loop (mean ± std. dev. of 7 runs, 1 loop each)\n",
      "Batch generation time for hot_patch, for a 6 * 49 batch size is:\n",
      "1.17 s ± 6.95 ms per loop (mean ± std. dev. of 7 runs, 1 loop each)\n",
      "Initialisation time for all_patches is:\n",
      "1.39 s ± 8.92 ms per loop (mean ± std. dev. of 7 runs, 1 loop each)\n",
      "Batch generation time for all_patches, for a 4 * 49 batch size is:\n",
      "306 ms ± 997 μs per loop (mean ± std. dev. of 7 runs, 1 loop each)\n",
      "Batch generation time for all_patches, for a 5 * 49 batch size is:\n",
      "384 ms ± 1.55 ms per loop (mean ± std. dev. of 7 runs, 1 loop each)\n",
      "Batch generation time for all_patches, for a 6 * 49 batch size is:\n",
      "464 ms ± 1.37 ms per loop (mean ± std. dev. of 7 runs, 1 loop each)\n",
      "Initialisation time for double_random is:\n",
      "1.39 s ± 21.4 ms per loop (mean ± std. dev. of 7 runs, 1 loop each)\n",
      "Batch generation time for double_random, for a 4 * 49 batch size is:\n",
      "577 ms ± 3.15 ms per loop (mean ± std. dev. of 7 runs, 1 loop each)\n",
      "Batch generation time for double_random, for a 5 * 49 batch size is:\n",
      "729 ms ± 2.45 ms per loop (mean ± std. dev. of 7 runs, 1 loop each)\n",
      "Batch generation time for double_random, for a 6 * 49 batch size is:\n",
      "856 ms ± 12.8 ms per loop (mean ± std. dev. of 7 runs, 1 loop each)\n"
     ]
    }
   ],
   "source": [
    "import warnings\n",
    "from astropy.table import Table\n",
    "warnings.simplefilter(\"ignore\")\n",
    "names = []\n",
    "init = []\n",
    "batch4 = []\n",
    "batch5 = []\n",
    "batch6 = []\n",
    "out_lengths = []\n",
    "outputs = [\"waveform\", \"random_patch\", \"balanced_patches\", \"hot_patch\", \"all_patches\", \"double_random\"]\n",
    "file = [\"/gamma3/users/jbuces/software/mc_data/trigerless_gammas/reduced_ctapipe/corsika_run1.dl1b.h5\"]\n",
    "\n",
    "for outs in outputs:\n",
    "    print(f\"Initialisation time for {outs} is:\")\n",
    "    names.append(outs)\n",
    "    time =%timeit -o DLRawTriggerReader(input_url_signal=file,image_mapper_type=\"ShiftingMapper\",mode = \"mono\",sequence_position= \"maximum\",output_settings = outs,hot_pixel_from_simulation = True,trigger_settings = {\"number_of_trigger_patches\" : 7,\"nsb_threshold\" : 0, \"interleave_patches\" : True},sequence_length = 10,allowed_tel_types=[\"LST_UNKNOWN-387M2_UNKNOWN-7987PX\"],allowed_tels = [1],quality_cuts = False)\n",
    "    mean_time = np.mean(time.all_runs)\n",
    "    init.append(mean_time)\n",
    "    reader = DLRawTriggerReader(input_url_signal=file,image_mapper_type=\"ShiftingMapper\",mode = \"mono\",sequence_position= \"maximum\",output_settings = outs,hot_pixel_from_simulation = True,trigger_settings = {\"number_of_trigger_patches\" : 7,\"nsb_threshold\" : 0, \"interleave_patches\" : True},sequence_length = 10,allowed_tel_types=[\"LST_UNKNOWN-387M2_UNKNOWN-7987PX\"],allowed_tels = [1],quality_cuts = False)\n",
    "    out_length = len(reader.example_identifiers)\n",
    "    out_lengths.append(out_length)\n",
    "    for i, batch_list in zip([4,5,6], [batch4, batch5, batch6]):\n",
    "        print(f\"Batch generation time for {outs}, for a {i} * 49 batch size is:\")\n",
    "        time = %timeit -o reader.generate_mono_batch(batch_indices = list(np.arange(49*i)))\n",
    "        mean_time = np.mean(time.all_runs)\n",
    "        batch_list.append(mean_time)\n",
    "\n",
    "table = Table([names, out_lengths, init, batch4, batch5, batch6], names=(\"output_setting\", \"identifiers_length\", \"initialisation_time\", \"batch_4\", \"batch_5\",\"batch_6\"))\n",
    "table.write(\"results.csv\", format=\"csv\", overwrite=True)"
   ]
  },
  {
   "cell_type": "code",
   "execution_count": 26,
   "id": "cdd1c528-3d9d-4cae-aaf6-fbb8105bba34",
   "metadata": {},
   "outputs": [],
   "source": [
    "from astropy import units as u\n",
    "\n",
    "table[\"init_time\"].unit = u.s\n",
    "table[\"batch_4\"].unit = u.s\n",
    "table[\"batch_5\"].unit = u.s\n",
    "table[\"batch_6\"].unit = u.s\n"
   ]
  },
  {
   "cell_type": "code",
   "execution_count": 23,
   "id": "6c8478c6-dae6-460f-9e34-32e9d63e9d7b",
   "metadata": {},
   "outputs": [],
   "source": [
    "for col in [\"init_time\", \"batch_4\", \"batch_5\", \"batch_6\"]:\n",
    "    table[col] = np.round(table[col], 3)"
   ]
  },
  {
   "cell_type": "code",
   "execution_count": 27,
   "id": "80eb3b59-6980-47d4-bbba-b13d3e1f8908",
   "metadata": {},
   "outputs": [
    {
     "data": {
      "text/html": [
       "<div><i>Table length=6</i>\n",
       "<table id=\"table139963871832992\" class=\"table-striped table-bordered table-condensed\">\n",
       "<thead><tr><th>output_setting</th><th>identifiers_length</th><th>init_time</th><th>batch_4</th><th>batch_5</th><th>batch_6</th></tr></thead>\n",
       "<thead><tr><th></th><th></th><th>s</th><th>s</th><th>s</th><th>s</th></tr></thead>\n",
       "<thead><tr><th>str16</th><th>int64</th><th>float64</th><th>float64</th><th>float64</th><th>float64</th></tr></thead>\n",
       "<tr><td>waveform</td><td>11044</td><td>1.142</td><td>0.639</td><td>0.799</td><td>0.987</td></tr>\n",
       "<tr><td>random_patch</td><td>11044</td><td>1.216</td><td>0.734</td><td>0.93</td><td>1.139</td></tr>\n",
       "<tr><td>balanced_patches</td><td>266209</td><td>7.176</td><td>0.303</td><td>0.381</td><td>0.461</td></tr>\n",
       "<tr><td>hot_patch</td><td>11044</td><td>1.355</td><td>0.778</td><td>0.976</td><td>1.172</td></tr>\n",
       "<tr><td>all_patches</td><td>541156</td><td>1.393</td><td>0.306</td><td>0.384</td><td>0.464</td></tr>\n",
       "<tr><td>double_random</td><td>22088</td><td>1.39</td><td>0.577</td><td>0.729</td><td>0.856</td></tr>\n",
       "</table></div>"
      ],
      "text/plain": [
       "<Table length=6>\n",
       " output_setting  identifiers_length init_time batch_4 batch_5 batch_6\n",
       "                                        s        s       s       s   \n",
       "     str16             int64         float64  float64 float64 float64\n",
       "---------------- ------------------ --------- ------- ------- -------\n",
       "        waveform              11044     1.142   0.639   0.799   0.987\n",
       "    random_patch              11044     1.216   0.734    0.93   1.139\n",
       "balanced_patches             266209     7.176   0.303   0.381   0.461\n",
       "       hot_patch              11044     1.355   0.778   0.976   1.172\n",
       "     all_patches             541156     1.393   0.306   0.384   0.464\n",
       "   double_random              22088      1.39   0.577   0.729   0.856"
      ]
     },
     "execution_count": 27,
     "metadata": {},
     "output_type": "execute_result"
    }
   ],
   "source": [
    "table"
   ]
  }
 ],
 "metadata": {
  "kernelspec": {
   "display_name": "Python 3 (ipykernel)",
   "language": "python",
   "name": "python3"
  },
  "language_info": {
   "codemirror_mode": {
    "name": "ipython",
    "version": 3
   },
   "file_extension": ".py",
   "mimetype": "text/x-python",
   "name": "python",
   "nbconvert_exporter": "python",
   "pygments_lexer": "ipython3",
   "version": "3.13.2"
  }
 },
 "nbformat": 4,
 "nbformat_minor": 5
}
