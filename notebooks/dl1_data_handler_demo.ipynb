{
 "cells": [
  {
   "cell_type": "markdown",
   "metadata": {},
   "source": [
    "# DL1 Data Handler Demo\n",
    "\n",
    "This notebook demonstrates how to use DL1 Data Handler to write/read IACT data for use with machine learning analysis in Python."
   ]
  },
  {
   "cell_type": "markdown",
   "metadata": {},
   "source": [
    "## Writing Data\n",
    "\n",
    "Using DL1 Data Writer, it is easy to convert data from simtel or other data formats to a standardized HDF5 (PyTables) file format which can be used conveniently in Python. Note: The code below is very similar to the code which can be found at dl1-data-handler/scripts/write_data.py"
   ]
  },
  {
   "cell_type": "code",
   "execution_count": 1,
   "metadata": {},
   "outputs": [],
   "source": [
    "from dl1_data_handler.writer import DL1DataWriter, CTAMLDataDumper"
   ]
  },
  {
   "cell_type": "markdown",
   "metadata": {},
   "source": [
    "We first define a runlist which tells the Data Writer which data files to process and what output HDF5 files we want (their names, locations, and which input files they correspond to). Note that you may have to adjust the runlist below to the desired files/locations. \n",
    "\n",
    "NOTE: Runlists can also be provided from the command line in the form of a YAML file and these files can be generated automatically using the dl1-data-handler/scripts/generate_runlist.py script."
   ]
  },
  {
   "cell_type": "code",
   "execution_count": 4,
   "metadata": {},
   "outputs": [],
   "source": [
    "runlist = [\n",
    "    {\n",
    "        'inputs': [\"dl1_data_handler_demo/gamma_20deg_0deg_run100___cta-prod3-demo_desert-2150m-Paranal-baseline-sample_cone10.simtel.gz\",\n",
    "                    \"dl1_data_handler_demo/gamma_20deg_0deg_run101___cta-prod3-demo_desert-2150m-Paranal-baseline-sample_cone10.simtel.gz\",\n",
    "                    \"dl1_data_handler_demo/gamma_20deg_0deg_run102___cta-prod3-demo_desert-2150m-Paranal-baseline-sample_cone10.simtel.gz\",\n",
    "                    \"dl1_data_handler_demo/gamma_20deg_0deg_run103___cta-prod3-demo_desert-2150m-Paranal-baseline-sample_cone10.simtel.gz\"],\n",
    "        'target': \"gamma_20deg_0deg_runs100-103___cta-prod3-demo_desert-2150m-Paranal-baseline-sample_cone10.h5\"\n",
    "    },\n",
    "     {\n",
    "        'inputs': [\"dl1_data_handler_demo/proton_20deg_0deg_run100___cta-prod3-demo_desert-2150m-Paranal-baseline-sample_cone10.simtel.gz\",\n",
    "                    \"dl1_data_handler_demo/proton_20deg_0deg_run101___cta-prod3-demo_desert-2150m-Paranal-baseline-sample_cone10.simtel.gz\",\n",
    "                    \"dl1_data_handler_demo/proton_20deg_0deg_run102___cta-prod3-demo_desert-2150m-Paranal-baseline-sample_cone10.simtel.gz\",\n",
    "                    \"dl1_data_handler_demo/proton_20deg_0deg_run103___cta-prod3-demo_desert-2150m-Paranal-baseline-sample_cone10.simtel.gz\"],\n",
    "        'target': \"proton_20deg_0deg_runs100-103___cta-prod3-demo_desert-2150m-Paranal-baseline-sample_cone10.h5\"\n",
    "    },\n",
    "]\n",
    "\n",
    "\n",
    "print(\"Number of input files in runlist: {}\".format(\n",
    "    len([input_file for run in runlist for input_file in run['inputs']])))\n",
    "print(\"Number of output files requested: {}\".format(\n",
    "    len(runlist)))"
   ]
  },
  {
   "cell_type": "markdown",
   "metadata": {},
   "source": [
    "The writing of data by DL1DataWriter is handled in two stages. First, the data is loaded from the input files into ctapipe containers using ctapipe's event source API. Any input format which is supported by ctapipe event sources (including most IACT data formats) can therefore be read in.\n",
    "\n",
    "Here we set any desired settings for the ctapipe event source we'll be using. We can select a specific subclass of eventsource if we want to, but here we don't, as in that case DL1DataWriter will simply use ctapipe.io.event_source(), which automatically chooses the correct class to use based on the input file."
   ]
  },
  {
   "cell_type": "code",
   "execution_count": null,
   "metadata": {},
   "outputs": [],
   "source": [
    "event_src_settings = {}"
   ]
  },
  {
   "cell_type": "markdown",
   "metadata": {},
   "source": [
    "The second part of the process, dumping the data from the ctapipe containers to a specific output format, is handled by a custom class called a DL1DataDumper. \n",
    "\n",
    "An implementation of DL1DataDumper designed to output PyTables HDF5 files in the standard \"CTA ML format\" is already provided. It is called CTAMLDataDumper. However, if you would like to implement an alternative data format, it is as easy as implementing your own Data Dumper class inheriting from the generic DL1DataDumper. Here we select CTAMLDataDumper as our desired dumper and designate some settings related to the data dumping. Most of these settings are used for optimizing the output HDF5 files (i.e. compressing them efficiently, adding indexes on columns, etc.)."
   ]
  },
  {
   "cell_type": "code",
   "execution_count": null,
   "metadata": {},
   "outputs": [],
   "source": [
    "data_dumper_class = CTAMLDataDumper\n",
    "\n",
    "dumper_settings = {\n",
    "    'filter_settings': {\n",
    "        'complib': 'lzo',\n",
    "        'complevel': 1\n",
    "    },\n",
    "    'expected_tel_types': 10,\n",
    "    'expected_tels': 300,\n",
    "    'expected_events': 10000,\n",
    "    'expected_images_per_event': {\n",
    "        'LST:LSTCam': 0.5\n",
    "        'MST:NectarCam': 2.0\n",
    "        'MST:FlashCam': 2.0\n",
    "        'MST-SCT:SCTCam': 1.5\n",
    "        'SST:DigiCam': 1.25\n",
    "        'SST:ASTRICam': 1.25\n",
    "        'SST:CHEC': 1.25\n",
    "    }\n",
    "    'index_columns': [\n",
    "        ['/Events', 'mc_energy'],\n",
    "        ['/Events', 'alt'],\n",
    "        ['/Events', 'az'],\n",
    "        ['tel', 'event_index']\n",
    "    ]\n",
    "}"
   ]
  },
  {
   "cell_type": "markdown",
   "metadata": {},
   "source": [
    "Finally, we set some general settings relating to the writer as a whole. Note that all of these settings can also be specified, like the runlist, using an external YAML config file."
   ]
  },
  {
   "cell_type": "code",
   "execution_count": null,
   "metadata": {},
   "outputs": [],
   "source": [
    "writer_settings = {\n",
    "    'calibration_settings': {\n",
    "       'r1_product': 'HESSIOR1Calibrator',\n",
    "       'extractor_product': 'NeighborPeakIntegrator'\n",
    "    },\n",
    "    'output_file_size': 1073741824\n",
    "    'events_per_file': 1000\n",
    "}"
   ]
  },
  {
   "cell_type": "markdown",
   "metadata": {},
   "source": [
    "Now all that remains to do is to instantiate our DataWriter and then call process_data with our runlist. After a brief wait, the output files we requested in our runlist should be written!"
   ]
  },
  {
   "cell_type": "code",
   "execution_count": null,
   "metadata": {},
   "outputs": [],
   "source": [
    "data_writer = DL1DataWriter(event_source_class=None,\n",
    "                            event_source_settings=event_src_settings,\n",
    "                            data_dumper_class=data_dumper_class,\n",
    "                            data_dumper_settings=dumper_settings,\n",
    "                            **writer_settings)\n",
    "\n",
    "data_writer.process_data(runlist)"
   ]
  },
  {
   "cell_type": "markdown",
   "metadata": {},
   "source": [
    "We can verify that the output files were created and see their sizes:"
   ]
  },
  {
   "cell_type": "code",
   "execution_count": null,
   "metadata": {},
   "outputs": [],
   "source": [
    "import os\n",
    "\n",
    "for run in runlist:\n",
    "    for output_file in run['target']:\n",
    "        size = os.path.getsize(output_file)\n",
    "        print(\"File: {}, Size: {}\".format(output_file, size))"
   ]
  },
  {
   "cell_type": "markdown",
   "metadata": {},
   "source": [
    "## Reading Data\n",
    "\n",
    "Having created some sample data files, we can now use DL1DataReader to read examples from them and examine their contents."
   ]
  },
  {
   "cell_type": "code",
   "execution_count": 2,
   "metadata": {},
   "outputs": [],
   "source": [
    "from dl1_data_handler.reader import DL1DataReader"
   ]
  },
  {
   "cell_type": "code",
   "execution_count": 3,
   "metadata": {},
   "outputs": [
    {
     "ename": "ValueError",
     "evalue": "cannot reshape array of size 580644 into shape (118,118)",
     "output_type": "error",
     "traceback": [
      "\u001b[0;31m---------------------------------------------------------------------------\u001b[0m",
      "\u001b[0;31mValueError\u001b[0m                                Traceback (most recent call last)",
      "\u001b[0;32m<ipython-input-3-8ae80e8db198>\u001b[0m in \u001b[0;36m<module>\u001b[0;34m\u001b[0m\n\u001b[0;32m----> 1\u001b[0;31m \u001b[0mreader\u001b[0m \u001b[0;34m=\u001b[0m \u001b[0mDL1DataReader\u001b[0m\u001b[0;34m(\u001b[0m\u001b[0;34m[\u001b[0m\u001b[0;34m\"/home/bryankim96/dl1_data_handler_demo/gamma_20deg_0deg_runs100-103___cta-prod3-demo_desert-2150m-Paranal-baseline-sample_cone10.h5\"\u001b[0m\u001b[0;34m]\u001b[0m\u001b[0;34m)\u001b[0m\u001b[0;34m\u001b[0m\u001b[0;34m\u001b[0m\u001b[0m\n\u001b[0m",
      "\u001b[0;32m/mnt/c/Users/bryan/projects/dl1-data-handler/dl1_data_handler/reader.py\u001b[0m in \u001b[0;36m__init__\u001b[0;34m(self, file_list, mode, selected_telescope_type, selected_telescope_ids, selection_string, intensity_selection, shuffle, seed, image_channels, mapping_method, mapping_settings, array_info, event_info, transforms, validate_processor)\u001b[0m\n\u001b[1;32m    170\u001b[0m         \u001b[0mself\u001b[0m\u001b[0;34m.\u001b[0m\u001b[0mimage_channels\u001b[0m \u001b[0;34m=\u001b[0m \u001b[0mimage_channels\u001b[0m\u001b[0;34m\u001b[0m\u001b[0;34m\u001b[0m\u001b[0m\n\u001b[1;32m    171\u001b[0m         self.image_mapper = ImageMapper(mapping_method=mapping_method, channels=image_channels,\n\u001b[0;32m--> 172\u001b[0;31m                                         **mapping_settings)\n\u001b[0m\u001b[1;32m    173\u001b[0m \u001b[0;34m\u001b[0m\u001b[0m\n\u001b[1;32m    174\u001b[0m         \u001b[0;32mif\u001b[0m \u001b[0marray_info\u001b[0m \u001b[0;32mis\u001b[0m \u001b[0;32mNone\u001b[0m\u001b[0;34m:\u001b[0m\u001b[0;34m\u001b[0m\u001b[0;34m\u001b[0m\u001b[0m\n",
      "\u001b[0;32m/mnt/c/Users/bryan/projects/dl1-data-handler/dl1_data_handler/image_mapper.py\u001b[0m in \u001b[0;36m__init__\u001b[0;34m(self, camera_types, mapping_method, padding, interpolation_image_shape, mask_interpolation, channels)\u001b[0m\n\u001b[1;32m    124\u001b[0m                 )\n\u001b[1;32m    125\u001b[0m \u001b[0;34m\u001b[0m\u001b[0m\n\u001b[0;32m--> 126\u001b[0;31m             \u001b[0mself\u001b[0m\u001b[0;34m.\u001b[0m\u001b[0mmapping_tables\u001b[0m\u001b[0;34m[\u001b[0m\u001b[0mcamtype\u001b[0m\u001b[0;34m]\u001b[0m \u001b[0;34m=\u001b[0m \u001b[0mself\u001b[0m\u001b[0;34m.\u001b[0m\u001b[0mgenerate_table\u001b[0m\u001b[0;34m(\u001b[0m\u001b[0mcamtype\u001b[0m\u001b[0;34m)\u001b[0m\u001b[0;34m\u001b[0m\u001b[0;34m\u001b[0m\u001b[0m\n\u001b[0m\u001b[1;32m    127\u001b[0m \u001b[0;34m\u001b[0m\u001b[0m\n\u001b[1;32m    128\u001b[0m     \u001b[0;32mdef\u001b[0m \u001b[0mmap_image\u001b[0m\u001b[0;34m(\u001b[0m\u001b[0mself\u001b[0m\u001b[0;34m,\u001b[0m \u001b[0mpixels\u001b[0m\u001b[0;34m,\u001b[0m \u001b[0mcamera_type\u001b[0m\u001b[0;34m)\u001b[0m\u001b[0;34m:\u001b[0m\u001b[0;34m\u001b[0m\u001b[0;34m\u001b[0m\u001b[0m\n",
      "\u001b[0;32m/mnt/c/Users/bryan/projects/dl1-data-handler/dl1_data_handler/image_mapper.py\u001b[0m in \u001b[0;36mgenerate_table\u001b[0;34m(self, camera_type)\u001b[0m\n\u001b[1;32m    171\u001b[0m             \u001b[0;31m# Finding the nearest point in the hexagonal grid for each point in the square grid\u001b[0m\u001b[0;34m\u001b[0m\u001b[0;34m\u001b[0m\u001b[0;34m\u001b[0m\u001b[0m\n\u001b[1;32m    172\u001b[0m             \u001b[0mtree\u001b[0m \u001b[0;34m=\u001b[0m \u001b[0mspatial\u001b[0m\u001b[0;34m.\u001b[0m\u001b[0mcKDTree\u001b[0m\u001b[0;34m(\u001b[0m\u001b[0mhex_grid\u001b[0m\u001b[0;34m)\u001b[0m\u001b[0;34m\u001b[0m\u001b[0;34m\u001b[0m\u001b[0m\n\u001b[0;32m--> 173\u001b[0;31m             \u001b[0mnn_index\u001b[0m \u001b[0;34m=\u001b[0m \u001b[0mnp\u001b[0m\u001b[0;34m.\u001b[0m\u001b[0mreshape\u001b[0m\u001b[0;34m(\u001b[0m\u001b[0mtree\u001b[0m\u001b[0;34m.\u001b[0m\u001b[0mquery\u001b[0m\u001b[0;34m(\u001b[0m\u001b[0mtable_grid\u001b[0m\u001b[0;34m)\u001b[0m\u001b[0;34m[\u001b[0m\u001b[0;36m1\u001b[0m\u001b[0;34m]\u001b[0m\u001b[0;34m,\u001b[0m \u001b[0;34m(\u001b[0m\u001b[0moutput_dim\u001b[0m\u001b[0;34m,\u001b[0m \u001b[0moutput_dim\u001b[0m\u001b[0;34m)\u001b[0m\u001b[0;34m)\u001b[0m\u001b[0;34m\u001b[0m\u001b[0;34m\u001b[0m\u001b[0m\n\u001b[0m\u001b[1;32m    174\u001b[0m             \u001b[0;32mif\u001b[0m \u001b[0mmap_method\u001b[0m \u001b[0;34m==\u001b[0m \u001b[0;34m'oversampling'\u001b[0m \u001b[0;32mand\u001b[0m \u001b[0mcamera_type\u001b[0m \u001b[0;32mnot\u001b[0m \u001b[0;32min\u001b[0m \u001b[0;34m[\u001b[0m\u001b[0;34m'ASTRICam'\u001b[0m\u001b[0;34m,\u001b[0m \u001b[0;34m'CHEC'\u001b[0m\u001b[0;34m,\u001b[0m \u001b[0;34m'SCTCam'\u001b[0m\u001b[0;34m]\u001b[0m\u001b[0;34m:\u001b[0m\u001b[0;34m\u001b[0m\u001b[0;34m\u001b[0m\u001b[0m\n\u001b[1;32m    175\u001b[0m                 \u001b[0mpixel_weight\u001b[0m \u001b[0;34m=\u001b[0m \u001b[0;36m1\u001b[0m \u001b[0;34m/\u001b[0m \u001b[0;36m4\u001b[0m\u001b[0;34m\u001b[0m\u001b[0;34m\u001b[0m\u001b[0m\n",
      "\u001b[0;32m~/.local/lib/python3.6/site-packages/numpy/core/fromnumeric.py\u001b[0m in \u001b[0;36mreshape\u001b[0;34m(a, newshape, order)\u001b[0m\n\u001b[1;32m    290\u001b[0m            [5, 6]])\n\u001b[1;32m    291\u001b[0m     \"\"\"\n\u001b[0;32m--> 292\u001b[0;31m     \u001b[0;32mreturn\u001b[0m \u001b[0m_wrapfunc\u001b[0m\u001b[0;34m(\u001b[0m\u001b[0ma\u001b[0m\u001b[0;34m,\u001b[0m \u001b[0;34m'reshape'\u001b[0m\u001b[0;34m,\u001b[0m \u001b[0mnewshape\u001b[0m\u001b[0;34m,\u001b[0m \u001b[0morder\u001b[0m\u001b[0;34m=\u001b[0m\u001b[0morder\u001b[0m\u001b[0;34m)\u001b[0m\u001b[0;34m\u001b[0m\u001b[0;34m\u001b[0m\u001b[0m\n\u001b[0m\u001b[1;32m    293\u001b[0m \u001b[0;34m\u001b[0m\u001b[0m\n\u001b[1;32m    294\u001b[0m \u001b[0;34m\u001b[0m\u001b[0m\n",
      "\u001b[0;32m~/.local/lib/python3.6/site-packages/numpy/core/fromnumeric.py\u001b[0m in \u001b[0;36m_wrapfunc\u001b[0;34m(obj, method, *args, **kwds)\u001b[0m\n\u001b[1;32m     54\u001b[0m \u001b[0;32mdef\u001b[0m \u001b[0m_wrapfunc\u001b[0m\u001b[0;34m(\u001b[0m\u001b[0mobj\u001b[0m\u001b[0;34m,\u001b[0m \u001b[0mmethod\u001b[0m\u001b[0;34m,\u001b[0m \u001b[0;34m*\u001b[0m\u001b[0margs\u001b[0m\u001b[0;34m,\u001b[0m \u001b[0;34m**\u001b[0m\u001b[0mkwds\u001b[0m\u001b[0;34m)\u001b[0m\u001b[0;34m:\u001b[0m\u001b[0;34m\u001b[0m\u001b[0;34m\u001b[0m\u001b[0m\n\u001b[1;32m     55\u001b[0m     \u001b[0;32mtry\u001b[0m\u001b[0;34m:\u001b[0m\u001b[0;34m\u001b[0m\u001b[0;34m\u001b[0m\u001b[0m\n\u001b[0;32m---> 56\u001b[0;31m         \u001b[0;32mreturn\u001b[0m \u001b[0mgetattr\u001b[0m\u001b[0;34m(\u001b[0m\u001b[0mobj\u001b[0m\u001b[0;34m,\u001b[0m \u001b[0mmethod\u001b[0m\u001b[0;34m)\u001b[0m\u001b[0;34m(\u001b[0m\u001b[0;34m*\u001b[0m\u001b[0margs\u001b[0m\u001b[0;34m,\u001b[0m \u001b[0;34m**\u001b[0m\u001b[0mkwds\u001b[0m\u001b[0;34m)\u001b[0m\u001b[0;34m\u001b[0m\u001b[0;34m\u001b[0m\u001b[0m\n\u001b[0m\u001b[1;32m     57\u001b[0m \u001b[0;34m\u001b[0m\u001b[0m\n\u001b[1;32m     58\u001b[0m     \u001b[0;31m# An AttributeError occurs if the object does not have\u001b[0m\u001b[0;34m\u001b[0m\u001b[0;34m\u001b[0m\u001b[0;34m\u001b[0m\u001b[0m\n",
      "\u001b[0;31mValueError\u001b[0m: cannot reshape array of size 580644 into shape (118,118)"
     ]
    }
   ],
   "source": [
    "reader = DL1DataReader([\"/home/bryankim96/dl1_data_handler_demo/gamma_20deg_0deg_runs100-103___cta-prod3-demo_desert-2150m-Paranal-baseline-sample_cone10.h5\"])"
   ]
  },
  {
   "cell_type": "code",
   "execution_count": null,
   "metadata": {},
   "outputs": [],
   "source": []
  }
 ],
 "metadata": {
  "kernelspec": {
   "display_name": "Python 3",
   "language": "python",
   "name": "python3"
  },
  "language_info": {
   "codemirror_mode": {
    "name": "ipython",
    "version": 3
   },
   "file_extension": ".py",
   "mimetype": "text/x-python",
   "name": "python",
   "nbconvert_exporter": "python",
   "pygments_lexer": "ipython3",
   "version": "3.6.8"
  }
 },
 "nbformat": 4,
 "nbformat_minor": 2
}
