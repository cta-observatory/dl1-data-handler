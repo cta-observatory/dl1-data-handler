{
 "cells": [
  {
   "cell_type": "code",
   "execution_count": 1,
   "id": "bdd82b95-21ea-40a5-914a-3a1bb3f78aaa",
   "metadata": {},
   "outputs": [],
   "source": [
    "from dl1_data_handler.reader import DLWaveformReader, DLDataReader, TableQualityQuery, DLRawTriggerReader\n",
    "import matplotlib.pyplot as plt\n",
    "import numpy as np\n",
    "from ctapipe.io import EventSource\n",
    "from ctapipe.visualization import CameraDisplay\n",
    "from ctapipe.core.traits import List\n",
    "from ctapipe.core import QualityQuery\n",
    "import time\n",
    "from pathlib import Path"
   ]
  },
  {
   "cell_type": "code",
   "execution_count": 2,
   "id": "7b65d78b-6957-49fb-be43-da63b5d820c5",
   "metadata": {},
   "outputs": [
    {
     "name": "stdout",
     "output_type": "stream",
     "text": [
      "Execution Time: 2113.8751 seconds\n"
     ]
    }
   ],
   "source": [
    "start_time = time.time()\n",
    "reader = DLRawTriggerReader(input_url_signal=[\"/gamma3/users/jbuces/software/mc_data/NSB_protons/reduced/NSB/corsika_run4.dl1b.h5\"],\n",
    "                              image_mapper_type  = \"ShiftingMapper\",\n",
    "                              mode = \"mono\",\n",
    "                              sequence_position= \"maximum\", \n",
    "                              output_settings = \"all_patches\",\n",
    "                              hot_pixel_from_simulation = True,\n",
    "                              trigger_settings = {\"number_of_trigger_patches\" : 7,\"nsb_threshold\" : 0, \"interleave_patches\" : True},\n",
    "                              sequence_length = 10,\n",
    "                              allowed_tel_types=[\"LST_UNKNOWN-387M2_UNKNOWN-7987PX\"],\n",
    "                              allowed_tels = [1],\n",
    "                              quality_cuts = False)\n",
    "end_time = time.time()\n",
    "\n",
    "print(f\"Execution Time: {end_time - start_time:.4f} seconds\")"
   ]
  },
  {
   "cell_type": "code",
   "execution_count": 3,
   "id": "a93013b0-b954-4736-a46b-afac652de6dd",
   "metadata": {},
   "outputs": [
    {
     "data": {
      "text/plain": [
       "35.23125209013621"
      ]
     },
     "execution_count": 3,
     "metadata": {},
     "output_type": "execute_result"
    }
   ],
   "source": [
    "(end_time - start_time)/60"
   ]
  },
  {
   "cell_type": "markdown",
   "id": "c7aa51d6-16ed-4572-8250-82518000bf66",
   "metadata": {},
   "source": [
    "~35 minutos en correr, con interleave patches "
   ]
  },
  {
   "cell_type": "code",
   "execution_count": null,
   "id": "ff4449b1-aed0-4097-be6e-8bf8f93456bd",
   "metadata": {},
   "outputs": [],
   "source": []
  },
  {
   "cell_type": "code",
   "execution_count": 4,
   "id": "12798f4b-135c-4e25-849f-2f723a0c32e2",
   "metadata": {},
   "outputs": [
    {
     "name": "stdout",
     "output_type": "stream",
     "text": [
      "Execution Time: 4.8046 seconds\n",
      "0.0800771713256836 mins\n"
     ]
    }
   ],
   "source": [
    "start_time = time.time()\n",
    "reader.generate_mono_batch(batch_indices = list(range(3230)))\n",
    "end_time = time.time()\n",
    "\n",
    "print(f\"Execution Time: {end_time - start_time:.4f} seconds\")\n",
    "print(f\"{(end_time - start_time)/60} mins\")"
   ]
  },
  {
   "cell_type": "code",
   "execution_count": 5,
   "id": "73750202-d9c3-43c1-b025-f2284656f282",
   "metadata": {},
   "outputs": [
    {
     "data": {
      "text/html": [
       "<div><i>Table length=3230</i>\n",
       "<table id=\"table140117940383328\" class=\"table-striped table-bordered table-condensed\">\n",
       "<thead><tr><th>index</th><th>file_index</th><th>table_index</th><th>obs_id</th><th>tel_type_id</th><th>event_id</th><th>tel_id</th><th>true_energy</th><th>true_alt</th><th>true_az</th><th>true_shower_primary_id</th><th>spherical_offset_az</th><th>spherical_offset_alt</th><th>angular_separation</th><th>log_true_energy</th><th>true_shower_primary_class</th><th>patch_index</th><th>cherenkov_pe</th><th>waveform</th></tr></thead>\n",
       "<thead><tr><th></th><th></th><th></th><th></th><th></th><th></th><th></th><th>TeV</th><th>deg</th><th>deg</th><th></th><th>deg</th><th>deg</th><th>deg</th><th>TeV</th><th></th><th></th><th></th><th></th></tr></thead>\n",
       "<thead><tr><th>int64</th><th>int64</th><th>int64</th><th>int32</th><th>int64</th><th>int64</th><th>int64</th><th>float64</th><th>float64</th><th>float64</th><th>int64</th><th>float64</th><th>float64</th><th>float64</th><th>float64</th><th>int64</th><th>int64</th><th>int64</th><th>float32[28,28,10]</th></tr></thead>\n",
       "<tr><td>0</td><td>0</td><td>1</td><td>4</td><td>0</td><td>101</td><td>1</td><td>5.560657024383545</td><td>62.91127418072167</td><td>163.72799455674974</td><td>101</td><td>-7.372532050692125</td><td>-6.100065092115785</td><td>9.558204415118668</td><td>0.7451261090651803</td><td>1</td><td>23</td><td>43</td><td>323.0 .. 311.0</td></tr>\n",
       "<tr><td>1</td><td>0</td><td>1</td><td>4</td><td>0</td><td>101</td><td>1</td><td>5.560657024383545</td><td>62.91127418072167</td><td>163.72799455674974</td><td>101</td><td>-7.372532050692125</td><td>-6.100065092115785</td><td>9.558204415118668</td><td>0.7451261090651803</td><td>1</td><td>45</td><td>0</td><td>293.0 .. 0.0</td></tr>\n",
       "<tr><td>2</td><td>0</td><td>1</td><td>4</td><td>0</td><td>101</td><td>1</td><td>5.560657024383545</td><td>62.91127418072167</td><td>163.72799455674974</td><td>101</td><td>-7.372532050692125</td><td>-6.100065092115785</td><td>9.558204415118668</td><td>0.7451261090651803</td><td>1</td><td>32</td><td>31</td><td>293.0 .. 297.0</td></tr>\n",
       "<tr><td>3</td><td>0</td><td>1</td><td>4</td><td>0</td><td>101</td><td>1</td><td>5.560657024383545</td><td>62.91127418072167</td><td>163.72799455674974</td><td>101</td><td>-7.372532050692125</td><td>-6.100065092115785</td><td>9.558204415118668</td><td>0.7451261090651803</td><td>1</td><td>43</td><td>0</td><td>0.0 .. 0.0</td></tr>\n",
       "<tr><td>4</td><td>0</td><td>1</td><td>4</td><td>0</td><td>101</td><td>1</td><td>5.560657024383545</td><td>62.91127418072167</td><td>163.72799455674974</td><td>101</td><td>-7.372532050692125</td><td>-6.100065092115785</td><td>9.558204415118668</td><td>0.7451261090651803</td><td>1</td><td>5</td><td>3</td><td>0.0 .. 0.0</td></tr>\n",
       "<tr><td>5</td><td>0</td><td>1</td><td>4</td><td>0</td><td>101</td><td>1</td><td>5.560657024383545</td><td>62.91127418072167</td><td>163.72799455674974</td><td>101</td><td>-7.372532050692125</td><td>-6.100065092115785</td><td>9.558204415118668</td><td>0.7451261090651803</td><td>1</td><td>20</td><td>0</td><td>291.0 .. 0.0</td></tr>\n",
       "<tr><td>6</td><td>0</td><td>1</td><td>4</td><td>0</td><td>101</td><td>1</td><td>5.560657024383545</td><td>62.91127418072167</td><td>163.72799455674974</td><td>101</td><td>-7.372532050692125</td><td>-6.100065092115785</td><td>9.558204415118668</td><td>0.7451261090651803</td><td>1</td><td>11</td><td>7</td><td>313.0 .. 315.0</td></tr>\n",
       "<tr><td>7</td><td>0</td><td>1</td><td>4</td><td>0</td><td>101</td><td>1</td><td>5.560657024383545</td><td>62.91127418072167</td><td>163.72799455674974</td><td>101</td><td>-7.372532050692125</td><td>-6.100065092115785</td><td>9.558204415118668</td><td>0.7451261090651803</td><td>1</td><td>38</td><td>0</td><td>296.0 .. 286.0</td></tr>\n",
       "<tr><td>8</td><td>0</td><td>1</td><td>4</td><td>0</td><td>101</td><td>1</td><td>5.560657024383545</td><td>62.91127418072167</td><td>163.72799455674974</td><td>101</td><td>-7.372532050692125</td><td>-6.100065092115785</td><td>9.558204415118668</td><td>0.7451261090651803</td><td>1</td><td>16</td><td>53</td><td>306.0 .. 292.0</td></tr>\n",
       "<tr><td>...</td><td>...</td><td>...</td><td>...</td><td>...</td><td>...</td><td>...</td><td>...</td><td>...</td><td>...</td><td>...</td><td>...</td><td>...</td><td>...</td><td>...</td><td>...</td><td>...</td><td>...</td><td>...</td></tr>\n",
       "<tr><td>3221</td><td>0</td><td>9923</td><td>4</td><td>0</td><td>99303</td><td>1</td><td>0.01471622847020626</td><td>71.33191388010691</td><td>198.8972533101707</td><td>101</td><td>5.9550072629176976</td><td>2.2612530447946813</td><td>6.368433861334429</td><td>-1.8322034783443333</td><td>1</td><td>33</td><td>0</td><td>294.0 .. 0.0</td></tr>\n",
       "<tr><td>3222</td><td>0</td><td>9926</td><td>4</td><td>0</td><td>99306</td><td>1</td><td>0.01471622847020626</td><td>71.33191388010691</td><td>198.8972533101707</td><td>101</td><td>5.9550072629176976</td><td>2.2612530447946813</td><td>6.368433861334429</td><td>-1.8322034783443333</td><td>1</td><td>39</td><td>0</td><td>304.0 .. 0.0</td></tr>\n",
       "<tr><td>3223</td><td>0</td><td>9926</td><td>4</td><td>0</td><td>99306</td><td>1</td><td>0.01471622847020626</td><td>71.33191388010691</td><td>198.8972533101707</td><td>101</td><td>5.9550072629176976</td><td>2.2612530447946813</td><td>6.368433861334429</td><td>-1.8322034783443333</td><td>1</td><td>18</td><td>1</td><td>298.0 .. 325.0</td></tr>\n",
       "<tr><td>3224</td><td>0</td><td>9926</td><td>4</td><td>0</td><td>99306</td><td>1</td><td>0.01471622847020626</td><td>71.33191388010691</td><td>198.8972533101707</td><td>101</td><td>5.9550072629176976</td><td>2.2612530447946813</td><td>6.368433861334429</td><td>-1.8322034783443333</td><td>1</td><td>17</td><td>1</td><td>311.0 .. 330.0</td></tr>\n",
       "<tr><td>3225</td><td>0</td><td>9926</td><td>4</td><td>0</td><td>99306</td><td>1</td><td>0.01471622847020626</td><td>71.33191388010691</td><td>198.8972533101707</td><td>101</td><td>5.9550072629176976</td><td>2.2612530447946813</td><td>6.368433861334429</td><td>-1.8322034783443333</td><td>1</td><td>43</td><td>0</td><td>0.0 .. 0.0</td></tr>\n",
       "<tr><td>3226</td><td>0</td><td>9926</td><td>4</td><td>0</td><td>99306</td><td>1</td><td>0.01471622847020626</td><td>71.33191388010691</td><td>198.8972533101707</td><td>101</td><td>5.9550072629176976</td><td>2.2612530447946813</td><td>6.368433861334429</td><td>-1.8322034783443333</td><td>1</td><td>24</td><td>1</td><td>298.0 .. 306.0</td></tr>\n",
       "<tr><td>3227</td><td>0</td><td>9926</td><td>4</td><td>0</td><td>99306</td><td>1</td><td>0.01471622847020626</td><td>71.33191388010691</td><td>198.8972533101707</td><td>101</td><td>5.9550072629176976</td><td>2.2612530447946813</td><td>6.368433861334429</td><td>-1.8322034783443333</td><td>1</td><td>21</td><td>0</td><td>0.0 .. 302.0</td></tr>\n",
       "<tr><td>3228</td><td>0</td><td>9926</td><td>4</td><td>0</td><td>99306</td><td>1</td><td>0.01471622847020626</td><td>71.33191388010691</td><td>198.8972533101707</td><td>101</td><td>5.9550072629176976</td><td>2.2612530447946813</td><td>6.368433861334429</td><td>-1.8322034783443333</td><td>1</td><td>25</td><td>1</td><td>293.0 .. 301.0</td></tr>\n",
       "<tr><td>3229</td><td>0</td><td>9926</td><td>4</td><td>0</td><td>99306</td><td>1</td><td>0.01471622847020626</td><td>71.33191388010691</td><td>198.8972533101707</td><td>101</td><td>5.9550072629176976</td><td>2.2612530447946813</td><td>6.368433861334429</td><td>-1.8322034783443333</td><td>1</td><td>29</td><td>0</td><td>296.0 .. 296.0</td></tr>\n",
       "</table></div>"
      ],
      "text/plain": [
       "<Table length=3230>\n",
       "index file_index table_index ... patch_index cherenkov_pe      waveform    \n",
       "                             ...                                           \n",
       "int64   int64       int64    ...    int64       int64     float32[28,28,10]\n",
       "----- ---------- ----------- ... ----------- ------------ -----------------\n",
       "    0          0           1 ...          23           43    323.0 .. 311.0\n",
       "    1          0           1 ...          45            0      293.0 .. 0.0\n",
       "    2          0           1 ...          32           31    293.0 .. 297.0\n",
       "    3          0           1 ...          43            0        0.0 .. 0.0\n",
       "    4          0           1 ...           5            3        0.0 .. 0.0\n",
       "    5          0           1 ...          20            0      291.0 .. 0.0\n",
       "    6          0           1 ...          11            7    313.0 .. 315.0\n",
       "    7          0           1 ...          38            0    296.0 .. 286.0\n",
       "    8          0           1 ...          16           53    306.0 .. 292.0\n",
       "  ...        ...         ... ...         ...          ...               ...\n",
       " 3221          0        9923 ...          33            0      294.0 .. 0.0\n",
       " 3222          0        9926 ...          39            0      304.0 .. 0.0\n",
       " 3223          0        9926 ...          18            1    298.0 .. 325.0\n",
       " 3224          0        9926 ...          17            1    311.0 .. 330.0\n",
       " 3225          0        9926 ...          43            0        0.0 .. 0.0\n",
       " 3226          0        9926 ...          24            1    298.0 .. 306.0\n",
       " 3227          0        9926 ...          21            0      0.0 .. 302.0\n",
       " 3228          0        9926 ...          25            1    293.0 .. 301.0\n",
       " 3229          0        9926 ...          29            0    296.0 .. 296.0"
      ]
     },
     "execution_count": 5,
     "metadata": {},
     "output_type": "execute_result"
    }
   ],
   "source": [
    "reader.generate_mono_batch(batch_indices = list(range(3230)))"
   ]
  },
  {
   "cell_type": "code",
   "execution_count": null,
   "id": "e19dca39-13e9-4e2a-bfe4-6394accd1145",
   "metadata": {},
   "outputs": [],
   "source": []
  },
  {
   "cell_type": "code",
   "execution_count": null,
   "id": "df4b0995-3c18-4bab-a8ff-03d5438fa60b",
   "metadata": {},
   "outputs": [],
   "source": []
  },
  {
   "cell_type": "code",
   "execution_count": null,
   "id": "18794045-cf2f-43d7-bc08-1e699243eb9c",
   "metadata": {},
   "outputs": [],
   "source": []
  },
  {
   "cell_type": "code",
   "execution_count": null,
   "id": "db0c86c6-9d60-4d5b-a9c1-22a021b63c09",
   "metadata": {},
   "outputs": [],
   "source": []
  },
  {
   "cell_type": "code",
   "execution_count": 8,
   "id": "478408fb-e711-4214-a727-b165ae33f966",
   "metadata": {},
   "outputs": [
    {
     "data": {
      "text/html": [
       "<div><i>Table length=3230</i>\n",
       "<table id=\"table139672995658960\" class=\"table-striped table-bordered table-condensed\">\n",
       "<thead><tr><th>index</th><th>file_index</th><th>table_index</th><th>obs_id</th><th>tel_type_id</th><th>event_id</th><th>tel_id</th><th>true_energy</th><th>true_alt</th><th>true_az</th><th>true_shower_primary_id</th><th>spherical_offset_az</th><th>spherical_offset_alt</th><th>angular_separation</th><th>log_true_energy</th><th>true_shower_primary_class</th><th>patch_index</th><th>cherenkov_pe</th></tr></thead>\n",
       "<thead><tr><th></th><th></th><th></th><th></th><th></th><th></th><th></th><th>TeV</th><th>deg</th><th>deg</th><th></th><th>deg</th><th>deg</th><th>deg</th><th>TeV</th><th></th><th></th><th></th></tr></thead>\n",
       "<thead><tr><th>int64</th><th>int64</th><th>int64</th><th>int32</th><th>int64</th><th>int64</th><th>int64</th><th>float64</th><th>float64</th><th>float64</th><th>int64</th><th>float64</th><th>float64</th><th>float64</th><th>float64</th><th>int64</th><th>int64</th><th>int64</th></tr></thead>\n",
       "<tr><td>0</td><td>0</td><td>1</td><td>4</td><td>0</td><td>101</td><td>1</td><td>5.560657024383545</td><td>62.91127418072167</td><td>163.72799455674974</td><td>101</td><td>-7.372532050692125</td><td>-6.100065092115785</td><td>9.558204415118668</td><td>0.7451261090651803</td><td>1</td><td>48</td><td>0</td></tr>\n",
       "<tr><td>1</td><td>0</td><td>1</td><td>4</td><td>0</td><td>101</td><td>1</td><td>5.560657024383545</td><td>62.91127418072167</td><td>163.72799455674974</td><td>101</td><td>-7.372532050692125</td><td>-6.100065092115785</td><td>9.558204415118668</td><td>0.7451261090651803</td><td>1</td><td>0</td><td>9</td></tr>\n",
       "<tr><td>2</td><td>0</td><td>1</td><td>4</td><td>0</td><td>101</td><td>1</td><td>5.560657024383545</td><td>62.91127418072167</td><td>163.72799455674974</td><td>101</td><td>-7.372532050692125</td><td>-6.100065092115785</td><td>9.558204415118668</td><td>0.7451261090651803</td><td>1</td><td>1</td><td>14</td></tr>\n",
       "<tr><td>3</td><td>0</td><td>1</td><td>4</td><td>0</td><td>101</td><td>1</td><td>5.560657024383545</td><td>62.91127418072167</td><td>163.72799455674974</td><td>101</td><td>-7.372532050692125</td><td>-6.100065092115785</td><td>9.558204415118668</td><td>0.7451261090651803</td><td>1</td><td>2</td><td>5</td></tr>\n",
       "<tr><td>4</td><td>0</td><td>1</td><td>4</td><td>0</td><td>101</td><td>1</td><td>5.560657024383545</td><td>62.91127418072167</td><td>163.72799455674974</td><td>101</td><td>-7.372532050692125</td><td>-6.100065092115785</td><td>9.558204415118668</td><td>0.7451261090651803</td><td>1</td><td>4</td><td>3</td></tr>\n",
       "<tr><td>5</td><td>0</td><td>1</td><td>4</td><td>0</td><td>101</td><td>1</td><td>5.560657024383545</td><td>62.91127418072167</td><td>163.72799455674974</td><td>101</td><td>-7.372532050692125</td><td>-6.100065092115785</td><td>9.558204415118668</td><td>0.7451261090651803</td><td>1</td><td>15</td><td>59</td></tr>\n",
       "<tr><td>6</td><td>0</td><td>1</td><td>4</td><td>0</td><td>101</td><td>1</td><td>5.560657024383545</td><td>62.91127418072167</td><td>163.72799455674974</td><td>101</td><td>-7.372532050692125</td><td>-6.100065092115785</td><td>9.558204415118668</td><td>0.7451261090651803</td><td>1</td><td>7</td><td>30</td></tr>\n",
       "<tr><td>7</td><td>0</td><td>1</td><td>4</td><td>0</td><td>101</td><td>1</td><td>5.560657024383545</td><td>62.91127418072167</td><td>163.72799455674974</td><td>101</td><td>-7.372532050692125</td><td>-6.100065092115785</td><td>9.558204415118668</td><td>0.7451261090651803</td><td>1</td><td>9</td><td>24</td></tr>\n",
       "<tr><td>8</td><td>0</td><td>1</td><td>4</td><td>0</td><td>101</td><td>1</td><td>5.560657024383545</td><td>62.91127418072167</td><td>163.72799455674974</td><td>101</td><td>-7.372532050692125</td><td>-6.100065092115785</td><td>9.558204415118668</td><td>0.7451261090651803</td><td>1</td><td>10</td><td>8</td></tr>\n",
       "<tr><td>...</td><td>...</td><td>...</td><td>...</td><td>...</td><td>...</td><td>...</td><td>...</td><td>...</td><td>...</td><td>...</td><td>...</td><td>...</td><td>...</td><td>...</td><td>...</td><td>...</td><td>...</td></tr>\n",
       "<tr><td>3221</td><td>0</td><td>9923</td><td>4</td><td>0</td><td>99303</td><td>1</td><td>0.01471622847020626</td><td>71.33191388010691</td><td>198.8972533101707</td><td>101</td><td>5.9550072629176976</td><td>2.2612530447946813</td><td>6.368433861334429</td><td>-1.8322034783443333</td><td>1</td><td>14</td><td>1</td></tr>\n",
       "<tr><td>3222</td><td>0</td><td>9926</td><td>4</td><td>0</td><td>99306</td><td>1</td><td>0.01471622847020626</td><td>71.33191388010691</td><td>198.8972533101707</td><td>101</td><td>5.9550072629176976</td><td>2.2612530447946813</td><td>6.368433861334429</td><td>-1.8322034783443333</td><td>1</td><td>2</td><td>0</td></tr>\n",
       "<tr><td>3223</td><td>0</td><td>9926</td><td>4</td><td>0</td><td>99306</td><td>1</td><td>0.01471622847020626</td><td>71.33191388010691</td><td>198.8972533101707</td><td>101</td><td>5.9550072629176976</td><td>2.2612530447946813</td><td>6.368433861334429</td><td>-1.8322034783443333</td><td>1</td><td>17</td><td>1</td></tr>\n",
       "<tr><td>3224</td><td>0</td><td>9926</td><td>4</td><td>0</td><td>99306</td><td>1</td><td>0.01471622847020626</td><td>71.33191388010691</td><td>198.8972533101707</td><td>101</td><td>5.9550072629176976</td><td>2.2612530447946813</td><td>6.368433861334429</td><td>-1.8322034783443333</td><td>1</td><td>18</td><td>1</td></tr>\n",
       "<tr><td>3225</td><td>0</td><td>9926</td><td>4</td><td>0</td><td>99306</td><td>1</td><td>0.01471622847020626</td><td>71.33191388010691</td><td>198.8972533101707</td><td>101</td><td>5.9550072629176976</td><td>2.2612530447946813</td><td>6.368433861334429</td><td>-1.8322034783443333</td><td>1</td><td>24</td><td>1</td></tr>\n",
       "<tr><td>3226</td><td>0</td><td>9926</td><td>4</td><td>0</td><td>99306</td><td>1</td><td>0.01471622847020626</td><td>71.33191388010691</td><td>198.8972533101707</td><td>101</td><td>5.9550072629176976</td><td>2.2612530447946813</td><td>6.368433861334429</td><td>-1.8322034783443333</td><td>1</td><td>25</td><td>1</td></tr>\n",
       "<tr><td>3227</td><td>0</td><td>9926</td><td>4</td><td>0</td><td>99306</td><td>1</td><td>0.01471622847020626</td><td>71.33191388010691</td><td>198.8972533101707</td><td>101</td><td>5.9550072629176976</td><td>2.2612530447946813</td><td>6.368433861334429</td><td>-1.8322034783443333</td><td>1</td><td>0</td><td>0</td></tr>\n",
       "<tr><td>3228</td><td>0</td><td>9926</td><td>4</td><td>0</td><td>99306</td><td>1</td><td>0.01471622847020626</td><td>71.33191388010691</td><td>198.8972533101707</td><td>101</td><td>5.9550072629176976</td><td>2.2612530447946813</td><td>6.368433861334429</td><td>-1.8322034783443333</td><td>1</td><td>1</td><td>0</td></tr>\n",
       "<tr><td>3229</td><td>0</td><td>9926</td><td>4</td><td>0</td><td>99306</td><td>1</td><td>0.01471622847020626</td><td>71.33191388010691</td><td>198.8972533101707</td><td>101</td><td>5.9550072629176976</td><td>2.2612530447946813</td><td>6.368433861334429</td><td>-1.8322034783443333</td><td>1</td><td>3</td><td>0</td></tr>\n",
       "</table></div>"
      ],
      "text/plain": [
       "<Table length=3230>\n",
       "index file_index table_index ... patch_index cherenkov_pe\n",
       "                             ...                         \n",
       "int64   int64       int64    ...    int64       int64    \n",
       "----- ---------- ----------- ... ----------- ------------\n",
       "    0          0           1 ...          48            0\n",
       "    1          0           1 ...           0            9\n",
       "    2          0           1 ...           1           14\n",
       "    3          0           1 ...           2            5\n",
       "    4          0           1 ...           4            3\n",
       "    5          0           1 ...          15           59\n",
       "    6          0           1 ...           7           30\n",
       "    7          0           1 ...           9           24\n",
       "    8          0           1 ...          10            8\n",
       "  ...        ...         ... ...         ...          ...\n",
       " 3221          0        9923 ...          14            1\n",
       " 3222          0        9926 ...           2            0\n",
       " 3223          0        9926 ...          17            1\n",
       " 3224          0        9926 ...          18            1\n",
       " 3225          0        9926 ...          24            1\n",
       " 3226          0        9926 ...          25            1\n",
       " 3227          0        9926 ...           0            0\n",
       " 3228          0        9926 ...           1            0\n",
       " 3229          0        9926 ...           3            0"
      ]
     },
     "execution_count": 8,
     "metadata": {},
     "output_type": "execute_result"
    }
   ],
   "source": [
    "reader.example_identifiers\n"
   ]
  },
  {
   "cell_type": "code",
   "execution_count": null,
   "id": "5951ab33-99fe-4574-8744-0d2ef2e4420e",
   "metadata": {},
   "outputs": [],
   "source": []
  },
  {
   "cell_type": "code",
   "execution_count": null,
   "id": "138cd8b2-77a3-4826-86ae-55cd0adb1afd",
   "metadata": {},
   "outputs": [],
   "source": []
  }
 ],
 "metadata": {
  "kernelspec": {
   "display_name": "Python 3 (ipykernel)",
   "language": "python",
   "name": "python3"
  },
  "language_info": {
   "codemirror_mode": {
    "name": "ipython",
    "version": 3
   },
   "file_extension": ".py",
   "mimetype": "text/x-python",
   "name": "python",
   "nbconvert_exporter": "python",
   "pygments_lexer": "ipython3",
   "version": "3.13.2"
  }
 },
 "nbformat": 4,
 "nbformat_minor": 5
}
