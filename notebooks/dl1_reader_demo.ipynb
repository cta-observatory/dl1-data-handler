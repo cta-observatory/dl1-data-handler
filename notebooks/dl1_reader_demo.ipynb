{
 "cells": [
  {
   "cell_type": "code",
   "execution_count": null,
   "metadata": {
    "ExecuteTime": {
     "end_time": "2021-01-20T08:08:42.575494Z",
     "start_time": "2021-01-20T08:08:42.472881Z"
    }
   },
   "outputs": [],
   "source": [
    "from dl1_data_handler.reader import DL1DataReader\n",
    "from ctlearn.data_loader import setup_DL1DataReader #CTLearn > v0.5.0\n",
    "import yaml\n",
    "import matplotlib.pyplot as plt\n",
    "%matplotlib inline"
   ]
  },
  {
   "cell_type": "markdown",
   "metadata": {},
   "source": [
    "# directly reader"
   ]
  },
  {
   "cell_type": "code",
   "execution_count": null,
   "metadata": {
    "ExecuteTime": {
     "end_time": "2021-01-20T08:08:43.221905Z",
     "start_time": "2021-01-20T08:08:42.581061Z"
    },
    "scrolled": true
   },
   "outputs": [],
   "source": [
    "reader = DL1DataReader([\"/mnt/lromanato/anaconda3/envs/LST37/CTA/smallDataset/MAGIC/GA_za05to35_8_821319_Y_w0_dl1dh_v0_2.9.0.h5\"],\n",
    "                       mode='stereo')\n",
    "reader.example_description"
   ]
  },
  {
   "cell_type": "code",
   "execution_count": null,
   "metadata": {
    "ExecuteTime": {
     "end_time": "2021-01-20T08:08:43.234244Z",
     "start_time": "2021-01-20T08:08:42.955Z"
    }
   },
   "outputs": [],
   "source": [
    "for x in reader.example_identifiers[0:10]:\n",
    "    print(x)\n",
    "#(filename,event)"
   ]
  },
  {
   "cell_type": "code",
   "execution_count": null,
   "metadata": {
    "ExecuteTime": {
     "end_time": "2021-01-20T08:08:43.236319Z",
     "start_time": "2021-01-20T08:08:42.957Z"
    },
    "scrolled": true
   },
   "outputs": [],
   "source": [
    "NUM_IMAGES_TO_PLOT = 2\n",
    "i = 0\n",
    "while i < NUM_IMAGES_TO_PLOT:\n",
    "    example = reader[i]\n",
    "    image = example[0]  \n",
    "    plt.figure()\n",
    "    if reader.mode == 'stereo':\n",
    "        plt.title('event number : {}'.format(i))\n",
    "        plt.pcolor(image[0,:,:,0],cmap='viridis') #stereo \n",
    "        plt.axes().set_aspect('equal')\n",
    "        plt.show()\n",
    "        plt.close()\n",
    "        plt.pcolor(image[1,:,:,0],cmap='viridis')\n",
    "        plt.axes().set_aspect('equal')\n",
    "        plt.show()\n",
    "        plt.close()\n",
    "    elif reader.mode == 'mono':\n",
    "        plt.title('image number : {}'.format(i))\n",
    "        plt.pcolor(image[:,:,0],cmap='viridis') #mono charge\n",
    "        plt.axes().set_aspect('equal')\n",
    "        plt.title('charge')\n",
    "        plt.show()\n",
    "        plt.close()\n",
    "    \n",
    "    i+=1"
   ]
  },
  {
   "cell_type": "markdown",
   "metadata": {},
   "source": [
    "# reader with yml "
   ]
  },
  {
   "cell_type": "markdown",
   "metadata": {},
   "source": [
    "https://github.com/ctlearn-project/ctlearn/blob/multitask/config/example_config.yml #TODO update to new version \n",
    "\n",
    "Input data section of yml file of parameters_example.yml\n",
    "\n",
    "Data:\n",
    "\n",
    "    file_list: /path/to/your/file\n",
    "    mode: 'stereo' #mono\n",
    "    image_selection_from_file:\n",
    "    -\n",
    "        name: 'leakage_parameters_filter'  #we have hillas, leakage, concentration, timing and morphology \n",
    "        args: {algorithm: 0, parameter: 'leakage_intensity_2', threshold_min: 0.0, threshold_max: 0.2}\n",
    "    -\n",
    "        name: 'hillas_parameters_filter'  #we have hillas, leakage, concentration, timing and morphology \n",
    "        args: {algorithm: 0, parameter: 'hillas_intensity', threshold_min: 1000.0}\n",
    "        \n",
    "    selected_telescope_type: 'LST_LST_LSTCam'\n",
    "    selected_telescope_ids:\n",
    "        'LST_LSTCam': [1]\n",
    "    shuffle: true\n",
    "    seed: 1111\n",
    "    training_parameters: ['hillas_intensity','leakage_intensity_2']   \n",
    "    \n",
    "    image_channels: ['charge', 'peak_time', 'image_mask0']\n",
    "    mapping_settings:\n",
    "        camera_types: ['LSTCam']\n",
    "        mapping_method:\n",
    "            'LSTCam': 'bilinear_interpolation'\n",
    "        padding:\n",
    "            'LSTCam': 2\n",
    "        mask_interpolation: false               \n",
    "    \n",
    "    event_info:\n",
    "        - 'mc_energy'\n",
    "    transforms:\n",
    "        - name: 'MCEnergy'"
   ]
  },
  {
   "cell_type": "code",
   "execution_count": null,
   "metadata": {
    "ExecuteTime": {
     "end_time": "2021-01-20T08:08:43.237780Z",
     "start_time": "2021-01-20T08:08:42.959Z"
    }
   },
   "outputs": [],
   "source": [
    "yml = '/mnt/lromanato/anaconda3/envs/LST37/CTA/yml_files/parameters_example.yml'\n",
    "with open(yml, 'r') as config_file:\n",
    "            config = yaml.safe_load(config_file)\n",
    "config['Data'] = setup_DL1DataReader(config,'train')"
   ]
  },
  {
   "cell_type": "code",
   "execution_count": null,
   "metadata": {
    "ExecuteTime": {
     "end_time": "2021-01-20T08:08:43.239232Z",
     "start_time": "2021-01-20T08:08:42.960Z"
    },
    "scrolled": true
   },
   "outputs": [],
   "source": [
    "reader = DL1DataReader(**config['Data'])\n",
    "print('mode: ',reader.mode)\n",
    "print(\"Image shape: {}\".format(reader[0][0].shape))\n",
    "print(\"Example Description: \", reader.example_description)"
   ]
  },
  {
   "cell_type": "code",
   "execution_count": null,
   "metadata": {
    "ExecuteTime": {
     "end_time": "2021-01-20T08:08:43.241000Z",
     "start_time": "2021-01-20T08:08:42.962Z"
    },
    "scrolled": true
   },
   "outputs": [],
   "source": [
    "for x in reader.example_identifiers[0:4]:\n",
    "    print(x)\n",
    "#(filename,nrow,image_index,telescope_id, [selected parameters in yml file])"
   ]
  },
  {
   "cell_type": "code",
   "execution_count": null,
   "metadata": {
    "ExecuteTime": {
     "end_time": "2021-01-20T08:08:43.242298Z",
     "start_time": "2021-01-20T08:08:42.963Z"
    }
   },
   "outputs": [],
   "source": [
    "NUM_IMAGES_TO_PLOT = 2\n",
    "i = 0\n",
    "while i < NUM_IMAGES_TO_PLOT:\n",
    "    example = reader[i]\n",
    "    image = example[0]  \n",
    "    plt.figure()\n",
    "    if reader.mode == 'stereo':\n",
    "        plt.pcolor(image[0,:,:,0],cmap='viridis') #stereo \n",
    "        plt.axes().set_aspect('equal')\n",
    "        plt.show()\n",
    "        plt.close()\n",
    "        plt.pcolor(image[1,:,:,0],cmap='viridis')\n",
    "        plt.axes().set_aspect('equal')\n",
    "        plt.show()\n",
    "        plt.close()\n",
    "    elif reader.mode == 'mono':\n",
    "        print('image parameters of image number {} : {}'.format(i,reader.example_identifiers[i][4]))\n",
    "        plt.figure(figsize=(12, 3))\n",
    "        plt.subplots_adjust(wspace=0.31)\n",
    "        plt.subplot(1, 3, 1)\n",
    "        plt.pcolor(image[:,:,0],cmap='viridis')\n",
    "        plt.title(\"PhotEv image number %i\" %i)\n",
    "\n",
    "        plt.subplot(1, 3, 2)\n",
    "        plt.pcolor(image[:,:,1],cmap='viridis')\n",
    "        plt.title(\"Timing image number %i\" %i)\n",
    "\n",
    "        plt.subplot(1, 3, 3)\n",
    "        plt.pcolor(image[:,:,2],cmap='viridis')\n",
    "        plt.title(\"Mask 0 image number %i\" %i)\n",
    "\n",
    "        plt.show()\n",
    "        plt.close()\n",
    "    \n",
    "    i+=1\n"
   ]
  }
 ],
 "metadata": {
  "kernelspec": {
   "display_name": "Python 3",
   "language": "python",
   "name": "python3"
  },
  "language_info": {
   "codemirror_mode": {
    "name": "ipython",
    "version": 3
   },
   "file_extension": ".py",
   "mimetype": "text/x-python",
   "name": "python",
   "nbconvert_exporter": "python",
   "pygments_lexer": "ipython3",
   "version": "3.7.9"
  }
 },
 "nbformat": 4,
 "nbformat_minor": 4
}
