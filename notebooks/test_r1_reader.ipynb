{
 "cells": [
  {
   "cell_type": "code",
   "execution_count": 1,
   "id": "3a88cc0b-995f-4fe7-9bcc-8ee7e2274ac0",
   "metadata": {},
   "outputs": [],
   "source": [
    "from dl1_data_handler.reader import DLWaveformReader, DLDataReader, TableQualityQuery, DLImageReader\n",
    "import matplotlib.pyplot as plt\n",
    "import numpy as np\n",
    "from ctapipe.io import EventSource\n",
    "from ctapipe.core.traits import List\n",
    "from ctapipe.core import QualityQuery"
   ]
  },
  {
   "cell_type": "code",
   "execution_count": 2,
   "id": "168c284f-0a81-418f-aae4-7c65dba2a3a5",
   "metadata": {},
   "outputs": [
    {
     "data": {
      "text/html": [
       "<div><i>Table length=2</i>\n",
       "<table id=\"table140397703191184\" class=\"table-striped table-bordered table-condensed\">\n",
       "<thead><tr><th>criteria</th><th>counts</th><th>cumulative_counts</th></tr></thead>\n",
       "<thead><tr><th>str8</th><th>int64</th><th>int64</th></tr></thead>\n",
       "<tr><td>TOTAL</td><td>0</td><td>0</td></tr>\n",
       "<tr><td>&gt; 50 phe</td><td>0</td><td>0</td></tr>\n",
       "</table></div>"
      ],
      "text/plain": [
       "<dl1_data_handler.reader.TableQualityQuery at 0x7fb0e335a7b0>"
      ]
     },
     "execution_count": 2,
     "metadata": {},
     "output_type": "execute_result"
    }
   ],
   "source": [
    "TableQualityQuery(None)"
   ]
  },
  {
   "cell_type": "code",
   "execution_count": 3,
   "id": "8b9faa4a-99ea-4dd3-bbd9-b3b478b9f76f",
   "metadata": {},
   "outputs": [],
   "source": [
    "camgeo = EventSource(\"/gamma3/users/jbuces/software/mc_data/NSB/NSB200MHz/proton/data/corsika_run6.simtel.gz\").subarray.tel[1].camera.geometry"
   ]
  },
  {
   "cell_type": "code",
   "execution_count": 4,
   "id": "aee98028-4672-4fde-af83-d26e2e658b94",
   "metadata": {},
   "outputs": [
    {
     "name": "stderr",
     "output_type": "stream",
     "text": [
      "WARNING: MergeConflictWarning: In merged column 'obs_id' the 'description' attribute does not match (Observation Block ID != Simulation Run Identifier).  Using Simulation Run Identifier for merged output [astropy.utils.metadata.merge]\n"
     ]
    }
   ],
   "source": [
    "reader = DLWaveformReader(input_url_signal=[\"/gamma3/users/jbuces/software/mc_data/NSB_protons/reduced/NSB/corsika_run4.dl1b.h5\"],\n",
    "                          image_mapper_type  = \"ShiftingMapper\",\n",
    "                          mode = \"mono\",\n",
    "                          sequence_position= \"maximum\",\n",
    "                          sequence_length = 2,\n",
    "                          allowed_tel_types=[\"LST_UNKNOWN-387M2_UNKNOWN-7987PX\"],\n",
    "                          allowed_tels = [1],\n",
    "                          quality_cuts = False)\n",
    "                          #                          quality_query = None"
   ]
  },
  {
   "cell_type": "code",
   "execution_count": 12,
   "id": "642173e9-a702-4bd1-a793-e2295ab5036b",
   "metadata": {},
   "outputs": [
    {
     "name": "stderr",
     "output_type": "stream",
     "text": [
      "WARNING: MergeConflictWarning: In merged column 'obs_id' the 'description' attribute does not match (Observation Block ID != Simulation Run Identifier).  Using Simulation Run Identifier for merged output [astropy.utils.metadata.merge]\n"
     ]
    }
   ],
   "source": [
    "reader = DLImageReader(input_url_signal=[\"/gamma3/users/jbuces/software/mc_data/trigerless_gammas/reduced_ctapipe/corsika_run1.dl1b.h5\"],\n",
    "                          image_mapper_type  = \"ShiftingMapper\",\n",
    "                          mode = \"mono\",\n",
    "                          allowed_tel_types=[\"LST_UNKNOWN-387M2_UNKNOWN-7987PX\"],\n",
    "                          allowed_tels = [1])"
   ]
  },
  {
   "cell_type": "code",
   "execution_count": 5,
   "id": "701ab429-369a-4fcf-9bfc-b195752911cf",
   "metadata": {},
   "outputs": [],
   "source": [
    "reader.quality_query"
   ]
  },
  {
   "cell_type": "code",
   "execution_count": 13,
   "id": "90b73f40-c7e7-47c9-bea6-940bb976b862",
   "metadata": {},
   "outputs": [
    {
     "data": {
      "text/html": [
       "<div><i>Table length=6</i>\n",
       "<table id=\"table139956701033088\" class=\"table-striped table-bordered table-condensed\">\n",
       "<thead><tr><th>index</th><th>file_index</th><th>table_index</th><th>obs_id</th><th>tel_type_id</th><th>event_id</th><th>tel_id</th><th>features</th><th>true_energy</th><th>true_alt</th><th>true_az</th><th>true_shower_primary_id</th><th>telescope_pointing_azimuth</th><th>telescope_pointing_altitude</th><th>cam_coord_offset_x</th><th>cam_coord_offset_y</th><th>cam_coord_distance</th><th>pointing_altitude</th><th>pointing_azimuth</th><th>fov_lon</th><th>fov_lat</th><th>angular_separation</th><th>log_true_energy</th><th>true_shower_primary_class</th></tr></thead>\n",
       "<thead><tr><th></th><th></th><th></th><th></th><th></th><th></th><th></th><th></th><th>TeV</th><th>deg</th><th>deg</th><th></th><th>rad</th><th>rad</th><th>m</th><th>m</th><th>m</th><th>rad</th><th>rad</th><th>deg</th><th>deg</th><th>deg</th><th>TeV</th><th></th></tr></thead>\n",
       "<thead><tr><th>int64</th><th>int64</th><th>int64</th><th>int32</th><th>int64</th><th>int64</th><th>int64</th><th>float32[117,117,2]</th><th>float64</th><th>float64</th><th>float64</th><th>int64</th><th>float32</th><th>float32</th><th>float64</th><th>float64</th><th>float64</th><th>float32</th><th>float32</th><th>float64</th><th>float64</th><th>float64</th><th>float64</th><th>int64</th></tr></thead>\n",
       "<tr><td>0</td><td>0</td><td>16</td><td>1</td><td>0</td><td>11003</td><td>1</td><td>0.0 .. 0.0</td><td>3.087752103805542</td><td>68.61633311894738</td><td>173.44679367016593</td><td>0</td><td>3.1415927</td><td>1.2217305</td><td>-0.6134895675770886</td><td>-1.1657413278461988</td><td>1.317316322291097</td><td>1.2217305</td><td>3.1415927</td><td>-2.3854306460558434</td><td>-1.2553701070526102</td><td>2.6954262694647966</td><td>0.48964242629100024</td><td>1</td></tr>\n",
       "<tr><td>1</td><td>0</td><td>27</td><td>1</td><td>0</td><td>16705</td><td>1</td><td>0.0 .. 0.0</td><td>0.033296361565589905</td><td>71.92650233792402</td><td>180.97296545622464</td><td>0</td><td>3.1415927</td><td>1.2217305</td><td>0.9426445421999811</td><td>0.1475880177711319</td><td>0.9541283749732129</td><td>1.2217305</td><td>3.1415927</td><td>0.3020060901781303</td><td>1.9289126374678764</td><td>1.952402924815278</td><td>-1.4776032210978505</td><td>1</td></tr>\n",
       "<tr><td>2</td><td>0</td><td>29</td><td>1</td><td>0</td><td>19806</td><td>1</td><td>0.0 .. 0.0</td><td>0.02084529772400856</td><td>68.04747398373371</td><td>184.67872557155007</td><td>0</td><td>3.1415927</td><td>1.2217305</td><td>-0.9213888049369627</td><td>0.8544094084317081</td><td>1.2565718312455463</td><td>1.2217305</td><td>3.1415927</td><td>1.7483590385502232</td><td>-1.8854174933389514</td><td>2.5710805048897494</td><td>-1.6809918976607023</td><td>1</td></tr>\n",
       "<tr><td>3</td><td>0</td><td>94</td><td>1</td><td>0</td><td>51504</td><td>1</td><td>0.0 .. 0.0</td><td>0.04013809934258461</td><td>71.26350953556923</td><td>182.9409751825371</td><td>0</td><td>3.1415927</td><td>1.2217305</td><td>0.6286017750805742</td><td>0.4615957873415853</td><td>0.7798787486051578</td><td>1.2217305</td><td>3.1415927</td><td>0.9445532305603968</td><td>1.286293882376741</td><td>1.5958016360070801</td><td>-1.3964431964865704</td><td>1</td></tr>\n",
       "<tr><td>4</td><td>0</td><td>104</td><td>1</td><td>0</td><td>54504</td><td>1</td><td>0.0 .. 0.0</td><td>0.8048833012580872</td><td>68.4852481283965</td><td>183.58589530434804</td><td>0</td><td>3.1415927</td><td>1.2217305</td><td>-0.7213485610053061</td><td>0.6425253776160327</td><td>0.966013771819559</td><td>1.2217305</td><td>3.1415927</td><td>1.3147854416945775</td><td>-1.4760795751228295</td><td>1.9766358288469104</td><td>-0.09426708272977585</td><td>1</td></tr>\n",
       "<tr><td>5</td><td>0</td><td>110</td><td>1</td><td>0</td><td>58506</td><td>1</td><td>0.0 .. 0.0</td><td>6.768490314483643</td><td>65.67195468097079</td><td>181.27447732694569</td><td>0</td><td>3.1415927</td><td>1.2217305</td><td>-2.1123925335951648</td><td>0.2572934249280909</td><td>2.128004258101902</td><td>1.2217305</td><td>3.1415927</td><td>0.526493833744489</td><td>-4.322542030355353</td><td>4.3544275472421825</td><td>0.8304918117865314</td><td>1</td></tr>\n",
       "</table></div>"
      ],
      "text/plain": [
       "<Table length=6>\n",
       "index file_index table_index ...   log_true_energy    true_shower_primary_class\n",
       "                             ...         TeV                                   \n",
       "int64   int64       int64    ...       float64                  int64          \n",
       "----- ---------- ----------- ... -------------------- -------------------------\n",
       "    0          0          16 ...  0.48964242629100024                         1\n",
       "    1          0          27 ...  -1.4776032210978505                         1\n",
       "    2          0          29 ...  -1.6809918976607023                         1\n",
       "    3          0          94 ...  -1.3964431964865704                         1\n",
       "    4          0         104 ... -0.09426708272977585                         1\n",
       "    5          0         110 ...   0.8304918117865314                         1"
      ]
     },
     "execution_count": 13,
     "metadata": {},
     "output_type": "execute_result"
    }
   ],
   "source": [
    "reader.generate_mono_batch(batch_indices=[0,1,2,3,4,5])"
   ]
  },
  {
   "cell_type": "code",
   "execution_count": 6,
   "id": "7ce7efb5-febf-40f3-9d05-efe171e70e94",
   "metadata": {},
   "outputs": [
    {
     "data": {
      "text/html": [
       "<div><i>Table length=10000</i>\n",
       "<table id=\"table139956696047072\" class=\"table-striped table-bordered table-condensed\">\n",
       "<thead><tr><th>index</th><th>file_index</th><th>table_index</th><th>obs_id</th><th>tel_type_id</th><th>event_id</th><th>tel_id</th><th>true_energy</th><th>true_alt</th><th>true_az</th><th>true_shower_primary_id</th><th>telescope_pointing_azimuth</th><th>telescope_pointing_altitude</th><th>cam_coord_offset_x</th><th>cam_coord_offset_y</th><th>cam_coord_distance</th><th>pointing_altitude</th><th>pointing_azimuth</th><th>fov_lon</th><th>fov_lat</th><th>angular_separation</th><th>log_true_energy</th><th>true_shower_primary_class</th></tr></thead>\n",
       "<thead><tr><th></th><th></th><th></th><th></th><th></th><th></th><th></th><th>TeV</th><th>deg</th><th>deg</th><th></th><th>rad</th><th>rad</th><th>m</th><th>m</th><th>m</th><th>rad</th><th>rad</th><th>deg</th><th>deg</th><th>deg</th><th>TeV</th><th></th></tr></thead>\n",
       "<thead><tr><th>int64</th><th>int64</th><th>int64</th><th>int32</th><th>int64</th><th>int64</th><th>int64</th><th>float64</th><th>float64</th><th>float64</th><th>int64</th><th>float32</th><th>float32</th><th>float64</th><th>float64</th><th>float64</th><th>float32</th><th>float32</th><th>float64</th><th>float64</th><th>float64</th><th>float64</th><th>int64</th></tr></thead>\n",
       "<tr><td>0</td><td>0</td><td>0</td><td>4</td><td>0</td><td>100</td><td>1</td><td>5.560657024383545</td><td>62.91127418072167</td><td>163.72799455674974</td><td>101</td><td>3.1415927</td><td>1.2217305</td><td>-2.981054172414966</td><td>-3.6028988378148377</td><td>4.676276725601276</td><td>1.2217305</td><td>3.1415927</td><td>-7.372532050692125</td><td>-6.100065092115785</td><td>9.558204415117828</td><td>0.7451261090651803</td><td>1</td></tr>\n",
       "<tr><td>1</td><td>0</td><td>1</td><td>4</td><td>0</td><td>101</td><td>1</td><td>5.560657024383545</td><td>62.91127418072167</td><td>163.72799455674974</td><td>101</td><td>3.1415927</td><td>1.2217305</td><td>-2.981054172414966</td><td>-3.6028988378148377</td><td>4.676276725601276</td><td>1.2217305</td><td>3.1415927</td><td>-7.372532050692125</td><td>-6.100065092115785</td><td>9.558204415117828</td><td>0.7451261090651803</td><td>1</td></tr>\n",
       "<tr><td>2</td><td>0</td><td>2</td><td>4</td><td>0</td><td>102</td><td>1</td><td>5.560657024383545</td><td>62.91127418072167</td><td>163.72799455674974</td><td>101</td><td>3.1415927</td><td>1.2217305</td><td>-2.981054172414966</td><td>-3.6028988378148377</td><td>4.676276725601276</td><td>1.2217305</td><td>3.1415927</td><td>-7.372532050692125</td><td>-6.100065092115785</td><td>9.558204415117828</td><td>0.7451261090651803</td><td>1</td></tr>\n",
       "<tr><td>3</td><td>0</td><td>3</td><td>4</td><td>0</td><td>103</td><td>1</td><td>5.560657024383545</td><td>62.91127418072167</td><td>163.72799455674974</td><td>101</td><td>3.1415927</td><td>1.2217305</td><td>-2.981054172414966</td><td>-3.6028988378148377</td><td>4.676276725601276</td><td>1.2217305</td><td>3.1415927</td><td>-7.372532050692125</td><td>-6.100065092115785</td><td>9.558204415117828</td><td>0.7451261090651803</td><td>1</td></tr>\n",
       "<tr><td>4</td><td>0</td><td>4</td><td>4</td><td>0</td><td>104</td><td>1</td><td>5.560657024383545</td><td>62.91127418072167</td><td>163.72799455674974</td><td>101</td><td>3.1415927</td><td>1.2217305</td><td>-2.981054172414966</td><td>-3.6028988378148377</td><td>4.676276725601276</td><td>1.2217305</td><td>3.1415927</td><td>-7.372532050692125</td><td>-6.100065092115785</td><td>9.558204415117828</td><td>0.7451261090651803</td><td>1</td></tr>\n",
       "<tr><td>5</td><td>0</td><td>5</td><td>4</td><td>0</td><td>105</td><td>1</td><td>5.560657024383545</td><td>62.91127418072167</td><td>163.72799455674974</td><td>101</td><td>3.1415927</td><td>1.2217305</td><td>-2.981054172414966</td><td>-3.6028988378148377</td><td>4.676276725601276</td><td>1.2217305</td><td>3.1415927</td><td>-7.372532050692125</td><td>-6.100065092115785</td><td>9.558204415117828</td><td>0.7451261090651803</td><td>1</td></tr>\n",
       "<tr><td>6</td><td>0</td><td>6</td><td>4</td><td>0</td><td>106</td><td>1</td><td>5.560657024383545</td><td>62.91127418072167</td><td>163.72799455674974</td><td>101</td><td>3.1415927</td><td>1.2217305</td><td>-2.981054172414966</td><td>-3.6028988378148377</td><td>4.676276725601276</td><td>1.2217305</td><td>3.1415927</td><td>-7.372532050692125</td><td>-6.100065092115785</td><td>9.558204415117828</td><td>0.7451261090651803</td><td>1</td></tr>\n",
       "<tr><td>7</td><td>0</td><td>7</td><td>4</td><td>0</td><td>107</td><td>1</td><td>5.560657024383545</td><td>62.91127418072167</td><td>163.72799455674974</td><td>101</td><td>3.1415927</td><td>1.2217305</td><td>-2.981054172414966</td><td>-3.6028988378148377</td><td>4.676276725601276</td><td>1.2217305</td><td>3.1415927</td><td>-7.372532050692125</td><td>-6.100065092115785</td><td>9.558204415117828</td><td>0.7451261090651803</td><td>1</td></tr>\n",
       "<tr><td>8</td><td>0</td><td>8</td><td>4</td><td>0</td><td>108</td><td>1</td><td>5.560657024383545</td><td>62.91127418072167</td><td>163.72799455674974</td><td>101</td><td>3.1415927</td><td>1.2217305</td><td>-2.981054172414966</td><td>-3.6028988378148377</td><td>4.676276725601276</td><td>1.2217305</td><td>3.1415927</td><td>-7.372532050692125</td><td>-6.100065092115785</td><td>9.558204415117828</td><td>0.7451261090651803</td><td>1</td></tr>\n",
       "<tr><td>...</td><td>...</td><td>...</td><td>...</td><td>...</td><td>...</td><td>...</td><td>...</td><td>...</td><td>...</td><td>...</td><td>...</td><td>...</td><td>...</td><td>...</td><td>...</td><td>...</td><td>...</td><td>...</td><td>...</td><td>...</td><td>...</td><td>...</td></tr>\n",
       "<tr><td>9991</td><td>0</td><td>9991</td><td>4</td><td>0</td><td>100001</td><td>1</td><td>0.040821246802806854</td><td>64.94539330801068</td><td>197.73476877381287</td><td>101</td><td>3.1415927</td><td>1.2217305</td><td>-1.9389710344809576</td><td>3.630766627624611</td><td>4.116075190861889</td><td>1.2217305</td><td>3.1415927</td><td>7.429557291422756</td><td>-3.9676734597812175</td><td>8.417386411781283</td><td>-1.3891137347666962</td><td>1</td></tr>\n",
       "<tr><td>9992</td><td>0</td><td>9992</td><td>4</td><td>0</td><td>100002</td><td>1</td><td>0.040821246802806854</td><td>64.94539330801068</td><td>197.73476877381287</td><td>101</td><td>3.1415927</td><td>1.2217305</td><td>-1.9389710344809576</td><td>3.630766627624611</td><td>4.116075190861889</td><td>1.2217305</td><td>3.1415927</td><td>7.429557291422756</td><td>-3.9676734597812175</td><td>8.417386411781283</td><td>-1.3891137347666962</td><td>1</td></tr>\n",
       "<tr><td>9993</td><td>0</td><td>9993</td><td>4</td><td>0</td><td>100003</td><td>1</td><td>0.040821246802806854</td><td>64.94539330801068</td><td>197.73476877381287</td><td>101</td><td>3.1415927</td><td>1.2217305</td><td>-1.9389710344809576</td><td>3.630766627624611</td><td>4.116075190861889</td><td>1.2217305</td><td>3.1415927</td><td>7.429557291422756</td><td>-3.9676734597812175</td><td>8.417386411781283</td><td>-1.3891137347666962</td><td>1</td></tr>\n",
       "<tr><td>9994</td><td>0</td><td>9994</td><td>4</td><td>0</td><td>100004</td><td>1</td><td>0.040821246802806854</td><td>64.94539330801068</td><td>197.73476877381287</td><td>101</td><td>3.1415927</td><td>1.2217305</td><td>-1.9389710344809576</td><td>3.630766627624611</td><td>4.116075190861889</td><td>1.2217305</td><td>3.1415927</td><td>7.429557291422756</td><td>-3.9676734597812175</td><td>8.417386411781283</td><td>-1.3891137347666962</td><td>1</td></tr>\n",
       "<tr><td>9995</td><td>0</td><td>9995</td><td>4</td><td>0</td><td>100005</td><td>1</td><td>0.040821246802806854</td><td>64.94539330801068</td><td>197.73476877381287</td><td>101</td><td>3.1415927</td><td>1.2217305</td><td>-1.9389710344809576</td><td>3.630766627624611</td><td>4.116075190861889</td><td>1.2217305</td><td>3.1415927</td><td>7.429557291422756</td><td>-3.9676734597812175</td><td>8.417386411781283</td><td>-1.3891137347666962</td><td>1</td></tr>\n",
       "<tr><td>9996</td><td>0</td><td>9996</td><td>4</td><td>0</td><td>100006</td><td>1</td><td>0.040821246802806854</td><td>64.94539330801068</td><td>197.73476877381287</td><td>101</td><td>3.1415927</td><td>1.2217305</td><td>-1.9389710344809576</td><td>3.630766627624611</td><td>4.116075190861889</td><td>1.2217305</td><td>3.1415927</td><td>7.429557291422756</td><td>-3.9676734597812175</td><td>8.417386411781283</td><td>-1.3891137347666962</td><td>1</td></tr>\n",
       "<tr><td>9997</td><td>0</td><td>9997</td><td>4</td><td>0</td><td>100007</td><td>1</td><td>0.040821246802806854</td><td>64.94539330801068</td><td>197.73476877381287</td><td>101</td><td>3.1415927</td><td>1.2217305</td><td>-1.9389710344809576</td><td>3.630766627624611</td><td>4.116075190861889</td><td>1.2217305</td><td>3.1415927</td><td>7.429557291422756</td><td>-3.9676734597812175</td><td>8.417386411781283</td><td>-1.3891137347666962</td><td>1</td></tr>\n",
       "<tr><td>9998</td><td>0</td><td>9998</td><td>4</td><td>0</td><td>100008</td><td>1</td><td>0.040821246802806854</td><td>64.94539330801068</td><td>197.73476877381287</td><td>101</td><td>3.1415927</td><td>1.2217305</td><td>-1.9389710344809576</td><td>3.630766627624611</td><td>4.116075190861889</td><td>1.2217305</td><td>3.1415927</td><td>7.429557291422756</td><td>-3.9676734597812175</td><td>8.417386411781283</td><td>-1.3891137347666962</td><td>1</td></tr>\n",
       "<tr><td>9999</td><td>0</td><td>9999</td><td>4</td><td>0</td><td>100009</td><td>1</td><td>0.040821246802806854</td><td>64.94539330801068</td><td>197.73476877381287</td><td>101</td><td>3.1415927</td><td>1.2217305</td><td>-1.9389710344809576</td><td>3.630766627624611</td><td>4.116075190861889</td><td>1.2217305</td><td>3.1415927</td><td>7.429557291422756</td><td>-3.9676734597812175</td><td>8.417386411781283</td><td>-1.3891137347666962</td><td>1</td></tr>\n",
       "</table></div>"
      ],
      "text/plain": [
       "<Table length=10000>\n",
       "index file_index table_index ...   log_true_energy   true_shower_primary_class\n",
       "                             ...         TeV                                  \n",
       "int64   int64       int64    ...       float64                 int64          \n",
       "----- ---------- ----------- ... ------------------- -------------------------\n",
       "    0          0           0 ...  0.7451261090651803                         1\n",
       "    1          0           1 ...  0.7451261090651803                         1\n",
       "    2          0           2 ...  0.7451261090651803                         1\n",
       "    3          0           3 ...  0.7451261090651803                         1\n",
       "    4          0           4 ...  0.7451261090651803                         1\n",
       "    5          0           5 ...  0.7451261090651803                         1\n",
       "    6          0           6 ...  0.7451261090651803                         1\n",
       "    7          0           7 ...  0.7451261090651803                         1\n",
       "    8          0           8 ...  0.7451261090651803                         1\n",
       "  ...        ...         ... ...                 ...                       ...\n",
       " 9991          0        9991 ... -1.3891137347666962                         1\n",
       " 9992          0        9992 ... -1.3891137347666962                         1\n",
       " 9993          0        9993 ... -1.3891137347666962                         1\n",
       " 9994          0        9994 ... -1.3891137347666962                         1\n",
       " 9995          0        9995 ... -1.3891137347666962                         1\n",
       " 9996          0        9996 ... -1.3891137347666962                         1\n",
       " 9997          0        9997 ... -1.3891137347666962                         1\n",
       " 9998          0        9998 ... -1.3891137347666962                         1\n",
       " 9999          0        9999 ... -1.3891137347666962                         1"
      ]
     },
     "execution_count": 6,
     "metadata": {},
     "output_type": "execute_result"
    }
   ],
   "source": [
    "reader.example_identifiers\n"
   ]
  },
  {
   "cell_type": "code",
   "execution_count": 7,
   "id": "d4c70fa8-807e-4b77-aeb6-8e7813abd489",
   "metadata": {
    "scrolled": true
   },
   "outputs": [
    {
     "data": {
      "text/plain": [
       "['DBSCAN_params',\n",
       " '_DLDataReader__destructor',\n",
       " '__abstractmethods__',\n",
       " '__annotations__',\n",
       " '__class__',\n",
       " '__delattr__',\n",
       " '__dict__',\n",
       " '__dir__',\n",
       " '__doc__',\n",
       " '__eq__',\n",
       " '__firstlineno__',\n",
       " '__format__',\n",
       " '__ge__',\n",
       " '__getattribute__',\n",
       " '__getstate__',\n",
       " '__gt__',\n",
       " '__hash__',\n",
       " '__init__',\n",
       " '__init_subclass__',\n",
       " '__le__',\n",
       " '__lt__',\n",
       " '__module__',\n",
       " '__ne__',\n",
       " '__new__',\n",
       " '__reduce__',\n",
       " '__reduce_ex__',\n",
       " '__repr__',\n",
       " '__setattr__',\n",
       " '__setstate__',\n",
       " '__sizeof__',\n",
       " '__static_attributes__',\n",
       " '__str__',\n",
       " '__subclasshook__',\n",
       " '__weakref__',\n",
       " '_abc_impl',\n",
       " '_add_notifiers',\n",
       " '_all_trait_default_generators',\n",
       " '_append_features',\n",
       " '_config_changed',\n",
       " '_construct_mono_example_identifiers',\n",
       " '_construct_stereo_example_identifiers',\n",
       " '_cross_validation_lock',\n",
       " '_defining_class',\n",
       " '_descriptors',\n",
       " '_find_my_config',\n",
       " '_get_camera_type',\n",
       " '_get_n_events',\n",
       " '_get_trait_default_generator',\n",
       " '_instance_inits',\n",
       " '_load_config',\n",
       " '_notify_observers',\n",
       " '_notify_trait',\n",
       " '_register_validator',\n",
       " '_remove_notifiers',\n",
       " '_repr_html_',\n",
       " '_static_immutable_initial_values',\n",
       " '_trait_default_generators',\n",
       " '_trait_notifiers',\n",
       " '_trait_validators',\n",
       " '_trait_values',\n",
       " '_traits',\n",
       " '_transform_to_log_energy',\n",
       " '_transform_to_spherical_offsets',\n",
       " '_v_attrs',\n",
       " 'add_traits',\n",
       " 'allowed_tel_types',\n",
       " 'allowed_tels',\n",
       " 'cam_name',\n",
       " 'class_config_rst_doc',\n",
       " 'class_config_section',\n",
       " 'class_get_help',\n",
       " 'class_get_trait_help',\n",
       " 'class_own_trait_events',\n",
       " 'class_own_traits',\n",
       " 'class_print_help',\n",
       " 'class_trait_names',\n",
       " 'class_traits',\n",
       " 'class_weight',\n",
       " 'cleaning_type',\n",
       " 'config',\n",
       " 'cross_validation_lock',\n",
       " 'data_format_version',\n",
       " 'dl1b_parameter_colnames',\n",
       " 'example_identifiers',\n",
       " 'example_ids_keep_columns',\n",
       " 'files',\n",
       " 'first_file',\n",
       " 'from_name',\n",
       " 'generate_mono_batch',\n",
       " 'generate_stereo_batch',\n",
       " 'get_current_config',\n",
       " 'get_parameters',\n",
       " 'get_tel_pointing',\n",
       " 'has_trait',\n",
       " 'hold_trait_notifications',\n",
       " 'image_mapper_type',\n",
       " 'image_mappers',\n",
       " 'input_shape',\n",
       " 'input_url_background',\n",
       " 'input_url_signal',\n",
       " 'instrument_id',\n",
       " 'log',\n",
       " 'min_telescopes',\n",
       " 'min_telescopes_of_type',\n",
       " 'mode',\n",
       " 'n_signal_events',\n",
       " 'non_abstract_subclasses',\n",
       " 'notify_change',\n",
       " 'observe',\n",
       " 'on_trait_change',\n",
       " 'parent',\n",
       " 'passes_quality_checks',\n",
       " 'process_type',\n",
       " 'quality_cuts',\n",
       " 'quality_query',\n",
       " 'readout_length',\n",
       " 'section_names',\n",
       " 'selected_telescopes',\n",
       " 'sequence_length',\n",
       " 'sequence_position',\n",
       " 'set_trait',\n",
       " 'setup_instance',\n",
       " 'simulation_info',\n",
       " 'skip_incompatible_files',\n",
       " 'subarray',\n",
       " 'subarray_trigger_table',\n",
       " 'tel_ids',\n",
       " 'tel_trigger_table',\n",
       " 'tel_type',\n",
       " 'telescope_pointings',\n",
       " 'trait_defaults',\n",
       " 'trait_events',\n",
       " 'trait_has_value',\n",
       " 'trait_metadata',\n",
       " 'trait_names',\n",
       " 'trait_values',\n",
       " 'traits',\n",
       " 'unobserve',\n",
       " 'unobserve_all',\n",
       " 'update_config',\n",
       " 'waveform_settings']"
      ]
     },
     "execution_count": 7,
     "metadata": {},
     "output_type": "execute_result"
    }
   ],
   "source": [
    "dir(reader)"
   ]
  },
  {
   "cell_type": "code",
   "execution_count": 48,
   "id": "0c0a9d38-e000-4870-b9df-61f0475a3a20",
   "metadata": {
    "scrolled": true
   },
   "outputs": [
    {
     "name": "stdout",
     "output_type": "stream",
     "text": [
      "Help on method generate_mono_batch in module dl1_data_handler.reader:\n",
      "\n",
      "generate_mono_batch(batch_indices) -> astropy.table.table.Table method of dl1_data_handler.reader.DLWaveformReader instance\n",
      "    Generate a batch of events for mono mode.\n",
      "\n",
      "    This method generates a batch of examples for the mono mode of operation.\n",
      "    It retrieves the DL1b parameters and other relevant data for the specified\n",
      "    batch indices and constructs a dictionary of input features optionally with\n",
      "    a table of DL1b parameters.\n",
      "\n",
      "    Parameters\n",
      "    ----------\n",
      "    batch_indices : list of int\n",
      "        List of indices specifying the examples to include in the batch.\n",
      "    dl1b_parameter_list : list of str, optional\n",
      "        List of DL1b parameter names to include in the output table. If ``None``,\n",
      "        no DL1b parameters are included.\n",
      "\n",
      "    Returns\n",
      "    -------\n",
      "    dict\n",
      "        Dictionary containing the input features for the batch. The keys are\n",
      "        the feature names and the values are the corresponding data arrays.\n",
      "    Table\n",
      "        Table containing the DL1b parameters for the batch. The columns are\n",
      "        the specified DL1b parameters and the rows correspond to the examples\n",
      "        in the batch.\n",
      "\n"
     ]
    }
   ],
   "source": [
    "help(reader.generate_mono_batch)"
   ]
  },
  {
   "cell_type": "code",
   "execution_count": 8,
   "id": "e602dfd7-1413-4d48-9ed6-c44c1e13342a",
   "metadata": {},
   "outputs": [],
   "source": [
    "#reader._construct_mono_example_identifiers()"
   ]
  },
  {
   "cell_type": "code",
   "execution_count": 8,
   "id": "a1a992de-ce19-4fe2-b9b2-5f0d35d028bf",
   "metadata": {},
   "outputs": [
    {
     "data": {
      "text/plain": [
       "20000"
      ]
     },
     "execution_count": 8,
     "metadata": {},
     "output_type": "execute_result"
    }
   ],
   "source": [
    "reader._get_n_events()"
   ]
  },
  {
   "cell_type": "code",
   "execution_count": 4,
   "id": "54ea40cc-5382-48e4-bbcf-be24227610be",
   "metadata": {},
   "outputs": [
    {
     "data": {
      "text/html": [
       "<div><i>Table length=6</i>\n",
       "<table id=\"table140052536976576\" class=\"table-striped table-bordered table-condensed\">\n",
       "<thead><tr><th>index</th><th>file_index</th><th>table_index</th><th>obs_id</th><th>tel_type_id</th><th>event_id</th><th>tel_id</th><th>features</th><th>true_energy</th><th>true_alt</th><th>true_az</th><th>true_shower_primary_id</th><th>telescope_pointing_azimuth</th><th>telescope_pointing_altitude</th><th>cam_coord_offset_x</th><th>cam_coord_offset_y</th><th>cam_coord_distance</th><th>pointing_altitude</th><th>pointing_azimuth</th><th>fov_lon</th><th>fov_lat</th><th>angular_separation</th><th>log_true_energy</th><th>true_shower_primary_class</th></tr></thead>\n",
       "<thead><tr><th></th><th></th><th></th><th></th><th></th><th></th><th></th><th></th><th>TeV</th><th>deg</th><th>deg</th><th></th><th>rad</th><th>rad</th><th>m</th><th>m</th><th>m</th><th>rad</th><th>rad</th><th>deg</th><th>deg</th><th>deg</th><th>TeV</th><th></th></tr></thead>\n",
       "<thead><tr><th>int64</th><th>int64</th><th>int64</th><th>int32</th><th>int64</th><th>int64</th><th>int64</th><th>float32[117,117,2]</th><th>float64</th><th>float64</th><th>float64</th><th>int64</th><th>float32</th><th>float32</th><th>float64</th><th>float64</th><th>float64</th><th>float32</th><th>float32</th><th>float64</th><th>float64</th><th>float64</th><th>float64</th><th>int64</th></tr></thead>\n",
       "<tr><td>0</td><td>0</td><td>0</td><td>4</td><td>0</td><td>100</td><td>1</td><td>0.0 .. 0.0</td><td>5.560657024383545</td><td>62.91127418072167</td><td>163.72799455674974</td><td>101</td><td>3.1415927</td><td>1.2217305</td><td>-2.981054172414966</td><td>-3.6028988378148377</td><td>4.676276725601276</td><td>1.2217305</td><td>3.1415927</td><td>-7.372532050692125</td><td>-6.100065092115785</td><td>9.558204415117828</td><td>0.7451261090651803</td><td>1</td></tr>\n",
       "<tr><td>1</td><td>0</td><td>1</td><td>4</td><td>0</td><td>101</td><td>1</td><td>0.0 .. 0.0</td><td>5.560657024383545</td><td>62.91127418072167</td><td>163.72799455674974</td><td>101</td><td>3.1415927</td><td>1.2217305</td><td>-2.981054172414966</td><td>-3.6028988378148377</td><td>4.676276725601276</td><td>1.2217305</td><td>3.1415927</td><td>-7.372532050692125</td><td>-6.100065092115785</td><td>9.558204415117828</td><td>0.7451261090651803</td><td>1</td></tr>\n",
       "<tr><td>2</td><td>0</td><td>2</td><td>4</td><td>0</td><td>102</td><td>1</td><td>0.0 .. 0.0</td><td>5.560657024383545</td><td>62.91127418072167</td><td>163.72799455674974</td><td>101</td><td>3.1415927</td><td>1.2217305</td><td>-2.981054172414966</td><td>-3.6028988378148377</td><td>4.676276725601276</td><td>1.2217305</td><td>3.1415927</td><td>-7.372532050692125</td><td>-6.100065092115785</td><td>9.558204415117828</td><td>0.7451261090651803</td><td>1</td></tr>\n",
       "<tr><td>3</td><td>0</td><td>3</td><td>4</td><td>0</td><td>103</td><td>1</td><td>0.0 .. 0.0</td><td>5.560657024383545</td><td>62.91127418072167</td><td>163.72799455674974</td><td>101</td><td>3.1415927</td><td>1.2217305</td><td>-2.981054172414966</td><td>-3.6028988378148377</td><td>4.676276725601276</td><td>1.2217305</td><td>3.1415927</td><td>-7.372532050692125</td><td>-6.100065092115785</td><td>9.558204415117828</td><td>0.7451261090651803</td><td>1</td></tr>\n",
       "<tr><td>4</td><td>0</td><td>4</td><td>4</td><td>0</td><td>104</td><td>1</td><td>0.0 .. 0.0</td><td>5.560657024383545</td><td>62.91127418072167</td><td>163.72799455674974</td><td>101</td><td>3.1415927</td><td>1.2217305</td><td>-2.981054172414966</td><td>-3.6028988378148377</td><td>4.676276725601276</td><td>1.2217305</td><td>3.1415927</td><td>-7.372532050692125</td><td>-6.100065092115785</td><td>9.558204415117828</td><td>0.7451261090651803</td><td>1</td></tr>\n",
       "<tr><td>5</td><td>0</td><td>5</td><td>4</td><td>0</td><td>105</td><td>1</td><td>0.0 .. 0.0</td><td>5.560657024383545</td><td>62.91127418072167</td><td>163.72799455674974</td><td>101</td><td>3.1415927</td><td>1.2217305</td><td>-2.981054172414966</td><td>-3.6028988378148377</td><td>4.676276725601276</td><td>1.2217305</td><td>3.1415927</td><td>-7.372532050692125</td><td>-6.100065092115785</td><td>9.558204415117828</td><td>0.7451261090651803</td><td>1</td></tr>\n",
       "</table></div>"
      ],
      "text/plain": [
       "<Table length=6>\n",
       "index file_index table_index ...  log_true_energy   true_shower_primary_class\n",
       "                             ...        TeV                                  \n",
       "int64   int64       int64    ...      float64                 int64          \n",
       "----- ---------- ----------- ... ------------------ -------------------------\n",
       "    0          0           0 ... 0.7451261090651803                         1\n",
       "    1          0           1 ... 0.7451261090651803                         1\n",
       "    2          0           2 ... 0.7451261090651803                         1\n",
       "    3          0           3 ... 0.7451261090651803                         1\n",
       "    4          0           4 ... 0.7451261090651803                         1\n",
       "    5          0           5 ... 0.7451261090651803                         1"
      ]
     },
     "execution_count": 4,
     "metadata": {},
     "output_type": "execute_result"
    }
   ],
   "source": [
    "reader.generate_mono_batch(batch_indices=[0,1,2,3,4,5])"
   ]
  },
  {
   "cell_type": "code",
   "execution_count": 14,
   "id": "c9629a13-5dc4-42cd-b2bc-0f317ea08a62",
   "metadata": {},
   "outputs": [],
   "source": [
    "waveform = reader.generate_mono_batch(batch_indices=[0,1,2,3,4,5])['features'][4]"
   ]
  },
  {
   "cell_type": "code",
   "execution_count": 16,
   "id": "ab80fc6a-4614-4d23-b390-10dd40cafad9",
   "metadata": {},
   "outputs": [
    {
     "data": {
      "image/png": "[encoded data removed]",
      "text/plain": [
       "<Figure size 640x480 with 2 Axes>"
      ]
     },
     "metadata": {},
     "output_type": "display_data"
    }
   ],
   "source": [
    "\n",
    "plt.figure()\n",
    "plt.pcolor(waveform[:,:,0],cmap='viridis')\n",
    "plt.colorbar(label=\"pe\")\n",
    "plt.show()\n",
    "plt.close()"
   ]
  }
 ],
 "metadata": {
  "kernelspec": {
   "display_name": "Python 3 (ipykernel)",
   "language": "python",
   "name": "python3"
  },
  "language_info": {
   "codemirror_mode": {
    "name": "ipython",
    "version": 3
   },
   "file_extension": ".py",
   "mimetype": "text/x-python",
   "name": "python",
   "nbconvert_exporter": "python",
   "pygments_lexer": "ipython3",
   "version": "3.13.2"
  }
 },
 "nbformat": 4,
 "nbformat_minor": 5
}
